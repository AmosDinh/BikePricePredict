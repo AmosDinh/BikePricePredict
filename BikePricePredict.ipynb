{
  "cells": [
    {
      "cell_type": "code",
      "execution_count": 1,
      "metadata": {
        "colab": {
          "base_uri": "https://localhost:8080/"
        },
        "id": "SMVlWo4iKyck",
        "outputId": "43c372b1-6f5c-4b9d-9fe0-2ebb54294829"
      },
      "outputs": [
        {
          "output_type": "stream",
          "name": "stdout",
          "text": [
            "Running in Google Colab\n",
            "Mounted at /content/drive\n"
          ]
        }
      ],
      "source": [
        "import os\n",
        "\n",
        "colab = 'COLAB_GPU' in os.environ\n",
        "if colab:\n",
        "    print(\"Running in Google Colab\")\n",
        "    from google.colab import drive\n",
        "    drive.mount('/content/drive', force_remount=True)\n",
        "    DRIVE_FOLDER = '/content/drive/MyDrive/Data/BikePricePredict/'"
      ]
    },
    {
      "cell_type": "code",
      "source": [
        "!unzip /content/drive/MyDrive/Data/BikePricePredict/bicycles_all_keep_nodupes3_resized.zip -d /content/data/"
      ],
      "metadata": {
        "id": "q-DYpD9rFea8",
        "outputId": "715d9fd6-64b6-41c9-b360-5bb2fbb13dec",
        "colab": {
          "base_uri": "https://localhost:8080/"
        }
      },
      "execution_count": null,
      "outputs": [
        {
          "output_type": "stream",
          "name": "stdout",
          "text": [
            "Archive:  /content/drive/MyDrive/Data/BikePricePredict/bicycles_all_keep_nodupes3_resized.zip\n",
            "replace /content/data/bicycles_all_keep_nodupes3_resized/00004c6e-c371-330a-936b-7e1560048f66_375.50.jpg? [y]es, [n]o, [A]ll, [N]one, [r]ename: "
          ]
        }
      ]
    },
    {
      "cell_type": "code",
      "execution_count": null,
      "metadata": {
        "id": "5A6B728SKmPL"
      },
      "outputs": [],
      "source": [
        "import numpy as np\n",
        "import os\n",
        "import PIL\n",
        "import PIL.Image\n",
        "import tensorflow as tf"
      ]
    },
    {
      "cell_type": "code",
      "source": [],
      "metadata": {
        "id": "2XW02xIzFpsv"
      },
      "execution_count": null,
      "outputs": []
    },
    {
      "cell_type": "code",
      "execution_count": null,
      "metadata": {
        "id": "pQWhhqpuKmPP"
      },
      "outputs": [],
      "source": [
        "def get_dataset_path_and_labels(dataset_path):\n",
        "    labels = []\n",
        "    files = []\n",
        "    for file in os.listdir(dataset_path):\n",
        "        if 'Steuern' in file:\n",
        "          continue\n",
        "        label = file.split('_')[-1].replace('.jpg','').replace('ÿ','').replace('ÿ','').replace('ab','').strip()\n",
        "        labels.append(float(label))\n",
        "        files.append(os.path.join(dataset_path, file))\n",
        "    return files, labels"
      ]
    },
    {
      "cell_type": "code",
      "execution_count": null,
      "metadata": {
        "id": "ALSKuaS-KmPQ"
      },
      "outputs": [],
      "source": [
        "\n",
        "def load_and_preprocess_image(path, label):\n",
        "    image = tf.io.read_file(path)\n",
        "    image = tf.image.decode_jpeg(image, channels=3)\n",
        "\n",
        "    ''' # preprocess\n",
        "    image = tf.image.resize(image, [256, 256])\n",
        "    image /= 255.0 # normalize '''\n",
        "\n",
        "\n",
        "    '''  # Flip the image horizontally\n",
        "    flipped_image = tf.image.flip_left_right(image) '''\n",
        "\n",
        "   \n",
        "    \n",
        "    # Add the augmented images to the dataset\n",
        "    ''' images = tf.stack([image, flipped_image])\n",
        "    labels = tf.stack([label, label, label]) '''\n",
        "\n",
        "    return image, label\n",
        "\n",
        "\n",
        "\n"
      ]
    },
    {
      "cell_type": "code",
      "execution_count": null,
      "metadata": {
        "id": "_U7YqCj9KmPQ"
      },
      "outputs": [],
      "source": [
        "from tensorflow.keras import layers\n",
        "import numpy as np\n",
        "\n",
        "def get_dataset(dataset_path, skip, take, random_seed):\n",
        "    \n",
        "    files, labels = get_dataset_path_and_labels(dataset_path)\n",
        "\n",
        "    shuffled_index = np.random.RandomState(seed=random_seed).permutation(len(files))\n",
        "    take_index = shuffled_index[skip:skip+take]\n",
        "    files = [files[i] for i in take_index]\n",
        "    labels = [labels[i] for i in take_index]\n",
        "\n",
        "    ds = tf.data.Dataset.from_tensor_slices((files, labels))\n",
        "    ds = ds.map(load_and_preprocess_image)\n",
        "    return ds\n",
        "\n",
        "\n",
        "import os\n",
        "\n",
        "if colab:\n",
        "    #dir = DRIVE_FOLDER+'bicycles_resized_1024_20k'\n",
        "    dir = '/content/data/bicycles_all_keep_nodupes3_resized/'\n",
        "  \n",
        "else:\n",
        "    print(\"Running locally\")\n",
        "\n",
        "\n",
        "IMG_SIZE = 256\n",
        "data_preprocessing = tf.keras.Sequential([\n",
        "  layers.Resizing(IMG_SIZE, IMG_SIZE),\n",
        "  layers.Rescaling(1./255),\n",
        "  layers.RandomFlip(\"horizontal\"),\n",
        "  layers.RandomRotation(0.01),\n",
        "  \n",
        "])\n",
        "\n",
        "\n",
        "\n",
        "\n",
        "test_size = 1000\n",
        "dev_size = 1000\n",
        "\n",
        "\n",
        "seed = 4\n",
        "# no shuffling\n",
        "test_dataset = get_dataset(dir, skip=0, take=test_size, random_seed=seed)\n",
        "dev_dataset = get_dataset(dir, skip=test_size, take=dev_size, random_seed=seed)\n",
        "train_dataset = get_dataset(dir, skip=test_size+dev_size, take=10000000, random_seed=seed)\n",
        "\n",
        "\n",
        "\n",
        "\n",
        "train_dataset = train_dataset.map(lambda x, y : (data_preprocessing(x, training=True), y) )\n",
        "dev_dataset = dev_dataset.map(lambda x, y : (data_preprocessing(x, training=False), y) )\n",
        "test_dataset = test_dataset.map(lambda x, y : (data_preprocessing(x, training=False), y) )"
      ]
    },
    {
      "cell_type": "code",
      "execution_count": null,
      "metadata": {
        "id": "lv14jb2rRNit"
      },
      "outputs": [],
      "source": [
        "len(train_dataset), len(dev_dataset), len(test_dataset)"
      ]
    },
    {
      "cell_type": "code",
      "source": [
        "x, y = next(train_dataset.take(1).as_numpy_iterator())"
      ],
      "metadata": {
        "id": "nh6eCRp77l-H"
      },
      "execution_count": null,
      "outputs": []
    },
    {
      "cell_type": "code",
      "execution_count": null,
      "metadata": {
        "id": "GFp46rOjKmPS"
      },
      "outputs": [],
      "source": [
        "import PIL\n",
        "# view x as image with PIL\n",
        "PIL.Image.fromarray((x * 255).astype(np.uint8))"
      ]
    },
    {
      "cell_type": "code",
      "execution_count": null,
      "metadata": {
        "id": "b0oNV7iwYcaV"
      },
      "outputs": [],
      "source": [
        "model2 = tf.keras.applications.ResNet50V2(weights='imagenet', include_top=False)\n",
        "model2.summary()"
      ]
    },
    {
      "cell_type": "code",
      "execution_count": null,
      "metadata": {
        "id": "2ueWzxEMYeWb"
      },
      "outputs": [],
      "source": [
        "# count conv2d layers in model2\n",
        "conv2d_indices = []\n",
        "for i, layer in enumerate(model2.layers):\n",
        "    if layer.name.endswith(\"conv\"):\n",
        "        conv2d_indices.append(i)\n",
        "\n",
        "len(conv2d_indices)"
      ]
    },
    {
      "cell_type": "code",
      "source": [
        "53 * 0.25"
      ],
      "metadata": {
        "id": "qnTdctWMfbZY"
      },
      "execution_count": null,
      "outputs": []
    },
    {
      "cell_type": "code",
      "execution_count": null,
      "metadata": {
        "id": "eMbAsx49YY_U"
      },
      "outputs": [],
      "source": [
        " # each block has approximately 3 conv2d layers\n",
        "idx  = -3*10 +1\n",
        "model2.layers[conv2d_indices[idx]].name, conv2d_indices[idx]"
      ]
    },
    {
      "cell_type": "code",
      "execution_count": null,
      "metadata": {
        "id": "hyJY8CfiYhDh"
      },
      "outputs": [],
      "source": []
    },
    {
      "cell_type": "code",
      "source": [],
      "metadata": {
        "id": "AKaQes1OSr7v"
      },
      "execution_count": null,
      "outputs": []
    },
    {
      "cell_type": "code",
      "execution_count": null,
      "metadata": {
        "id": "UvY5NgT_hLro"
      },
      "outputs": [],
      "source": [
        "def save_weights(model, weights_path):\n",
        "  for layer in model.layers:\n",
        "    layer.trainable=False\n",
        "  ''' for layer in base_model.layers:\n",
        "    layer.trainable=False '''\n",
        "  \n",
        "  model.save(weights_path)"
      ]
    },
    {
      "cell_type": "code",
      "execution_count": null,
      "metadata": {
        "id": "2VFVSxvFQrKu"
      },
      "outputs": [],
      "source": [
        "\n",
        "\n",
        "def make_model(base_model, unfreeze_start:int, weights_path=None):\n",
        "  \n",
        "  \n",
        "    \n",
        "    \n",
        "\n",
        "  base_model.trainable = False\n",
        "\n",
        "  inputs = tf.keras.Input(shape=(IMG_SIZE, IMG_SIZE, 3))\n",
        "  x = base_model(inputs, training=True) # training=True only enabled for unfrozen layers (?)\n",
        "  x = tf.keras.layers.GlobalAveragePooling2D()(x)\n",
        "  ''' x = tf.keras.layers.Dense(256, activation='relu')(x) '''\n",
        "  '''   x = tf.keras.layers.Dense(128, activation='relu')(x)\n",
        "  x = tf.keras.layers.Dense(64, activation='relu')(x) '''\n",
        "  outputs = tf.keras.layers.Dense(1, activation='relu')(x) # use relu because prices are always positive\n",
        "  model = tf.keras.Model(inputs, outputs)\n",
        "\n",
        " \n",
        "  if weights_path is not None:\n",
        "    unfr = int(weights_path.split('unfr')[-1].split('_')[0])\n",
        "    assert unfreeze_start == unfr\n",
        "\n",
        "    model.load_weights(weights_path)\n",
        "\n",
        "  # freeze base model\n",
        "  for layer in base_model.layers[unfreeze_start:]: # last, conv5 section\n",
        "    layer.trainable = True \n",
        "\n",
        "  \n",
        "  return model\n",
        "  \n",
        "# create keras resnet 50 v2 model\n",
        "base_model = tf.keras.applications.ResNet50V2(include_top=False, weights='imagenet')\n",
        "unfreeze_start = 163\n",
        "\n"
      ]
    },
    {
      "cell_type": "code",
      "execution_count": null,
      "metadata": {
        "id": "yLQ7Po4_hfLO"
      },
      "outputs": [],
      "source": [
        "\n",
        "#model = make_model(base_model, unfreeze_start, '/content/drive/MyDrive/Data/BikePricePredict/weights_unfr163_bs32_lr0.0001_ep200.h5')\n",
        "model = make_model(base_model, unfreeze_start)"
      ]
    },
    {
      "cell_type": "code",
      "source": [],
      "metadata": {
        "id": "0cuTQ5TxGvel"
      },
      "execution_count": null,
      "outputs": []
    },
    {
      "cell_type": "code",
      "source": [
        "model = make_model(base_model, unfreeze_start, DRIVE_FOLDER+'weights_unfr163_bs32_lr0.001_28k_1k_1k_256MAE_ep55.h5') \n"
      ],
      "metadata": {
        "id": "x6nIQNvUWQrJ"
      },
      "execution_count": null,
      "outputs": []
    },
    {
      "cell_type": "code",
      "execution_count": null,
      "metadata": {
        "id": "EHSV7y98jm8N"
      },
      "outputs": [],
      "source": [
        "# save_weights(model, '/content/drive/MyDrive/Data/BikePricePredict/test.h5')"
      ]
    },
    {
      "cell_type": "code",
      "execution_count": null,
      "metadata": {
        "id": "iTUBE4O8hvpU"
      },
      "outputs": [],
      "source": [
        "# model = make_model(base_model, '/content/drive/MyDrive/Data/BikePricePredict/test.h5')"
      ]
    },
    {
      "cell_type": "code",
      "source": [
        "import matplotlib.pyplot as plt\n",
        "x,y = next(train_dataset.take(3000).batch(3000).as_numpy_iterator())"
      ],
      "metadata": {
        "id": "-s0KUnnuZ6ou"
      },
      "execution_count": null,
      "outputs": []
    },
    {
      "cell_type": "code",
      "source": [
        "plt.hist(y)\n",
        "plt.title('bike prices')"
      ],
      "metadata": {
        "id": "C7g2NwtsaJij"
      },
      "execution_count": null,
      "outputs": []
    },
    {
      "cell_type": "code",
      "execution_count": null,
      "metadata": {
        "id": "JPwM_VD7pEzw"
      },
      "outputs": [],
      "source": [
        "import pandas as pd\n",
        "def fit(model, dataset, dev_dataset, batch_size , epochs, save_after_epochs, start_epoch_num, lr, unfreeze_start,  custom_tag='', dir=DRIVE_FOLDER):\n",
        "  model.compile(optimizer=tf.keras.optimizers.Adam(learning_rate=lr, ), # beta1, beta2, weight_decay\n",
        "                loss=tf.keras.losses.MeanSquaredError(),\n",
        "                metrics=['mse', 'mae']\n",
        "              )\n",
        "  for ep in range(0, epochs, save_after_epochs):\n",
        "    print(f'fit {ep+start_epoch_num}')\n",
        "    histories = None\n",
        "    with tf.device('/GPU:0'):\n",
        "      for _ in range(save_after_epochs):\n",
        "        history = model.fit(dataset.batch(batch_size), epochs=1)\n",
        "        loss, mse, mae = model.evaluate(dev_dataset.batch(batch_size))\n",
        "        print(f'dev mse: {mse}, mae: {mae}')\n",
        "        if histories is None:\n",
        "          histories = history.history\n",
        "          histories['dev_mse'] = [mse]\n",
        "          histories['dev_mae'] = [mae]\n",
        "        else:\n",
        "          for k, v in history.history.items():\n",
        "            histories[k] += v\n",
        "          histories['dev_mse'].append(mse)\n",
        "          histories['dev_mae'].append(mae)\n",
        "\n",
        "    # Convert the history to a Pandas DataFrame\n",
        "    history_df = pd.DataFrame(histories)\n",
        "    print(history_df)\n",
        "    # Save the history to a CSV file\n",
        "    history_df.to_csv(dir+f'history_unfr{str(unfreeze_start)}_bs{str(batch_size)}_lr{str(lr)}_{custom_tag}_ep{str(ep+start_epoch_num)}.csv', index=False)\n",
        "    save_weights(model, dir+f'weights_unfr{str(unfreeze_start)}_bs{str(batch_size)}_lr{str(lr)}_{custom_tag}_ep{str(ep+start_epoch_num)}.h5')\n",
        "    "
      ]
    },
    {
      "cell_type": "code",
      "execution_count": null,
      "metadata": {
        "id": "p5_YdTAApLGk"
      },
      "outputs": [],
      "source": [
        "fit(model, dataset=train_dataset, dev_dataset=dev_dataset, batch_size=32, epochs=100000, save_after_epochs=5, start_epoch_num=15, lr=0.001, unfreeze_start = unfreeze_start, custom_tag='28k_1k_1k_256MAE')"
      ]
    },
    {
      "cell_type": "code",
      "source": [
        "np.sqrt(5695112) "
      ],
      "metadata": {
        "id": "kiKLNLRxbC5F"
      },
      "execution_count": null,
      "outputs": []
    },
    {
      "cell_type": "code",
      "source": [
        "x,y = next(test_dataset.take(10).batch(10).as_numpy_iterator())\n",
        "model.predict(x), y"
      ],
      "metadata": {
        "id": "pvLrV1BeSn7G"
      },
      "execution_count": null,
      "outputs": []
    },
    {
      "cell_type": "code",
      "source": [
        "import os\n",
        "import numpy as np\n",
        "import matplotlib.pyplot as plt\n",
        "import pandas as pd\n",
        "\n",
        "def plot_loss(unfrozen_layers, lr:str, batch_size=None, minus_epochstart=0, custom_tag=None):\n",
        "  y = []\n",
        "  x = []\n",
        "  for file in os.listdir(DRIVE_FOLDER):\n",
        "    if 'unfr'+str(unfrozen_layers) in file and 'lr'+str(lr) in file and 'history' in file:\n",
        "      if batch_size is not None:\n",
        "        if 'bs'+str(batch_size) not in file:\n",
        "          continue\n",
        "      if custom_tag is not None:\n",
        "        if custom_tag not in file:\n",
        "          continue\n",
        "\n",
        "      epochstart = file.split('ep')[-1].replace('.csv','')\n",
        "      losses = pd.read_csv(DRIVE_FOLDER+file)['loss'].tolist() \n",
        "      xi = list(np.arange(len(losses)) +int(epochstart) - minus_epochstart)\n",
        "      y += losses\n",
        "      x += xi\n",
        "  #plt.title(f'RESNET50 v2')\n",
        "  \n",
        "  label = f'lr:{lr}, bs:{batch_size}, unfr.lay.{unfrozen_layers},  {custom_tag if custom_tag is not None else \"\"}'\n",
        "  plt.scatter(x, y, s = np.ones(len(y)), label=label)\n",
        "  plt.legend()\n",
        "\n",
        "\n",
        "  \n",
        "\n",
        "\n",
        "\n"
      ],
      "metadata": {
        "id": "F-TiV5SuEC9E"
      },
      "execution_count": null,
      "outputs": []
    },
    {
      "cell_type": "code",
      "source": [
        "(\n",
        "plot_loss(163, '0.001', batch_size=32),\n",
        "''' plot_loss(88, '0.001', batch_size=32), \n",
        "plot_loss(163, '0.0001', batch_size=32),\n",
        "plot_loss(163, '0.001', batch_size=128),  \n",
        "plot_loss(163, '0.003', minus_epochstart=100, batch_size=128), \n",
        " ''',\n",
        "\n",
        "\n",
        "plot_loss(163, '0.001', batch_size=32, custom_tag='moredata'),\n",
        "plot_loss(163, '0.001', batch_size=32, custom_tag='28k_1k_1k_256MAE'),\n",
        "\n",
        ")\n",
        "plt.savefig(DRIVE_FOLDER+'effect_of_more_data28k.png')"
      ],
      "metadata": {
        "id": "RgsE2V83Vnpv"
      },
      "execution_count": null,
      "outputs": []
    },
    {
      "cell_type": "code",
      "source": [
        "# best lr 0.001, best bs 32 (128, 32)\n",
        "# 88 vs 163 (first pos of unfreeze) does not make a big difference"
      ],
      "metadata": {
        "id": "dsegoXk3T_oV"
      },
      "execution_count": null,
      "outputs": []
    },
    {
      "cell_type": "code",
      "execution_count": null,
      "metadata": {
        "id": "VuNLgYXYKmPT"
      },
      "outputs": [],
      "source": [
        "\n",
        "\n",
        "\n",
        "# train model, specify batch size\n",
        "batch_size = 128\n",
        "epochs = 50\n",
        "if colab:\n",
        "  with tf.device('/GPU:0'):\n",
        "      history = model.fit(dataset.batch(batch_size), epochs=epochs)\n",
        "else:\n",
        "  history = model.fit(dataset.batch(batch_size), epochs=epochs)\n",
        "\n",
        "# plot history\n",
        "import matplotlib.pyplot as plt\n",
        "plt.plot(history.history['loss'])"
      ]
    },
    {
      "cell_type": "code",
      "execution_count": null,
      "metadata": {
        "id": "y_v2aeJLKmPU"
      },
      "outputs": [],
      "source": [
        "# visualize part of the image which contributed most to the prediction\n",
        "def visualize_heatmap(model, image):\n",
        "    # get prediction\n",
        "    prediction = model.predict(image[np.newaxis, ...])[0]\n",
        "    # get gradient\n",
        "    with tf.GradientTape() as tape:\n",
        "        # cast image to float32\n",
        "        inputs = tf.cast(image[np.newaxis, ...], tf.float32)\n",
        "        # watch the input pixels\n",
        "        tape.watch(inputs)\n",
        "        # get the predictions\n",
        "        predictions = model(inputs)\n",
        "      \n",
        "    print(predictions.shape)\n",
        "    # get the gradient of the loss with respect to the inputs\n",
        "    gradients = tape.gradient(predictions, inputs)\n",
        "    # get the mean gradient across the channels\n",
        "    gradient = tf.reduce_mean(gradients, axis=(0, 3))\n",
        "    # get the mean prediction across the channels\n",
        "    prediction = predictions#tf.reduce_mean(predictions, axis=3)[0]\n",
        "    # scale the prediction\n",
        "    prediction /= tf.reduce_max(prediction)\n",
        "    # scale the gradient\n",
        "    gradient /= tf.reduce_max(gradient)\n",
        "    # upsample the prediction and the gradient\n",
        "    prediction = tf.image.resize(prediction, [256, 256])\n",
        "    gradient = tf.image.resize(gradient, [256, 256])\n",
        "    # convert to numpy\n",
        "    prediction = prediction.numpy()\n",
        "    gradient = gradient.numpy()\n",
        "    # plot the prediction and the gradient\n",
        "    plt.figure(figsize=(10, 10))\n",
        "    plt.subplot(1, 2, 1)\n",
        "    plt.imshow(image)\n",
        "    plt.imshow(prediction, cmap='jet', alpha=0.5)\n",
        "    plt.axis('off')\n",
        "    plt.subplot(1, 2, 2)\n",
        "    plt.imshow(image)\n",
        "    plt.imshow(gradient, cmap='jet', alpha=0.5)\n",
        "    plt.axis('off')\n",
        "    plt.show()\n",
        "\n",
        "visualize_heatmap(model, x)"
      ]
    }
  ],
  "metadata": {
    "accelerator": "GPU",
    "colab": {
      "gpuType": "T4",
      "provenance": []
    },
    "gpuClass": "standard",
    "kernelspec": {
      "display_name": "base",
      "language": "python",
      "name": "python3"
    },
    "language_info": {
      "codemirror_mode": {
        "name": "ipython",
        "version": 3
      },
      "file_extension": ".py",
      "mimetype": "text/x-python",
      "name": "python",
      "nbconvert_exporter": "python",
      "pygments_lexer": "ipython3",
      "version": "3.10.8"
    },
    "orig_nbformat": 4
  },
  "nbformat": 4,
  "nbformat_minor": 0
}