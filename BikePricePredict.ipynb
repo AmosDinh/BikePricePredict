{
  "cells": [
    {
      "cell_type": "code",
      "execution_count": 3,
      "metadata": {
        "colab": {
          "base_uri": "https://localhost:8080/"
        },
        "id": "SMVlWo4iKyck",
        "outputId": "3ebe3f0d-6d6c-4935-b97d-230d1e908e45"
      },
      "outputs": [
        {
          "output_type": "stream",
          "name": "stdout",
          "text": [
            "Running in Google Colab\n",
            "Drive already mounted at /content/drive; to attempt to forcibly remount, call drive.mount(\"/content/drive\", force_remount=True).\n"
          ]
        }
      ],
      "source": [
        "import os\n",
        "\n",
        "colab = 'COLAB_GPU' in os.environ\n",
        "if colab:\n",
        "    print(\"Running in Google Colab\")\n",
        "    from google.colab import drive\n",
        "    drive.mount('/content/drive')"
      ]
    },
    {
      "cell_type": "code",
      "execution_count": 4,
      "metadata": {
        "id": "5A6B728SKmPL"
      },
      "outputs": [],
      "source": [
        "import numpy as np\n",
        "import os\n",
        "import PIL\n",
        "import PIL.Image\n",
        "import tensorflow as tf"
      ]
    },
    {
      "cell_type": "code",
      "execution_count": 5,
      "metadata": {
        "id": "pQWhhqpuKmPP"
      },
      "outputs": [],
      "source": [
        "def get_dataset_path_and_labels(dataset_path):\n",
        "    labels = []\n",
        "    files = []\n",
        "    for file in os.listdir(dataset_path):\n",
        "        label = file.split('_')[-1].replace('.jpg','').replace('ÿ','').replace('ÿ','')\n",
        "        labels.append(float(label))\n",
        "        files.append(os.path.join(dataset_path, file))\n",
        "    return files, labels"
      ]
    },
    {
      "cell_type": "code",
      "execution_count": 6,
      "metadata": {
        "id": "ALSKuaS-KmPQ"
      },
      "outputs": [],
      "source": [
        "\n",
        "def load_and_preprocess_image(path, label):\n",
        "    image = tf.io.read_file(path)\n",
        "    image = tf.image.decode_jpeg(image, channels=3)\n",
        "\n",
        "    # preprocess\n",
        "    image = tf.image.resize(image, [256, 256])\n",
        "    image /= 255.0 # normalize\n",
        "\n",
        "\n",
        "    # Flip the image horizontally\n",
        "    flipped_image = tf.image.flip_left_right(image)\n",
        "\n",
        "   \n",
        "    \n",
        "    # Add the augmented images to the dataset\n",
        "    images = tf.stack([image, flipped_image])\n",
        "    labels = tf.stack([label, label, label])\n",
        "\n",
        "    return images, labels\n",
        "\n",
        "\n",
        "\n"
      ]
    },
    {
      "cell_type": "code",
      "execution_count": 7,
      "metadata": {
        "id": "_U7YqCj9KmPQ"
      },
      "outputs": [],
      "source": [
        "def get_dataset(dataset_path):\n",
        "    files, labels = get_dataset_path_and_labels(dataset_path)\n",
        "    ds = tf.data.Dataset.from_tensor_slices((files, labels))\n",
        "    ds = ds.map(load_and_preprocess_image)\n",
        "    return ds\n",
        "\n",
        "\n",
        "import os\n",
        "\n",
        "if colab:\n",
        "    dir = '/content/drive/MyDrive/Data/BikePricePredict/bicycles_resized/'\n",
        "  \n",
        "else:\n",
        "    print(\"Running locally\")\n",
        "\n",
        "dataset = get_dataset(dir)\n",
        "dataset = dataset.map(random_flip)"
      ]
    },
    {
      "cell_type": "code",
      "execution_count": 8,
      "metadata": {
        "colab": {
          "base_uri": "https://localhost:8080/"
        },
        "id": "lv14jb2rRNit",
        "outputId": "c97eb735-849e-4521-d3ac-66cf246281c1"
      },
      "outputs": [
        {
          "output_type": "execute_result",
          "data": {
            "text/plain": [
              "5687"
            ]
          },
          "metadata": {},
          "execution_count": 8
        }
      ],
      "source": [
        "len(dataset)"
      ]
    },
    {
      "cell_type": "code",
      "execution_count": 9,
      "metadata": {
        "id": "u-JkeK3XKmPQ"
      },
      "outputs": [],
      "source": [
        "x, y = next(dataset.take(1).as_numpy_iterator())"
      ]
    },
    {
      "cell_type": "code",
      "execution_count": 10,
      "metadata": {
        "colab": {
          "base_uri": "https://localhost:8080/"
        },
        "id": "oULz_bNLKmPR",
        "outputId": "4c025238-7b28-4ab4-d4a4-1a3bc479ce42"
      },
      "outputs": [
        {
          "output_type": "execute_result",
          "data": {
            "text/plain": [
              "((256, 256, 3), ())"
            ]
          },
          "metadata": {},
          "execution_count": 10
        }
      ],
      "source": [
        "x.shape, y.shape"
      ]
    },
    {
      "cell_type": "code",
      "execution_count": 11,
      "metadata": {
        "colab": {
          "base_uri": "https://localhost:8080/"
        },
        "id": "0VFPZj2IKmPS",
        "outputId": "ac590875-1779-4d77-ebf9-642f0addc43a"
      },
      "outputs": [
        {
          "output_type": "execute_result",
          "data": {
            "text/plain": [
              "(array([[[1., 1., 1.],\n",
              "         [1., 1., 1.],\n",
              "         [1., 1., 1.],\n",
              "         ...,\n",
              "         [1., 1., 1.],\n",
              "         [1., 1., 1.],\n",
              "         [1., 1., 1.]],\n",
              " \n",
              "        [[1., 1., 1.],\n",
              "         [1., 1., 1.],\n",
              "         [1., 1., 1.],\n",
              "         ...,\n",
              "         [1., 1., 1.],\n",
              "         [1., 1., 1.],\n",
              "         [1., 1., 1.]],\n",
              " \n",
              "        [[1., 1., 1.],\n",
              "         [1., 1., 1.],\n",
              "         [1., 1., 1.],\n",
              "         ...,\n",
              "         [1., 1., 1.],\n",
              "         [1., 1., 1.],\n",
              "         [1., 1., 1.]],\n",
              " \n",
              "        ...,\n",
              " \n",
              "        [[1., 1., 1.],\n",
              "         [1., 1., 1.],\n",
              "         [1., 1., 1.],\n",
              "         ...,\n",
              "         [1., 1., 1.],\n",
              "         [1., 1., 1.],\n",
              "         [1., 1., 1.]],\n",
              " \n",
              "        [[1., 1., 1.],\n",
              "         [1., 1., 1.],\n",
              "         [1., 1., 1.],\n",
              "         ...,\n",
              "         [1., 1., 1.],\n",
              "         [1., 1., 1.],\n",
              "         [1., 1., 1.]],\n",
              " \n",
              "        [[1., 1., 1.],\n",
              "         [1., 1., 1.],\n",
              "         [1., 1., 1.],\n",
              "         ...,\n",
              "         [1., 1., 1.],\n",
              "         [1., 1., 1.],\n",
              "         [1., 1., 1.]]], dtype=float32),\n",
              " 5499.0)"
            ]
          },
          "metadata": {},
          "execution_count": 11
        }
      ],
      "source": [
        "x, y"
      ]
    },
    {
      "cell_type": "code",
      "execution_count": 12,
      "metadata": {
        "colab": {
          "base_uri": "https://localhost:8080/",
          "height": 273
        },
        "id": "GFp46rOjKmPS",
        "outputId": "b56b5a4a-dcaa-4ce8-9e6c-c55f07381e31"
      },
      "outputs": [
        {
          "output_type": "execute_result",
          "data": {
            "text/plain": [
              "<PIL.Image.Image image mode=RGB size=256x256 at 0x7FEB575B0B80>"
            ],
            "image/png": "[encoded data removed]"
          },
          "metadata": {},
          "execution_count": 12
        }
      ],
      "source": [
        "import PIL\n",
        "# view x as image with PIL\n",
        "PIL.Image.fromarray((x * 255).astype(np.uint8))"
      ]
    },
    {
      "cell_type": "code",
      "execution_count": 13,
      "metadata": {
        "colab": {
          "base_uri": "https://localhost:8080/"
        },
        "id": "b0oNV7iwYcaV",
        "outputId": "aff35226-1a66-4ae3-eb83-541545d6ab58"
      },
      "outputs": [
        {
          "output_type": "stream",
          "name": "stdout",
          "text": [
            "Model: \"resnet50v2\"\n",
            "__________________________________________________________________________________________________\n",
            " Layer (type)                   Output Shape         Param #     Connected to                     \n",
            "==================================================================================================\n",
            " input_1 (InputLayer)           [(None, None, None,  0           []                               \n",
            "                                 3)]                                                              \n",
            "                                                                                                  \n",
            " conv1_pad (ZeroPadding2D)      (None, None, None,   0           ['input_1[0][0]']                \n",
            "                                3)                                                                \n",
            "                                                                                                  \n",
            " conv1_conv (Conv2D)            (None, None, None,   9472        ['conv1_pad[0][0]']              \n",
            "                                64)                                                               \n",
            "                                                                                                  \n",
            " pool1_pad (ZeroPadding2D)      (None, None, None,   0           ['conv1_conv[0][0]']             \n",
            "                                64)                                                               \n",
            "                                                                                                  \n",
            " pool1_pool (MaxPooling2D)      (None, None, None,   0           ['pool1_pad[0][0]']              \n",
            "                                64)                                                               \n",
            "                                                                                                  \n",
            " conv2_block1_preact_bn (BatchN  (None, None, None,   256        ['pool1_pool[0][0]']             \n",
            " ormalization)                  64)                                                               \n",
            "                                                                                                  \n",
            " conv2_block1_preact_relu (Acti  (None, None, None,   0          ['conv2_block1_preact_bn[0][0]'] \n",
            " vation)                        64)                                                               \n",
            "                                                                                                  \n",
            " conv2_block1_1_conv (Conv2D)   (None, None, None,   4096        ['conv2_block1_preact_relu[0][0]'\n",
            "                                64)                              ]                                \n",
            "                                                                                                  \n",
            " conv2_block1_1_bn (BatchNormal  (None, None, None,   256        ['conv2_block1_1_conv[0][0]']    \n",
            " ization)                       64)                                                               \n",
            "                                                                                                  \n",
            " conv2_block1_1_relu (Activatio  (None, None, None,   0          ['conv2_block1_1_bn[0][0]']      \n",
            " n)                             64)                                                               \n",
            "                                                                                                  \n",
            " conv2_block1_2_pad (ZeroPaddin  (None, None, None,   0          ['conv2_block1_1_relu[0][0]']    \n",
            " g2D)                           64)                                                               \n",
            "                                                                                                  \n",
            " conv2_block1_2_conv (Conv2D)   (None, None, None,   36864       ['conv2_block1_2_pad[0][0]']     \n",
            "                                64)                                                               \n",
            "                                                                                                  \n",
            " conv2_block1_2_bn (BatchNormal  (None, None, None,   256        ['conv2_block1_2_conv[0][0]']    \n",
            " ization)                       64)                                                               \n",
            "                                                                                                  \n",
            " conv2_block1_2_relu (Activatio  (None, None, None,   0          ['conv2_block1_2_bn[0][0]']      \n",
            " n)                             64)                                                               \n",
            "                                                                                                  \n",
            " conv2_block1_0_conv (Conv2D)   (None, None, None,   16640       ['conv2_block1_preact_relu[0][0]'\n",
            "                                256)                             ]                                \n",
            "                                                                                                  \n",
            " conv2_block1_3_conv (Conv2D)   (None, None, None,   16640       ['conv2_block1_2_relu[0][0]']    \n",
            "                                256)                                                              \n",
            "                                                                                                  \n",
            " conv2_block1_out (Add)         (None, None, None,   0           ['conv2_block1_0_conv[0][0]',    \n",
            "                                256)                              'conv2_block1_3_conv[0][0]']    \n",
            "                                                                                                  \n",
            " conv2_block2_preact_bn (BatchN  (None, None, None,   1024       ['conv2_block1_out[0][0]']       \n",
            " ormalization)                  256)                                                              \n",
            "                                                                                                  \n",
            " conv2_block2_preact_relu (Acti  (None, None, None,   0          ['conv2_block2_preact_bn[0][0]'] \n",
            " vation)                        256)                                                              \n",
            "                                                                                                  \n",
            " conv2_block2_1_conv (Conv2D)   (None, None, None,   16384       ['conv2_block2_preact_relu[0][0]'\n",
            "                                64)                              ]                                \n",
            "                                                                                                  \n",
            " conv2_block2_1_bn (BatchNormal  (None, None, None,   256        ['conv2_block2_1_conv[0][0]']    \n",
            " ization)                       64)                                                               \n",
            "                                                                                                  \n",
            " conv2_block2_1_relu (Activatio  (None, None, None,   0          ['conv2_block2_1_bn[0][0]']      \n",
            " n)                             64)                                                               \n",
            "                                                                                                  \n",
            " conv2_block2_2_pad (ZeroPaddin  (None, None, None,   0          ['conv2_block2_1_relu[0][0]']    \n",
            " g2D)                           64)                                                               \n",
            "                                                                                                  \n",
            " conv2_block2_2_conv (Conv2D)   (None, None, None,   36864       ['conv2_block2_2_pad[0][0]']     \n",
            "                                64)                                                               \n",
            "                                                                                                  \n",
            " conv2_block2_2_bn (BatchNormal  (None, None, None,   256        ['conv2_block2_2_conv[0][0]']    \n",
            " ization)                       64)                                                               \n",
            "                                                                                                  \n",
            " conv2_block2_2_relu (Activatio  (None, None, None,   0          ['conv2_block2_2_bn[0][0]']      \n",
            " n)                             64)                                                               \n",
            "                                                                                                  \n",
            " conv2_block2_3_conv (Conv2D)   (None, None, None,   16640       ['conv2_block2_2_relu[0][0]']    \n",
            "                                256)                                                              \n",
            "                                                                                                  \n",
            " conv2_block2_out (Add)         (None, None, None,   0           ['conv2_block1_out[0][0]',       \n",
            "                                256)                              'conv2_block2_3_conv[0][0]']    \n",
            "                                                                                                  \n",
            " conv2_block3_preact_bn (BatchN  (None, None, None,   1024       ['conv2_block2_out[0][0]']       \n",
            " ormalization)                  256)                                                              \n",
            "                                                                                                  \n",
            " conv2_block3_preact_relu (Acti  (None, None, None,   0          ['conv2_block3_preact_bn[0][0]'] \n",
            " vation)                        256)                                                              \n",
            "                                                                                                  \n",
            " conv2_block3_1_conv (Conv2D)   (None, None, None,   16384       ['conv2_block3_preact_relu[0][0]'\n",
            "                                64)                              ]                                \n",
            "                                                                                                  \n",
            " conv2_block3_1_bn (BatchNormal  (None, None, None,   256        ['conv2_block3_1_conv[0][0]']    \n",
            " ization)                       64)                                                               \n",
            "                                                                                                  \n",
            " conv2_block3_1_relu (Activatio  (None, None, None,   0          ['conv2_block3_1_bn[0][0]']      \n",
            " n)                             64)                                                               \n",
            "                                                                                                  \n",
            " conv2_block3_2_pad (ZeroPaddin  (None, None, None,   0          ['conv2_block3_1_relu[0][0]']    \n",
            " g2D)                           64)                                                               \n",
            "                                                                                                  \n",
            " conv2_block3_2_conv (Conv2D)   (None, None, None,   36864       ['conv2_block3_2_pad[0][0]']     \n",
            "                                64)                                                               \n",
            "                                                                                                  \n",
            " conv2_block3_2_bn (BatchNormal  (None, None, None,   256        ['conv2_block3_2_conv[0][0]']    \n",
            " ization)                       64)                                                               \n",
            "                                                                                                  \n",
            " conv2_block3_2_relu (Activatio  (None, None, None,   0          ['conv2_block3_2_bn[0][0]']      \n",
            " n)                             64)                                                               \n",
            "                                                                                                  \n",
            " max_pooling2d (MaxPooling2D)   (None, None, None,   0           ['conv2_block2_out[0][0]']       \n",
            "                                256)                                                              \n",
            "                                                                                                  \n",
            " conv2_block3_3_conv (Conv2D)   (None, None, None,   16640       ['conv2_block3_2_relu[0][0]']    \n",
            "                                256)                                                              \n",
            "                                                                                                  \n",
            " conv2_block3_out (Add)         (None, None, None,   0           ['max_pooling2d[0][0]',          \n",
            "                                256)                              'conv2_block3_3_conv[0][0]']    \n",
            "                                                                                                  \n",
            " conv3_block1_preact_bn (BatchN  (None, None, None,   1024       ['conv2_block3_out[0][0]']       \n",
            " ormalization)                  256)                                                              \n",
            "                                                                                                  \n",
            " conv3_block1_preact_relu (Acti  (None, None, None,   0          ['conv3_block1_preact_bn[0][0]'] \n",
            " vation)                        256)                                                              \n",
            "                                                                                                  \n",
            " conv3_block1_1_conv (Conv2D)   (None, None, None,   32768       ['conv3_block1_preact_relu[0][0]'\n",
            "                                128)                             ]                                \n",
            "                                                                                                  \n",
            " conv3_block1_1_bn (BatchNormal  (None, None, None,   512        ['conv3_block1_1_conv[0][0]']    \n",
            " ization)                       128)                                                              \n",
            "                                                                                                  \n",
            " conv3_block1_1_relu (Activatio  (None, None, None,   0          ['conv3_block1_1_bn[0][0]']      \n",
            " n)                             128)                                                              \n",
            "                                                                                                  \n",
            " conv3_block1_2_pad (ZeroPaddin  (None, None, None,   0          ['conv3_block1_1_relu[0][0]']    \n",
            " g2D)                           128)                                                              \n",
            "                                                                                                  \n",
            " conv3_block1_2_conv (Conv2D)   (None, None, None,   147456      ['conv3_block1_2_pad[0][0]']     \n",
            "                                128)                                                              \n",
            "                                                                                                  \n",
            " conv3_block1_2_bn (BatchNormal  (None, None, None,   512        ['conv3_block1_2_conv[0][0]']    \n",
            " ization)                       128)                                                              \n",
            "                                                                                                  \n",
            " conv3_block1_2_relu (Activatio  (None, None, None,   0          ['conv3_block1_2_bn[0][0]']      \n",
            " n)                             128)                                                              \n",
            "                                                                                                  \n",
            " conv3_block1_0_conv (Conv2D)   (None, None, None,   131584      ['conv3_block1_preact_relu[0][0]'\n",
            "                                512)                             ]                                \n",
            "                                                                                                  \n",
            " conv3_block1_3_conv (Conv2D)   (None, None, None,   66048       ['conv3_block1_2_relu[0][0]']    \n",
            "                                512)                                                              \n",
            "                                                                                                  \n",
            " conv3_block1_out (Add)         (None, None, None,   0           ['conv3_block1_0_conv[0][0]',    \n",
            "                                512)                              'conv3_block1_3_conv[0][0]']    \n",
            "                                                                                                  \n",
            " conv3_block2_preact_bn (BatchN  (None, None, None,   2048       ['conv3_block1_out[0][0]']       \n",
            " ormalization)                  512)                                                              \n",
            "                                                                                                  \n",
            " conv3_block2_preact_relu (Acti  (None, None, None,   0          ['conv3_block2_preact_bn[0][0]'] \n",
            " vation)                        512)                                                              \n",
            "                                                                                                  \n",
            " conv3_block2_1_conv (Conv2D)   (None, None, None,   65536       ['conv3_block2_preact_relu[0][0]'\n",
            "                                128)                             ]                                \n",
            "                                                                                                  \n",
            " conv3_block2_1_bn (BatchNormal  (None, None, None,   512        ['conv3_block2_1_conv[0][0]']    \n",
            " ization)                       128)                                                              \n",
            "                                                                                                  \n",
            " conv3_block2_1_relu (Activatio  (None, None, None,   0          ['conv3_block2_1_bn[0][0]']      \n",
            " n)                             128)                                                              \n",
            "                                                                                                  \n",
            " conv3_block2_2_pad (ZeroPaddin  (None, None, None,   0          ['conv3_block2_1_relu[0][0]']    \n",
            " g2D)                           128)                                                              \n",
            "                                                                                                  \n",
            " conv3_block2_2_conv (Conv2D)   (None, None, None,   147456      ['conv3_block2_2_pad[0][0]']     \n",
            "                                128)                                                              \n",
            "                                                                                                  \n",
            " conv3_block2_2_bn (BatchNormal  (None, None, None,   512        ['conv3_block2_2_conv[0][0]']    \n",
            " ization)                       128)                                                              \n",
            "                                                                                                  \n",
            " conv3_block2_2_relu (Activatio  (None, None, None,   0          ['conv3_block2_2_bn[0][0]']      \n",
            " n)                             128)                                                              \n",
            "                                                                                                  \n",
            " conv3_block2_3_conv (Conv2D)   (None, None, None,   66048       ['conv3_block2_2_relu[0][0]']    \n",
            "                                512)                                                              \n",
            "                                                                                                  \n",
            " conv3_block2_out (Add)         (None, None, None,   0           ['conv3_block1_out[0][0]',       \n",
            "                                512)                              'conv3_block2_3_conv[0][0]']    \n",
            "                                                                                                  \n",
            " conv3_block3_preact_bn (BatchN  (None, None, None,   2048       ['conv3_block2_out[0][0]']       \n",
            " ormalization)                  512)                                                              \n",
            "                                                                                                  \n",
            " conv3_block3_preact_relu (Acti  (None, None, None,   0          ['conv3_block3_preact_bn[0][0]'] \n",
            " vation)                        512)                                                              \n",
            "                                                                                                  \n",
            " conv3_block3_1_conv (Conv2D)   (None, None, None,   65536       ['conv3_block3_preact_relu[0][0]'\n",
            "                                128)                             ]                                \n",
            "                                                                                                  \n",
            " conv3_block3_1_bn (BatchNormal  (None, None, None,   512        ['conv3_block3_1_conv[0][0]']    \n",
            " ization)                       128)                                                              \n",
            "                                                                                                  \n",
            " conv3_block3_1_relu (Activatio  (None, None, None,   0          ['conv3_block3_1_bn[0][0]']      \n",
            " n)                             128)                                                              \n",
            "                                                                                                  \n",
            " conv3_block3_2_pad (ZeroPaddin  (None, None, None,   0          ['conv3_block3_1_relu[0][0]']    \n",
            " g2D)                           128)                                                              \n",
            "                                                                                                  \n",
            " conv3_block3_2_conv (Conv2D)   (None, None, None,   147456      ['conv3_block3_2_pad[0][0]']     \n",
            "                                128)                                                              \n",
            "                                                                                                  \n",
            " conv3_block3_2_bn (BatchNormal  (None, None, None,   512        ['conv3_block3_2_conv[0][0]']    \n",
            " ization)                       128)                                                              \n",
            "                                                                                                  \n",
            " conv3_block3_2_relu (Activatio  (None, None, None,   0          ['conv3_block3_2_bn[0][0]']      \n",
            " n)                             128)                                                              \n",
            "                                                                                                  \n",
            " conv3_block3_3_conv (Conv2D)   (None, None, None,   66048       ['conv3_block3_2_relu[0][0]']    \n",
            "                                512)                                                              \n",
            "                                                                                                  \n",
            " conv3_block3_out (Add)         (None, None, None,   0           ['conv3_block2_out[0][0]',       \n",
            "                                512)                              'conv3_block3_3_conv[0][0]']    \n",
            "                                                                                                  \n",
            " conv3_block4_preact_bn (BatchN  (None, None, None,   2048       ['conv3_block3_out[0][0]']       \n",
            " ormalization)                  512)                                                              \n",
            "                                                                                                  \n",
            " conv3_block4_preact_relu (Acti  (None, None, None,   0          ['conv3_block4_preact_bn[0][0]'] \n",
            " vation)                        512)                                                              \n",
            "                                                                                                  \n",
            " conv3_block4_1_conv (Conv2D)   (None, None, None,   65536       ['conv3_block4_preact_relu[0][0]'\n",
            "                                128)                             ]                                \n",
            "                                                                                                  \n",
            " conv3_block4_1_bn (BatchNormal  (None, None, None,   512        ['conv3_block4_1_conv[0][0]']    \n",
            " ization)                       128)                                                              \n",
            "                                                                                                  \n",
            " conv3_block4_1_relu (Activatio  (None, None, None,   0          ['conv3_block4_1_bn[0][0]']      \n",
            " n)                             128)                                                              \n",
            "                                                                                                  \n",
            " conv3_block4_2_pad (ZeroPaddin  (None, None, None,   0          ['conv3_block4_1_relu[0][0]']    \n",
            " g2D)                           128)                                                              \n",
            "                                                                                                  \n",
            " conv3_block4_2_conv (Conv2D)   (None, None, None,   147456      ['conv3_block4_2_pad[0][0]']     \n",
            "                                128)                                                              \n",
            "                                                                                                  \n",
            " conv3_block4_2_bn (BatchNormal  (None, None, None,   512        ['conv3_block4_2_conv[0][0]']    \n",
            " ization)                       128)                                                              \n",
            "                                                                                                  \n",
            " conv3_block4_2_relu (Activatio  (None, None, None,   0          ['conv3_block4_2_bn[0][0]']      \n",
            " n)                             128)                                                              \n",
            "                                                                                                  \n",
            " max_pooling2d_1 (MaxPooling2D)  (None, None, None,   0          ['conv3_block3_out[0][0]']       \n",
            "                                512)                                                              \n",
            "                                                                                                  \n",
            " conv3_block4_3_conv (Conv2D)   (None, None, None,   66048       ['conv3_block4_2_relu[0][0]']    \n",
            "                                512)                                                              \n",
            "                                                                                                  \n",
            " conv3_block4_out (Add)         (None, None, None,   0           ['max_pooling2d_1[0][0]',        \n",
            "                                512)                              'conv3_block4_3_conv[0][0]']    \n",
            "                                                                                                  \n",
            " conv4_block1_preact_bn (BatchN  (None, None, None,   2048       ['conv3_block4_out[0][0]']       \n",
            " ormalization)                  512)                                                              \n",
            "                                                                                                  \n",
            " conv4_block1_preact_relu (Acti  (None, None, None,   0          ['conv4_block1_preact_bn[0][0]'] \n",
            " vation)                        512)                                                              \n",
            "                                                                                                  \n",
            " conv4_block1_1_conv (Conv2D)   (None, None, None,   131072      ['conv4_block1_preact_relu[0][0]'\n",
            "                                256)                             ]                                \n",
            "                                                                                                  \n",
            " conv4_block1_1_bn (BatchNormal  (None, None, None,   1024       ['conv4_block1_1_conv[0][0]']    \n",
            " ization)                       256)                                                              \n",
            "                                                                                                  \n",
            " conv4_block1_1_relu (Activatio  (None, None, None,   0          ['conv4_block1_1_bn[0][0]']      \n",
            " n)                             256)                                                              \n",
            "                                                                                                  \n",
            " conv4_block1_2_pad (ZeroPaddin  (None, None, None,   0          ['conv4_block1_1_relu[0][0]']    \n",
            " g2D)                           256)                                                              \n",
            "                                                                                                  \n",
            " conv4_block1_2_conv (Conv2D)   (None, None, None,   589824      ['conv4_block1_2_pad[0][0]']     \n",
            "                                256)                                                              \n",
            "                                                                                                  \n",
            " conv4_block1_2_bn (BatchNormal  (None, None, None,   1024       ['conv4_block1_2_conv[0][0]']    \n",
            " ization)                       256)                                                              \n",
            "                                                                                                  \n",
            " conv4_block1_2_relu (Activatio  (None, None, None,   0          ['conv4_block1_2_bn[0][0]']      \n",
            " n)                             256)                                                              \n",
            "                                                                                                  \n",
            " conv4_block1_0_conv (Conv2D)   (None, None, None,   525312      ['conv4_block1_preact_relu[0][0]'\n",
            "                                1024)                            ]                                \n",
            "                                                                                                  \n",
            " conv4_block1_3_conv (Conv2D)   (None, None, None,   263168      ['conv4_block1_2_relu[0][0]']    \n",
            "                                1024)                                                             \n",
            "                                                                                                  \n",
            " conv4_block1_out (Add)         (None, None, None,   0           ['conv4_block1_0_conv[0][0]',    \n",
            "                                1024)                             'conv4_block1_3_conv[0][0]']    \n",
            "                                                                                                  \n",
            " conv4_block2_preact_bn (BatchN  (None, None, None,   4096       ['conv4_block1_out[0][0]']       \n",
            " ormalization)                  1024)                                                             \n",
            "                                                                                                  \n",
            " conv4_block2_preact_relu (Acti  (None, None, None,   0          ['conv4_block2_preact_bn[0][0]'] \n",
            " vation)                        1024)                                                             \n",
            "                                                                                                  \n",
            " conv4_block2_1_conv (Conv2D)   (None, None, None,   262144      ['conv4_block2_preact_relu[0][0]'\n",
            "                                256)                             ]                                \n",
            "                                                                                                  \n",
            " conv4_block2_1_bn (BatchNormal  (None, None, None,   1024       ['conv4_block2_1_conv[0][0]']    \n",
            " ization)                       256)                                                              \n",
            "                                                                                                  \n",
            " conv4_block2_1_relu (Activatio  (None, None, None,   0          ['conv4_block2_1_bn[0][0]']      \n",
            " n)                             256)                                                              \n",
            "                                                                                                  \n",
            " conv4_block2_2_pad (ZeroPaddin  (None, None, None,   0          ['conv4_block2_1_relu[0][0]']    \n",
            " g2D)                           256)                                                              \n",
            "                                                                                                  \n",
            " conv4_block2_2_conv (Conv2D)   (None, None, None,   589824      ['conv4_block2_2_pad[0][0]']     \n",
            "                                256)                                                              \n",
            "                                                                                                  \n",
            " conv4_block2_2_bn (BatchNormal  (None, None, None,   1024       ['conv4_block2_2_conv[0][0]']    \n",
            " ization)                       256)                                                              \n",
            "                                                                                                  \n",
            " conv4_block2_2_relu (Activatio  (None, None, None,   0          ['conv4_block2_2_bn[0][0]']      \n",
            " n)                             256)                                                              \n",
            "                                                                                                  \n",
            " conv4_block2_3_conv (Conv2D)   (None, None, None,   263168      ['conv4_block2_2_relu[0][0]']    \n",
            "                                1024)                                                             \n",
            "                                                                                                  \n",
            " conv4_block2_out (Add)         (None, None, None,   0           ['conv4_block1_out[0][0]',       \n",
            "                                1024)                             'conv4_block2_3_conv[0][0]']    \n",
            "                                                                                                  \n",
            " conv4_block3_preact_bn (BatchN  (None, None, None,   4096       ['conv4_block2_out[0][0]']       \n",
            " ormalization)                  1024)                                                             \n",
            "                                                                                                  \n",
            " conv4_block3_preact_relu (Acti  (None, None, None,   0          ['conv4_block3_preact_bn[0][0]'] \n",
            " vation)                        1024)                                                             \n",
            "                                                                                                  \n",
            " conv4_block3_1_conv (Conv2D)   (None, None, None,   262144      ['conv4_block3_preact_relu[0][0]'\n",
            "                                256)                             ]                                \n",
            "                                                                                                  \n",
            " conv4_block3_1_bn (BatchNormal  (None, None, None,   1024       ['conv4_block3_1_conv[0][0]']    \n",
            " ization)                       256)                                                              \n",
            "                                                                                                  \n",
            " conv4_block3_1_relu (Activatio  (None, None, None,   0          ['conv4_block3_1_bn[0][0]']      \n",
            " n)                             256)                                                              \n",
            "                                                                                                  \n",
            " conv4_block3_2_pad (ZeroPaddin  (None, None, None,   0          ['conv4_block3_1_relu[0][0]']    \n",
            " g2D)                           256)                                                              \n",
            "                                                                                                  \n",
            " conv4_block3_2_conv (Conv2D)   (None, None, None,   589824      ['conv4_block3_2_pad[0][0]']     \n",
            "                                256)                                                              \n",
            "                                                                                                  \n",
            " conv4_block3_2_bn (BatchNormal  (None, None, None,   1024       ['conv4_block3_2_conv[0][0]']    \n",
            " ization)                       256)                                                              \n",
            "                                                                                                  \n",
            " conv4_block3_2_relu (Activatio  (None, None, None,   0          ['conv4_block3_2_bn[0][0]']      \n",
            " n)                             256)                                                              \n",
            "                                                                                                  \n",
            " conv4_block3_3_conv (Conv2D)   (None, None, None,   263168      ['conv4_block3_2_relu[0][0]']    \n",
            "                                1024)                                                             \n",
            "                                                                                                  \n",
            " conv4_block3_out (Add)         (None, None, None,   0           ['conv4_block2_out[0][0]',       \n",
            "                                1024)                             'conv4_block3_3_conv[0][0]']    \n",
            "                                                                                                  \n",
            " conv4_block4_preact_bn (BatchN  (None, None, None,   4096       ['conv4_block3_out[0][0]']       \n",
            " ormalization)                  1024)                                                             \n",
            "                                                                                                  \n",
            " conv4_block4_preact_relu (Acti  (None, None, None,   0          ['conv4_block4_preact_bn[0][0]'] \n",
            " vation)                        1024)                                                             \n",
            "                                                                                                  \n",
            " conv4_block4_1_conv (Conv2D)   (None, None, None,   262144      ['conv4_block4_preact_relu[0][0]'\n",
            "                                256)                             ]                                \n",
            "                                                                                                  \n",
            " conv4_block4_1_bn (BatchNormal  (None, None, None,   1024       ['conv4_block4_1_conv[0][0]']    \n",
            " ization)                       256)                                                              \n",
            "                                                                                                  \n",
            " conv4_block4_1_relu (Activatio  (None, None, None,   0          ['conv4_block4_1_bn[0][0]']      \n",
            " n)                             256)                                                              \n",
            "                                                                                                  \n",
            " conv4_block4_2_pad (ZeroPaddin  (None, None, None,   0          ['conv4_block4_1_relu[0][0]']    \n",
            " g2D)                           256)                                                              \n",
            "                                                                                                  \n",
            " conv4_block4_2_conv (Conv2D)   (None, None, None,   589824      ['conv4_block4_2_pad[0][0]']     \n",
            "                                256)                                                              \n",
            "                                                                                                  \n",
            " conv4_block4_2_bn (BatchNormal  (None, None, None,   1024       ['conv4_block4_2_conv[0][0]']    \n",
            " ization)                       256)                                                              \n",
            "                                                                                                  \n",
            " conv4_block4_2_relu (Activatio  (None, None, None,   0          ['conv4_block4_2_bn[0][0]']      \n",
            " n)                             256)                                                              \n",
            "                                                                                                  \n",
            " conv4_block4_3_conv (Conv2D)   (None, None, None,   263168      ['conv4_block4_2_relu[0][0]']    \n",
            "                                1024)                                                             \n",
            "                                                                                                  \n",
            " conv4_block4_out (Add)         (None, None, None,   0           ['conv4_block3_out[0][0]',       \n",
            "                                1024)                             'conv4_block4_3_conv[0][0]']    \n",
            "                                                                                                  \n",
            " conv4_block5_preact_bn (BatchN  (None, None, None,   4096       ['conv4_block4_out[0][0]']       \n",
            " ormalization)                  1024)                                                             \n",
            "                                                                                                  \n",
            " conv4_block5_preact_relu (Acti  (None, None, None,   0          ['conv4_block5_preact_bn[0][0]'] \n",
            " vation)                        1024)                                                             \n",
            "                                                                                                  \n",
            " conv4_block5_1_conv (Conv2D)   (None, None, None,   262144      ['conv4_block5_preact_relu[0][0]'\n",
            "                                256)                             ]                                \n",
            "                                                                                                  \n",
            " conv4_block5_1_bn (BatchNormal  (None, None, None,   1024       ['conv4_block5_1_conv[0][0]']    \n",
            " ization)                       256)                                                              \n",
            "                                                                                                  \n",
            " conv4_block5_1_relu (Activatio  (None, None, None,   0          ['conv4_block5_1_bn[0][0]']      \n",
            " n)                             256)                                                              \n",
            "                                                                                                  \n",
            " conv4_block5_2_pad (ZeroPaddin  (None, None, None,   0          ['conv4_block5_1_relu[0][0]']    \n",
            " g2D)                           256)                                                              \n",
            "                                                                                                  \n",
            " conv4_block5_2_conv (Conv2D)   (None, None, None,   589824      ['conv4_block5_2_pad[0][0]']     \n",
            "                                256)                                                              \n",
            "                                                                                                  \n",
            " conv4_block5_2_bn (BatchNormal  (None, None, None,   1024       ['conv4_block5_2_conv[0][0]']    \n",
            " ization)                       256)                                                              \n",
            "                                                                                                  \n",
            " conv4_block5_2_relu (Activatio  (None, None, None,   0          ['conv4_block5_2_bn[0][0]']      \n",
            " n)                             256)                                                              \n",
            "                                                                                                  \n",
            " conv4_block5_3_conv (Conv2D)   (None, None, None,   263168      ['conv4_block5_2_relu[0][0]']    \n",
            "                                1024)                                                             \n",
            "                                                                                                  \n",
            " conv4_block5_out (Add)         (None, None, None,   0           ['conv4_block4_out[0][0]',       \n",
            "                                1024)                             'conv4_block5_3_conv[0][0]']    \n",
            "                                                                                                  \n",
            " conv4_block6_preact_bn (BatchN  (None, None, None,   4096       ['conv4_block5_out[0][0]']       \n",
            " ormalization)                  1024)                                                             \n",
            "                                                                                                  \n",
            " conv4_block6_preact_relu (Acti  (None, None, None,   0          ['conv4_block6_preact_bn[0][0]'] \n",
            " vation)                        1024)                                                             \n",
            "                                                                                                  \n",
            " conv4_block6_1_conv (Conv2D)   (None, None, None,   262144      ['conv4_block6_preact_relu[0][0]'\n",
            "                                256)                             ]                                \n",
            "                                                                                                  \n",
            " conv4_block6_1_bn (BatchNormal  (None, None, None,   1024       ['conv4_block6_1_conv[0][0]']    \n",
            " ization)                       256)                                                              \n",
            "                                                                                                  \n",
            " conv4_block6_1_relu (Activatio  (None, None, None,   0          ['conv4_block6_1_bn[0][0]']      \n",
            " n)                             256)                                                              \n",
            "                                                                                                  \n",
            " conv4_block6_2_pad (ZeroPaddin  (None, None, None,   0          ['conv4_block6_1_relu[0][0]']    \n",
            " g2D)                           256)                                                              \n",
            "                                                                                                  \n",
            " conv4_block6_2_conv (Conv2D)   (None, None, None,   589824      ['conv4_block6_2_pad[0][0]']     \n",
            "                                256)                                                              \n",
            "                                                                                                  \n",
            " conv4_block6_2_bn (BatchNormal  (None, None, None,   1024       ['conv4_block6_2_conv[0][0]']    \n",
            " ization)                       256)                                                              \n",
            "                                                                                                  \n",
            " conv4_block6_2_relu (Activatio  (None, None, None,   0          ['conv4_block6_2_bn[0][0]']      \n",
            " n)                             256)                                                              \n",
            "                                                                                                  \n",
            " max_pooling2d_2 (MaxPooling2D)  (None, None, None,   0          ['conv4_block5_out[0][0]']       \n",
            "                                1024)                                                             \n",
            "                                                                                                  \n",
            " conv4_block6_3_conv (Conv2D)   (None, None, None,   263168      ['conv4_block6_2_relu[0][0]']    \n",
            "                                1024)                                                             \n",
            "                                                                                                  \n",
            " conv4_block6_out (Add)         (None, None, None,   0           ['max_pooling2d_2[0][0]',        \n",
            "                                1024)                             'conv4_block6_3_conv[0][0]']    \n",
            "                                                                                                  \n",
            " conv5_block1_preact_bn (BatchN  (None, None, None,   4096       ['conv4_block6_out[0][0]']       \n",
            " ormalization)                  1024)                                                             \n",
            "                                                                                                  \n",
            " conv5_block1_preact_relu (Acti  (None, None, None,   0          ['conv5_block1_preact_bn[0][0]'] \n",
            " vation)                        1024)                                                             \n",
            "                                                                                                  \n",
            " conv5_block1_1_conv (Conv2D)   (None, None, None,   524288      ['conv5_block1_preact_relu[0][0]'\n",
            "                                512)                             ]                                \n",
            "                                                                                                  \n",
            " conv5_block1_1_bn (BatchNormal  (None, None, None,   2048       ['conv5_block1_1_conv[0][0]']    \n",
            " ization)                       512)                                                              \n",
            "                                                                                                  \n",
            " conv5_block1_1_relu (Activatio  (None, None, None,   0          ['conv5_block1_1_bn[0][0]']      \n",
            " n)                             512)                                                              \n",
            "                                                                                                  \n",
            " conv5_block1_2_pad (ZeroPaddin  (None, None, None,   0          ['conv5_block1_1_relu[0][0]']    \n",
            " g2D)                           512)                                                              \n",
            "                                                                                                  \n",
            " conv5_block1_2_conv (Conv2D)   (None, None, None,   2359296     ['conv5_block1_2_pad[0][0]']     \n",
            "                                512)                                                              \n",
            "                                                                                                  \n",
            " conv5_block1_2_bn (BatchNormal  (None, None, None,   2048       ['conv5_block1_2_conv[0][0]']    \n",
            " ization)                       512)                                                              \n",
            "                                                                                                  \n",
            " conv5_block1_2_relu (Activatio  (None, None, None,   0          ['conv5_block1_2_bn[0][0]']      \n",
            " n)                             512)                                                              \n",
            "                                                                                                  \n",
            " conv5_block1_0_conv (Conv2D)   (None, None, None,   2099200     ['conv5_block1_preact_relu[0][0]'\n",
            "                                2048)                            ]                                \n",
            "                                                                                                  \n",
            " conv5_block1_3_conv (Conv2D)   (None, None, None,   1050624     ['conv5_block1_2_relu[0][0]']    \n",
            "                                2048)                                                             \n",
            "                                                                                                  \n",
            " conv5_block1_out (Add)         (None, None, None,   0           ['conv5_block1_0_conv[0][0]',    \n",
            "                                2048)                             'conv5_block1_3_conv[0][0]']    \n",
            "                                                                                                  \n",
            " conv5_block2_preact_bn (BatchN  (None, None, None,   8192       ['conv5_block1_out[0][0]']       \n",
            " ormalization)                  2048)                                                             \n",
            "                                                                                                  \n",
            " conv5_block2_preact_relu (Acti  (None, None, None,   0          ['conv5_block2_preact_bn[0][0]'] \n",
            " vation)                        2048)                                                             \n",
            "                                                                                                  \n",
            " conv5_block2_1_conv (Conv2D)   (None, None, None,   1048576     ['conv5_block2_preact_relu[0][0]'\n",
            "                                512)                             ]                                \n",
            "                                                                                                  \n",
            " conv5_block2_1_bn (BatchNormal  (None, None, None,   2048       ['conv5_block2_1_conv[0][0]']    \n",
            " ization)                       512)                                                              \n",
            "                                                                                                  \n",
            " conv5_block2_1_relu (Activatio  (None, None, None,   0          ['conv5_block2_1_bn[0][0]']      \n",
            " n)                             512)                                                              \n",
            "                                                                                                  \n",
            " conv5_block2_2_pad (ZeroPaddin  (None, None, None,   0          ['conv5_block2_1_relu[0][0]']    \n",
            " g2D)                           512)                                                              \n",
            "                                                                                                  \n",
            " conv5_block2_2_conv (Conv2D)   (None, None, None,   2359296     ['conv5_block2_2_pad[0][0]']     \n",
            "                                512)                                                              \n",
            "                                                                                                  \n",
            " conv5_block2_2_bn (BatchNormal  (None, None, None,   2048       ['conv5_block2_2_conv[0][0]']    \n",
            " ization)                       512)                                                              \n",
            "                                                                                                  \n",
            " conv5_block2_2_relu (Activatio  (None, None, None,   0          ['conv5_block2_2_bn[0][0]']      \n",
            " n)                             512)                                                              \n",
            "                                                                                                  \n",
            " conv5_block2_3_conv (Conv2D)   (None, None, None,   1050624     ['conv5_block2_2_relu[0][0]']    \n",
            "                                2048)                                                             \n",
            "                                                                                                  \n",
            " conv5_block2_out (Add)         (None, None, None,   0           ['conv5_block1_out[0][0]',       \n",
            "                                2048)                             'conv5_block2_3_conv[0][0]']    \n",
            "                                                                                                  \n",
            " conv5_block3_preact_bn (BatchN  (None, None, None,   8192       ['conv5_block2_out[0][0]']       \n",
            " ormalization)                  2048)                                                             \n",
            "                                                                                                  \n",
            " conv5_block3_preact_relu (Acti  (None, None, None,   0          ['conv5_block3_preact_bn[0][0]'] \n",
            " vation)                        2048)                                                             \n",
            "                                                                                                  \n",
            " conv5_block3_1_conv (Conv2D)   (None, None, None,   1048576     ['conv5_block3_preact_relu[0][0]'\n",
            "                                512)                             ]                                \n",
            "                                                                                                  \n",
            " conv5_block3_1_bn (BatchNormal  (None, None, None,   2048       ['conv5_block3_1_conv[0][0]']    \n",
            " ization)                       512)                                                              \n",
            "                                                                                                  \n",
            " conv5_block3_1_relu (Activatio  (None, None, None,   0          ['conv5_block3_1_bn[0][0]']      \n",
            " n)                             512)                                                              \n",
            "                                                                                                  \n",
            " conv5_block3_2_pad (ZeroPaddin  (None, None, None,   0          ['conv5_block3_1_relu[0][0]']    \n",
            " g2D)                           512)                                                              \n",
            "                                                                                                  \n",
            " conv5_block3_2_conv (Conv2D)   (None, None, None,   2359296     ['conv5_block3_2_pad[0][0]']     \n",
            "                                512)                                                              \n",
            "                                                                                                  \n",
            " conv5_block3_2_bn (BatchNormal  (None, None, None,   2048       ['conv5_block3_2_conv[0][0]']    \n",
            " ization)                       512)                                                              \n",
            "                                                                                                  \n",
            " conv5_block3_2_relu (Activatio  (None, None, None,   0          ['conv5_block3_2_bn[0][0]']      \n",
            " n)                             512)                                                              \n",
            "                                                                                                  \n",
            " conv5_block3_3_conv (Conv2D)   (None, None, None,   1050624     ['conv5_block3_2_relu[0][0]']    \n",
            "                                2048)                                                             \n",
            "                                                                                                  \n",
            " conv5_block3_out (Add)         (None, None, None,   0           ['conv5_block2_out[0][0]',       \n",
            "                                2048)                             'conv5_block3_3_conv[0][0]']    \n",
            "                                                                                                  \n",
            " post_bn (BatchNormalization)   (None, None, None,   8192        ['conv5_block3_out[0][0]']       \n",
            "                                2048)                                                             \n",
            "                                                                                                  \n",
            " post_relu (Activation)         (None, None, None,   0           ['post_bn[0][0]']                \n",
            "                                2048)                                                             \n",
            "                                                                                                  \n",
            "==================================================================================================\n",
            "Total params: 23,564,800\n",
            "Trainable params: 23,519,360\n",
            "Non-trainable params: 45,440\n",
            "__________________________________________________________________________________________________\n"
          ]
        }
      ],
      "source": [
        "model2 = tf.keras.applications.ResNet50V2(weights='imagenet', include_top=False)\n",
        "model2.summary()"
      ]
    },
    {
      "cell_type": "code",
      "execution_count": 14,
      "metadata": {
        "colab": {
          "base_uri": "https://localhost:8080/"
        },
        "id": "2ueWzxEMYeWb",
        "outputId": "ec3843ac-792e-4d5d-ffc5-48779e0584a7"
      },
      "outputs": [
        {
          "output_type": "execute_result",
          "data": {
            "text/plain": [
              "53"
            ]
          },
          "metadata": {},
          "execution_count": 14
        }
      ],
      "source": [
        "# count conv2d layers in model2\n",
        "conv2d_indices = []\n",
        "for i, layer in enumerate(model2.layers):\n",
        "    if layer.name.endswith(\"conv\"):\n",
        "        conv2d_indices.append(i)\n",
        "\n",
        "len(conv2d_indices)"
      ]
    },
    {
      "cell_type": "code",
      "source": [
        "53 * 0.25"
      ],
      "metadata": {
        "id": "qnTdctWMfbZY",
        "outputId": "9b928a77-e046-44d9-90ca-16cab4f6c99d",
        "colab": {
          "base_uri": "https://localhost:8080/"
        }
      },
      "execution_count": 26,
      "outputs": [
        {
          "output_type": "execute_result",
          "data": {
            "text/plain": [
              "13.25"
            ]
          },
          "metadata": {},
          "execution_count": 26
        }
      ]
    },
    {
      "cell_type": "code",
      "execution_count": 35,
      "metadata": {
        "colab": {
          "base_uri": "https://localhost:8080/"
        },
        "id": "eMbAsx49YY_U",
        "outputId": "87531113-bcd5-4c63-d1c6-f539f554299e"
      },
      "outputs": [
        {
          "output_type": "execute_result",
          "data": {
            "text/plain": [
              "('conv4_block1_1_conv', 88)"
            ]
          },
          "metadata": {},
          "execution_count": 35
        }
      ],
      "source": [
        " # each block has approximately 3 conv2d layers\n",
        "idx  = -3*10 +1\n",
        "model2.layers[conv2d_indices[idx]].name, conv2d_indices[idx]"
      ]
    },
    {
      "cell_type": "code",
      "execution_count": 15,
      "metadata": {
        "id": "hyJY8CfiYhDh"
      },
      "outputs": [],
      "source": []
    },
    {
      "cell_type": "code",
      "source": [],
      "metadata": {
        "id": "AKaQes1OSr7v"
      },
      "execution_count": 15,
      "outputs": []
    },
    {
      "cell_type": "code",
      "execution_count": 36,
      "metadata": {
        "id": "UvY5NgT_hLro"
      },
      "outputs": [],
      "source": [
        "def save_weights(model, weights_path):\n",
        "  for layer in model.layers:\n",
        "    layer.trainable=False\n",
        "  ''' for layer in base_model.layers:\n",
        "    layer.trainable=False '''\n",
        "  \n",
        "  model.save(weights_path)"
      ]
    },
    {
      "cell_type": "code",
      "execution_count": 37,
      "metadata": {
        "id": "2VFVSxvFQrKu"
      },
      "outputs": [],
      "source": [
        "\n",
        "\n",
        "def make_model(base_model, unfreeze_start:int, weights_path=None):\n",
        "  \n",
        "  \n",
        "    \n",
        "    \n",
        "\n",
        "  base_model.trainable = False\n",
        "\n",
        "  inputs = tf.keras.Input(shape=(256, 256, 3))\n",
        "  x = base_model(inputs, training=True) # training=True only enabled for unfrozen layers (?)\n",
        "  x = tf.keras.layers.GlobalAveragePooling2D()(x)\n",
        "  ''' x = tf.keras.layers.Dense(256, activation='relu')(x) '''\n",
        "  '''   x = tf.keras.layers.Dense(128, activation='relu')(x)\n",
        "  x = tf.keras.layers.Dense(64, activation='relu')(x) '''\n",
        "  outputs = tf.keras.layers.Dense(1, activation='relu')(x) # use relu because prices are always positive\n",
        "  model = tf.keras.Model(inputs, outputs)\n",
        "\n",
        " \n",
        "  if weights_path is not None:\n",
        "    unfr = int(weights_path.split('unfr')[-1].split('_')[0])\n",
        "    assert unfreeze_start == unfr\n",
        "\n",
        "    model.load_weights(weights_path)\n",
        "\n",
        "  # freeze base model\n",
        "  for layer in base_model.layers[unfreeze_start:]: # last, conv5 section\n",
        "    layer.trainable = True \n",
        "\n",
        "  \n",
        "  return model\n",
        "  \n",
        "# create keras resnet 50 v2 model\n",
        "base_model = tf.keras.applications.ResNet50V2(include_top=False, weights='imagenet')\n",
        "unfreeze_start = 88\n",
        "\n"
      ]
    },
    {
      "cell_type": "code",
      "execution_count": 40,
      "metadata": {
        "id": "yLQ7Po4_hfLO"
      },
      "outputs": [],
      "source": [
        "\n",
        "#model = make_model(base_model, unfreeze_start, '/content/drive/MyDrive/Data/BikePricePredict/weights_unfr163_bs32_lr0.0001_ep200.h5')\n",
        "model = make_model(base_model, unfreeze_start)"
      ]
    },
    {
      "cell_type": "code",
      "source": [],
      "metadata": {
        "id": "0cuTQ5TxGvel"
      },
      "execution_count": 18,
      "outputs": []
    },
    {
      "cell_type": "code",
      "source": [
        "''' model = make_model(base_model, unfreeze_start, '/content/drive/MyDrive/Data/BikePricePredict/weights_200_lr0.003.h5') '''\n"
      ],
      "metadata": {
        "id": "x6nIQNvUWQrJ",
        "outputId": "e96adcc0-fcdd-49f7-9b02-a622b98c1a54",
        "colab": {
          "base_uri": "https://localhost:8080/",
          "height": 35
        }
      },
      "execution_count": 19,
      "outputs": [
        {
          "output_type": "execute_result",
          "data": {
            "text/plain": [
              "\" model = make_model(base_model, unfreeze_start, '/content/drive/MyDrive/Data/BikePricePredict/weights_200_lr0.003.h5') \""
            ],
            "application/vnd.google.colaboratory.intrinsic+json": {
              "type": "string"
            }
          },
          "metadata": {},
          "execution_count": 19
        }
      ]
    },
    {
      "cell_type": "code",
      "execution_count": 20,
      "metadata": {
        "id": "EHSV7y98jm8N"
      },
      "outputs": [],
      "source": [
        "# save_weights(model, '/content/drive/MyDrive/Data/BikePricePredict/test.h5')"
      ]
    },
    {
      "cell_type": "code",
      "execution_count": 21,
      "metadata": {
        "id": "iTUBE4O8hvpU"
      },
      "outputs": [],
      "source": [
        "# model = make_model(base_model, '/content/drive/MyDrive/Data/BikePricePredict/test.h5')"
      ]
    },
    {
      "cell_type": "code",
      "execution_count": 22,
      "metadata": {
        "id": "4dZHqoOYpAKQ"
      },
      "outputs": [],
      "source": [
        "model.compile(optimizer=tf.keras.optimizers.Adam(learning_rate=0.0001, ), # beta1, beta2, weight_decay\n",
        "                loss=tf.keras.losses.MeanSquaredError(),\n",
        "                metrics=['mse']\n",
        "              )"
      ]
    },
    {
      "cell_type": "code",
      "execution_count": 41,
      "metadata": {
        "id": "JPwM_VD7pEzw"
      },
      "outputs": [],
      "source": [
        "import pandas as pd\n",
        "def fit(model, batch_size , epochs, save_after_epochs, start_epoch_num, lr, unfreeze_start,  custom_tag='', dir='/content/drive/MyDrive/Data/BikePricePredict/'):\n",
        "  model.compile(optimizer=tf.keras.optimizers.Adam(learning_rate=lr, ), # beta1, beta2, weight_decay\n",
        "                loss=tf.keras.losses.MeanSquaredError(),\n",
        "                metrics=['mse']\n",
        "              )\n",
        "  for ep in range(0, epochs, save_after_epochs):\n",
        "    print(f'fit {ep+start_epoch_num}')\n",
        "    with tf.device('/GPU:0'):\n",
        "\n",
        "        history = model.fit(dataset.batch(batch_size), epochs=save_after_epochs)\n",
        "\n",
        "\n",
        "    # Convert the history to a Pandas DataFrame\n",
        "    history_df = pd.DataFrame(history.history)\n",
        "\n",
        "    # Save the history to a CSV file\n",
        "    history_df.to_csv(dir+f'history_unfr{str(unfreeze_start)}_bs{str(batch_size)}_lr{str(lr)}_{custom_tag}_ep{str(ep+start_epoch_num)}.csv', index=False)\n",
        "    save_weights(model, dir+f'weights_unfr{str(unfreeze_start)}_bs{str(batch_size)}_lr{str(lr)}_{custom_tag}_ep{str(ep+start_epoch_num)}.h5')\n",
        "    "
      ]
    },
    {
      "cell_type": "code",
      "execution_count": null,
      "metadata": {
        "colab": {
          "base_uri": "https://localhost:8080/"
        },
        "id": "p5_YdTAApLGk",
        "outputId": "a2bd248f-715d-4892-a313-04049667ebc2"
      },
      "outputs": [
        {
          "output_type": "stream",
          "name": "stdout",
          "text": [
            "fit 0\n",
            "Epoch 1/50\n",
            "178/178 [==============================] - 24s 113ms/step - loss: 14132731.0000 - mse: 14132731.0000\n",
            "Epoch 2/50\n",
            "178/178 [==============================] - 19s 107ms/step - loss: 13639959.0000 - mse: 13639959.0000\n",
            "Epoch 3/50\n",
            "178/178 [==============================] - 20s 111ms/step - loss: 13166252.0000 - mse: 13166252.0000\n",
            "Epoch 4/50\n",
            "178/178 [==============================] - 20s 110ms/step - loss: 12715152.0000 - mse: 12715152.0000\n",
            "Epoch 5/50\n",
            "178/178 [==============================] - 20s 110ms/step - loss: 12281119.0000 - mse: 12281119.0000\n",
            "Epoch 6/50\n",
            "178/178 [==============================] - 21s 115ms/step - loss: 11867247.0000 - mse: 11867247.0000\n",
            "Epoch 7/50\n",
            "178/178 [==============================] - 19s 109ms/step - loss: 11472933.0000 - mse: 11472933.0000\n",
            "Epoch 8/50\n",
            "178/178 [==============================] - 19s 109ms/step - loss: 11090997.0000 - mse: 11090997.0000\n",
            "Epoch 9/50\n",
            "178/178 [==============================] - 19s 109ms/step - loss: 10726056.0000 - mse: 10726056.0000\n",
            "Epoch 10/50\n",
            "178/178 [==============================] - 22s 123ms/step - loss: 10377030.0000 - mse: 10377030.0000\n",
            "Epoch 11/50\n",
            "178/178 [==============================] - 19s 109ms/step - loss: 10046786.0000 - mse: 10046786.0000\n",
            "Epoch 12/50\n",
            "178/178 [==============================] - 20s 110ms/step - loss: 9732306.0000 - mse: 9732306.0000\n",
            "Epoch 13/50\n",
            "178/178 [==============================] - 20s 109ms/step - loss: 9428869.0000 - mse: 9428869.0000\n",
            "Epoch 14/50\n",
            "178/178 [==============================] - 19s 109ms/step - loss: 9142533.0000 - mse: 9142533.0000\n",
            "Epoch 15/50\n",
            "178/178 [==============================] - 20s 114ms/step - loss: 8876002.0000 - mse: 8876002.0000\n",
            "Epoch 16/50\n",
            "178/178 [==============================] - 20s 110ms/step - loss: 8610296.0000 - mse: 8610296.0000\n",
            "Epoch 17/50\n",
            "178/178 [==============================] - 19s 108ms/step - loss: 8362578.5000 - mse: 8362578.5000\n",
            "Epoch 18/50\n",
            "178/178 [==============================] - 19s 108ms/step - loss: 8129681.5000 - mse: 8129681.5000\n",
            "Epoch 19/50\n",
            "178/178 [==============================] - 19s 109ms/step - loss: 7907167.5000 - mse: 7907167.5000\n",
            "Epoch 20/50\n",
            "178/178 [==============================] - 20s 111ms/step - loss: 7696426.0000 - mse: 7696426.0000\n",
            "Epoch 21/50\n",
            "178/178 [==============================] - 21s 118ms/step - loss: 7499424.0000 - mse: 7499424.0000\n",
            "Epoch 22/50\n",
            "178/178 [==============================] - 21s 114ms/step - loss: 7308621.0000 - mse: 7308621.0000\n",
            "Epoch 23/50\n",
            "178/178 [==============================] - 20s 110ms/step - loss: 7131446.5000 - mse: 7131446.5000\n",
            "Epoch 24/50\n",
            "178/178 [==============================] - 20s 111ms/step - loss: 6966215.0000 - mse: 6966215.0000\n",
            "Epoch 25/50\n",
            "178/178 [==============================] - 19s 109ms/step - loss: 6802971.5000 - mse: 6802971.5000\n",
            "Epoch 26/50\n",
            "178/178 [==============================] - 19s 108ms/step - loss: 6664441.0000 - mse: 6664441.0000\n",
            "Epoch 27/50\n",
            "178/178 [==============================] - 19s 109ms/step - loss: 6533884.0000 - mse: 6533884.0000\n",
            "Epoch 28/50\n",
            "178/178 [==============================] - 20s 110ms/step - loss: 6405962.0000 - mse: 6405962.0000\n",
            "Epoch 29/50\n",
            "178/178 [==============================] - 20s 109ms/step - loss: 6277385.5000 - mse: 6277385.5000\n",
            "Epoch 30/50\n",
            "178/178 [==============================] - 19s 108ms/step - loss: 6176194.5000 - mse: 6176194.5000\n",
            "Epoch 31/50\n",
            "178/178 [==============================] - 20s 109ms/step - loss: 6070806.5000 - mse: 6070806.5000\n",
            "Epoch 32/50\n",
            "178/178 [==============================] - 20s 115ms/step - loss: 5991557.0000 - mse: 5991557.0000\n",
            "Epoch 33/50\n",
            "178/178 [==============================] - 22s 125ms/step - loss: 5905658.0000 - mse: 5905658.0000\n",
            "Epoch 34/50\n",
            "178/178 [==============================] - 20s 110ms/step - loss: 5828306.5000 - mse: 5828306.5000\n",
            "Epoch 35/50\n",
            "178/178 [==============================] - 22s 121ms/step - loss: 5755654.0000 - mse: 5755654.0000\n",
            "Epoch 36/50\n",
            "178/178 [==============================] - 20s 110ms/step - loss: 5692925.5000 - mse: 5692925.5000\n",
            "Epoch 37/50\n",
            "178/178 [==============================] - 19s 109ms/step - loss: 5650669.0000 - mse: 5650669.0000\n",
            "Epoch 38/50\n",
            "178/178 [==============================] - 19s 109ms/step - loss: 5592957.0000 - mse: 5592957.0000\n",
            "Epoch 39/50\n",
            "178/178 [==============================] - 20s 109ms/step - loss: 5551511.0000 - mse: 5551511.0000\n",
            "Epoch 40/50\n",
            "178/178 [==============================] - 19s 109ms/step - loss: 5510303.0000 - mse: 5510303.0000\n",
            "Epoch 41/50\n",
            "178/178 [==============================] - 20s 111ms/step - loss: 5485145.5000 - mse: 5485145.5000\n",
            "Epoch 42/50\n",
            "178/178 [==============================] - 19s 109ms/step - loss: 5428215.0000 - mse: 5428215.0000\n",
            "Epoch 43/50\n",
            "178/178 [==============================] - 20s 114ms/step - loss: 5400080.0000 - mse: 5400080.0000\n",
            "Epoch 44/50\n",
            "178/178 [==============================] - 23s 127ms/step - loss: 5368411.0000 - mse: 5368411.0000\n",
            "Epoch 45/50\n",
            "178/178 [==============================] - 21s 119ms/step - loss: 5340532.5000 - mse: 5340532.5000\n",
            "Epoch 46/50\n",
            "178/178 [==============================] - 20s 111ms/step - loss: 5313003.0000 - mse: 5313003.0000\n",
            "Epoch 47/50\n",
            "178/178 [==============================] - 20s 113ms/step - loss: 5315145.0000 - mse: 5315145.0000\n",
            "Epoch 48/50\n",
            "178/178 [==============================] - 25s 138ms/step - loss: 5281962.5000 - mse: 5281962.5000\n",
            "Epoch 49/50\n",
            "178/178 [==============================] - 21s 117ms/step - loss: 5270398.0000 - mse: 5270398.0000\n",
            "Epoch 50/50\n",
            "178/178 [==============================] - 22s 122ms/step - loss: 5255979.5000 - mse: 5255979.5000\n",
            "fit 50\n",
            "Epoch 1/50\n",
            " 25/178 [===>..........................] - ETA: 16s - loss: 5774707.0000 - mse: 5774707.0000"
          ]
        }
      ],
      "source": [
        "fit(model, batch_size=32, epochs=100000, save_after_epochs=50, start_epoch_num=0, lr=0.001, unfreeze_start = unfreeze_start, custom_tag='')"
      ]
    },
    {
      "cell_type": "code",
      "source": [],
      "metadata": {
        "id": "k8VMoJ_1lxLe"
      },
      "execution_count": null,
      "outputs": []
    },
    {
      "cell_type": "code",
      "source": [],
      "metadata": {
        "id": "ftyL_-h2lv8v"
      },
      "execution_count": null,
      "outputs": []
    },
    {
      "cell_type": "code",
      "source": [
        "import os\n",
        "import numpy as np\n",
        "import matplotlib.pyplot as plt\n",
        "import pandas as pd\n",
        "\n",
        "def plot_loss(unfrozen_layers, lr:str, batch_size=None, minus_epochstart=0, custom_tag=None):\n",
        "  folder = '/content/drive/MyDrive/Data/BikePricePredict/'\n",
        "  y = []\n",
        "  x = []\n",
        "  for file in os.listdir(folder):\n",
        "    if 'unfr'+str(unfrozen_layers) in file and 'lr'+str(lr) in file and 'history' in file:\n",
        "      if batch_size is not None:\n",
        "        if 'bs'+str(batch_size) not in file:\n",
        "          continue\n",
        "      if custom_tag is not None:\n",
        "        if custom_tag not in file:\n",
        "          continue\n",
        "\n",
        "      epochstart = file.split('ep')[-1].replace('.csv','')\n",
        "      losses = pd.read_csv(folder+file)['loss'].tolist()\n",
        "      xi = list(np.arange(len(losses)) +int(epochstart) - minus_epochstart)\n",
        "      y += losses\n",
        "      x += xi\n",
        "  plt.title(f'unfrozen layers: {unfrozen_layers}, learning_rate: {lr}')\n",
        "\n",
        "  plt.plot(x, y)\n",
        "\n",
        "\n",
        "  \n",
        "\n",
        "\n",
        "\n"
      ],
      "metadata": {
        "id": "F-TiV5SuEC9E"
      },
      "execution_count": null,
      "outputs": []
    },
    {
      "cell_type": "code",
      "source": [
        "plot_loss(163,'0.003', minus_epochstart=100), plot_loss(163, '0.001', batch_size=32),plot_loss(163, '0.0001', batch_size=32), plot_loss(163, '0.0003', batch_size=32)  # plot_loss(163, '0.0015') , plot_loss(163, '0.002'), "
      ],
      "metadata": {
        "id": "RgsE2V83Vnpv"
      },
      "execution_count": null,
      "outputs": []
    },
    {
      "cell_type": "code",
      "source": [
        "plot_loss(163,'0.001')"
      ],
      "metadata": {
        "id": "dcDldwRfXLlZ"
      },
      "execution_count": null,
      "outputs": []
    },
    {
      "cell_type": "code",
      "source": [
        "pd.read_csv('/content/drive/MyDrive/Data/BikePricePredict/history_unfr163_lr0.003_ep100.csv')"
      ],
      "metadata": {
        "id": "QLPjNRC0I-U-"
      },
      "execution_count": null,
      "outputs": []
    },
    {
      "cell_type": "code",
      "execution_count": null,
      "metadata": {
        "id": "VuNLgYXYKmPT"
      },
      "outputs": [],
      "source": [
        "\n",
        "\n",
        "\n",
        "# train model, specify batch size\n",
        "batch_size = 128\n",
        "epochs = 50\n",
        "if colab:\n",
        "  with tf.device('/GPU:0'):\n",
        "      history = model.fit(dataset.batch(batch_size), epochs=epochs)\n",
        "else:\n",
        "  history = model.fit(dataset.batch(batch_size), epochs=epochs)\n",
        "\n",
        "# plot history\n",
        "import matplotlib.pyplot as plt\n",
        "plt.plot(history.history['loss'])"
      ]
    },
    {
      "cell_type": "code",
      "execution_count": null,
      "metadata": {
        "id": "y_v2aeJLKmPU"
      },
      "outputs": [],
      "source": [
        "# visualize part of the image which contributed most to the prediction\n",
        "def visualize_heatmap(model, image):\n",
        "    # get prediction\n",
        "    prediction = model.predict(image[np.newaxis, ...])[0]\n",
        "    # get gradient\n",
        "    with tf.GradientTape() as tape:\n",
        "        # cast image to float32\n",
        "        inputs = tf.cast(image[np.newaxis, ...], tf.float32)\n",
        "        # watch the input pixels\n",
        "        tape.watch(inputs)\n",
        "        # get the predictions\n",
        "        predictions = model(inputs)\n",
        "      \n",
        "    print(predictions.shape)\n",
        "    # get the gradient of the loss with respect to the inputs\n",
        "    gradients = tape.gradient(predictions, inputs)\n",
        "    # get the mean gradient across the channels\n",
        "    gradient = tf.reduce_mean(gradients, axis=(0, 3))\n",
        "    # get the mean prediction across the channels\n",
        "    prediction = predictions#tf.reduce_mean(predictions, axis=3)[0]\n",
        "    # scale the prediction\n",
        "    prediction /= tf.reduce_max(prediction)\n",
        "    # scale the gradient\n",
        "    gradient /= tf.reduce_max(gradient)\n",
        "    # upsample the prediction and the gradient\n",
        "    prediction = tf.image.resize(prediction, [256, 256])\n",
        "    gradient = tf.image.resize(gradient, [256, 256])\n",
        "    # convert to numpy\n",
        "    prediction = prediction.numpy()\n",
        "    gradient = gradient.numpy()\n",
        "    # plot the prediction and the gradient\n",
        "    plt.figure(figsize=(10, 10))\n",
        "    plt.subplot(1, 2, 1)\n",
        "    plt.imshow(image)\n",
        "    plt.imshow(prediction, cmap='jet', alpha=0.5)\n",
        "    plt.axis('off')\n",
        "    plt.subplot(1, 2, 2)\n",
        "    plt.imshow(image)\n",
        "    plt.imshow(gradient, cmap='jet', alpha=0.5)\n",
        "    plt.axis('off')\n",
        "    plt.show()\n",
        "\n",
        "visualize_heatmap(model, x)"
      ]
    }
  ],
  "metadata": {
    "accelerator": "GPU",
    "colab": {
      "gpuType": "T4",
      "provenance": []
    },
    "gpuClass": "standard",
    "kernelspec": {
      "display_name": "base",
      "language": "python",
      "name": "python3"
    },
    "language_info": {
      "codemirror_mode": {
        "name": "ipython",
        "version": 3
      },
      "file_extension": ".py",
      "mimetype": "text/x-python",
      "name": "python",
      "nbconvert_exporter": "python",
      "pygments_lexer": "ipython3",
      "version": "3.10.8"
    },
    "orig_nbformat": 4
  },
  "nbformat": 4,
  "nbformat_minor": 0
}