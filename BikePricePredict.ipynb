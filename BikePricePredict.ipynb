{
  "cells": [
    {
      "cell_type": "code",
      "execution_count": 17,
      "metadata": {
        "colab": {
          "base_uri": "https://localhost:8080/"
        },
        "id": "SMVlWo4iKyck",
        "outputId": "7c86deea-79ae-4059-ac01-8ba784a233a5"
      },
      "outputs": [
        {
          "output_type": "stream",
          "name": "stdout",
          "text": [
            "Running in Google Colab\n",
            "Mounted at /content/drive\n"
          ]
        }
      ],
      "source": [
        "import os\n",
        "\n",
        "colab = 'COLAB_GPU' in os.environ\n",
        "if colab:\n",
        "    print(\"Running in Google Colab\")\n",
        "    from google.colab import drive\n",
        "    drive.mount('/content/drive', force_remount=True)\n",
        "    DRIVE_FOLDER = '/content/drive/MyDrive/Data/BikePricePredict/'"
      ]
    },
    {
      "cell_type": "code",
      "source": [
        "#!unzip /content/drive/MyDrive/Data/BikePricePredict/bicycles_all_keep_nodupes3_resized.zip -d /content/data/"
      ],
      "metadata": {
        "id": "q-DYpD9rFea8"
      },
      "execution_count": 18,
      "outputs": []
    },
    {
      "cell_type": "code",
      "execution_count": 19,
      "metadata": {
        "id": "5A6B728SKmPL"
      },
      "outputs": [],
      "source": [
        "import numpy as np\n",
        "import os\n",
        "import PIL\n",
        "import PIL.Image\n",
        "import tensorflow as tf"
      ]
    },
    {
      "cell_type": "code",
      "source": [],
      "metadata": {
        "id": "2XW02xIzFpsv"
      },
      "execution_count": 19,
      "outputs": []
    },
    {
      "cell_type": "code",
      "execution_count": 20,
      "metadata": {
        "id": "pQWhhqpuKmPP"
      },
      "outputs": [],
      "source": [
        "def get_dataset_path_and_labels(dataset_path):\n",
        "    labels = []\n",
        "    files = []\n",
        "    for file in os.listdir(dataset_path):\n",
        "        if 'Steuern' in file:\n",
        "          continue\n",
        "        label = file.split('_')[-1].replace('.jpg','').replace('ÿ','').replace('ÿ','').replace('ab','').strip()\n",
        "        labels.append(float(label))\n",
        "        files.append(os.path.join(dataset_path, file))\n",
        "    return files, labels"
      ]
    },
    {
      "cell_type": "code",
      "execution_count": 21,
      "metadata": {
        "id": "ALSKuaS-KmPQ"
      },
      "outputs": [],
      "source": [
        "\n",
        "def load_and_preprocess_image(path, label):\n",
        "    image = tf.io.read_file(path)\n",
        "    image = tf.image.decode_jpeg(image, channels=3)\n",
        "\n",
        "    ''' # preprocess\n",
        "    image = tf.image.resize(image, [256, 256])\n",
        "    image /= 255.0 # normalize '''\n",
        "\n",
        "\n",
        "    '''  # Flip the image horizontally\n",
        "    flipped_image = tf.image.flip_left_right(image) '''\n",
        "\n",
        "   \n",
        "    \n",
        "    # Add the augmented images to the dataset\n",
        "    ''' images = tf.stack([image, flipped_image])\n",
        "    labels = tf.stack([label, label, label]) '''\n",
        "\n",
        "    return image, label\n",
        "\n",
        "\n",
        "\n"
      ]
    },
    {
      "cell_type": "code",
      "execution_count": 22,
      "metadata": {
        "id": "_U7YqCj9KmPQ"
      },
      "outputs": [],
      "source": [
        "from tensorflow.keras import layers\n",
        "import numpy as np\n",
        "\n",
        "def get_dataset(dataset_path, skip, take, random_seed):\n",
        "    \n",
        "    files, labels = get_dataset_path_and_labels(dataset_path)\n",
        "\n",
        "    shuffled_index = np.random.RandomState(seed=random_seed).permutation(len(files))\n",
        "    take_index = shuffled_index[skip:skip+take]\n",
        "    files = [files[i] for i in take_index]\n",
        "    labels = [labels[i] for i in take_index]\n",
        "\n",
        "    ds = tf.data.Dataset.from_tensor_slices((files, labels))\n",
        "    ds = ds.map(load_and_preprocess_image)\n",
        "    return ds\n",
        "\n",
        "\n",
        "import os\n",
        "\n",
        "if colab:\n",
        "    #dir = DRIVE_FOLDER+'bicycles_resized_1024_20k'\n",
        "    dir = '/content/data/bicycles_all_keep_nodupes3_resized/'\n",
        "  \n",
        "else:\n",
        "    print(\"Running locally\")\n",
        "\n",
        "\n",
        "IMG_SIZE = 256\n",
        "data_preprocessing = tf.keras.Sequential([\n",
        "  layers.Resizing(IMG_SIZE, IMG_SIZE),\n",
        "  layers.Rescaling(1./255),\n",
        "  layers.RandomFlip(\"horizontal\"),\n",
        "  layers.RandomRotation(0.01),\n",
        "  \n",
        "])\n",
        "\n",
        "\n",
        "\n",
        "\n",
        "test_size = 1000\n",
        "dev_size = 1000\n",
        "\n",
        "\n",
        "seed = 4\n",
        "# no shuffling\n",
        "test_dataset = get_dataset(dir, skip=0, take=test_size, random_seed=seed)\n",
        "dev_dataset = get_dataset(dir, skip=test_size, take=dev_size, random_seed=seed)\n",
        "train_dataset = get_dataset(dir, skip=test_size+dev_size, take=10000000, random_seed=seed)\n",
        "\n",
        "\n",
        "\n",
        "\n",
        "train_dataset = train_dataset.map(lambda x, y : (data_preprocessing(x, training=True), y) )\n",
        "dev_dataset = dev_dataset.map(lambda x, y : (data_preprocessing(x, training=False), y) )\n",
        "test_dataset = test_dataset.map(lambda x, y : (data_preprocessing(x, training=False), y) )"
      ]
    },
    {
      "cell_type": "code",
      "execution_count": 23,
      "metadata": {
        "colab": {
          "base_uri": "https://localhost:8080/"
        },
        "id": "lv14jb2rRNit",
        "outputId": "73330616-9f3d-4e46-ca1a-0e54eb81999a"
      },
      "outputs": [
        {
          "output_type": "execute_result",
          "data": {
            "text/plain": [
              "(28635, 1000, 1000)"
            ]
          },
          "metadata": {},
          "execution_count": 23
        }
      ],
      "source": [
        "len(train_dataset), len(dev_dataset), len(test_dataset)"
      ]
    },
    {
      "cell_type": "code",
      "source": [
        "x, y = next(train_dataset.take(1).as_numpy_iterator())"
      ],
      "metadata": {
        "id": "nh6eCRp77l-H"
      },
      "execution_count": 24,
      "outputs": []
    },
    {
      "cell_type": "code",
      "execution_count": 25,
      "metadata": {
        "colab": {
          "base_uri": "https://localhost:8080/",
          "height": 273
        },
        "id": "GFp46rOjKmPS",
        "outputId": "586b61e2-6693-45f6-d604-3530436bcc32"
      },
      "outputs": [
        {
          "output_type": "execute_result",
          "data": {
            "text/plain": [
              "<PIL.Image.Image image mode=RGB size=256x256 at 0x7F7E75052EF0>"
            ],
            "image/png": "[encoded data removed]"
          },
          "metadata": {},
          "execution_count": 25
        }
      ],
      "source": [
        "import PIL\n",
        "# view x as image with PIL\n",
        "PIL.Image.fromarray((x * 255).astype(np.uint8))"
      ]
    },
    {
      "cell_type": "code",
      "execution_count": 26,
      "metadata": {
        "colab": {
          "base_uri": "https://localhost:8080/"
        },
        "id": "b0oNV7iwYcaV",
        "outputId": "dfc9b670-20cb-4930-d501-c9c32ec15dc9"
      },
      "outputs": [
        {
          "output_type": "stream",
          "name": "stdout",
          "text": [
            "Model: \"resnet50v2\"\n",
            "__________________________________________________________________________________________________\n",
            " Layer (type)                   Output Shape         Param #     Connected to                     \n",
            "==================================================================================================\n",
            " input_1 (InputLayer)           [(None, None, None,  0           []                               \n",
            "                                 3)]                                                              \n",
            "                                                                                                  \n",
            " conv1_pad (ZeroPadding2D)      (None, None, None,   0           ['input_1[0][0]']                \n",
            "                                3)                                                                \n",
            "                                                                                                  \n",
            " conv1_conv (Conv2D)            (None, None, None,   9472        ['conv1_pad[0][0]']              \n",
            "                                64)                                                               \n",
            "                                                                                                  \n",
            " pool1_pad (ZeroPadding2D)      (None, None, None,   0           ['conv1_conv[0][0]']             \n",
            "                                64)                                                               \n",
            "                                                                                                  \n",
            " pool1_pool (MaxPooling2D)      (None, None, None,   0           ['pool1_pad[0][0]']              \n",
            "                                64)                                                               \n",
            "                                                                                                  \n",
            " conv2_block1_preact_bn (BatchN  (None, None, None,   256        ['pool1_pool[0][0]']             \n",
            " ormalization)                  64)                                                               \n",
            "                                                                                                  \n",
            " conv2_block1_preact_relu (Acti  (None, None, None,   0          ['conv2_block1_preact_bn[0][0]'] \n",
            " vation)                        64)                                                               \n",
            "                                                                                                  \n",
            " conv2_block1_1_conv (Conv2D)   (None, None, None,   4096        ['conv2_block1_preact_relu[0][0]'\n",
            "                                64)                              ]                                \n",
            "                                                                                                  \n",
            " conv2_block1_1_bn (BatchNormal  (None, None, None,   256        ['conv2_block1_1_conv[0][0]']    \n",
            " ization)                       64)                                                               \n",
            "                                                                                                  \n",
            " conv2_block1_1_relu (Activatio  (None, None, None,   0          ['conv2_block1_1_bn[0][0]']      \n",
            " n)                             64)                                                               \n",
            "                                                                                                  \n",
            " conv2_block1_2_pad (ZeroPaddin  (None, None, None,   0          ['conv2_block1_1_relu[0][0]']    \n",
            " g2D)                           64)                                                               \n",
            "                                                                                                  \n",
            " conv2_block1_2_conv (Conv2D)   (None, None, None,   36864       ['conv2_block1_2_pad[0][0]']     \n",
            "                                64)                                                               \n",
            "                                                                                                  \n",
            " conv2_block1_2_bn (BatchNormal  (None, None, None,   256        ['conv2_block1_2_conv[0][0]']    \n",
            " ization)                       64)                                                               \n",
            "                                                                                                  \n",
            " conv2_block1_2_relu (Activatio  (None, None, None,   0          ['conv2_block1_2_bn[0][0]']      \n",
            " n)                             64)                                                               \n",
            "                                                                                                  \n",
            " conv2_block1_0_conv (Conv2D)   (None, None, None,   16640       ['conv2_block1_preact_relu[0][0]'\n",
            "                                256)                             ]                                \n",
            "                                                                                                  \n",
            " conv2_block1_3_conv (Conv2D)   (None, None, None,   16640       ['conv2_block1_2_relu[0][0]']    \n",
            "                                256)                                                              \n",
            "                                                                                                  \n",
            " conv2_block1_out (Add)         (None, None, None,   0           ['conv2_block1_0_conv[0][0]',    \n",
            "                                256)                              'conv2_block1_3_conv[0][0]']    \n",
            "                                                                                                  \n",
            " conv2_block2_preact_bn (BatchN  (None, None, None,   1024       ['conv2_block1_out[0][0]']       \n",
            " ormalization)                  256)                                                              \n",
            "                                                                                                  \n",
            " conv2_block2_preact_relu (Acti  (None, None, None,   0          ['conv2_block2_preact_bn[0][0]'] \n",
            " vation)                        256)                                                              \n",
            "                                                                                                  \n",
            " conv2_block2_1_conv (Conv2D)   (None, None, None,   16384       ['conv2_block2_preact_relu[0][0]'\n",
            "                                64)                              ]                                \n",
            "                                                                                                  \n",
            " conv2_block2_1_bn (BatchNormal  (None, None, None,   256        ['conv2_block2_1_conv[0][0]']    \n",
            " ization)                       64)                                                               \n",
            "                                                                                                  \n",
            " conv2_block2_1_relu (Activatio  (None, None, None,   0          ['conv2_block2_1_bn[0][0]']      \n",
            " n)                             64)                                                               \n",
            "                                                                                                  \n",
            " conv2_block2_2_pad (ZeroPaddin  (None, None, None,   0          ['conv2_block2_1_relu[0][0]']    \n",
            " g2D)                           64)                                                               \n",
            "                                                                                                  \n",
            " conv2_block2_2_conv (Conv2D)   (None, None, None,   36864       ['conv2_block2_2_pad[0][0]']     \n",
            "                                64)                                                               \n",
            "                                                                                                  \n",
            " conv2_block2_2_bn (BatchNormal  (None, None, None,   256        ['conv2_block2_2_conv[0][0]']    \n",
            " ization)                       64)                                                               \n",
            "                                                                                                  \n",
            " conv2_block2_2_relu (Activatio  (None, None, None,   0          ['conv2_block2_2_bn[0][0]']      \n",
            " n)                             64)                                                               \n",
            "                                                                                                  \n",
            " conv2_block2_3_conv (Conv2D)   (None, None, None,   16640       ['conv2_block2_2_relu[0][0]']    \n",
            "                                256)                                                              \n",
            "                                                                                                  \n",
            " conv2_block2_out (Add)         (None, None, None,   0           ['conv2_block1_out[0][0]',       \n",
            "                                256)                              'conv2_block2_3_conv[0][0]']    \n",
            "                                                                                                  \n",
            " conv2_block3_preact_bn (BatchN  (None, None, None,   1024       ['conv2_block2_out[0][0]']       \n",
            " ormalization)                  256)                                                              \n",
            "                                                                                                  \n",
            " conv2_block3_preact_relu (Acti  (None, None, None,   0          ['conv2_block3_preact_bn[0][0]'] \n",
            " vation)                        256)                                                              \n",
            "                                                                                                  \n",
            " conv2_block3_1_conv (Conv2D)   (None, None, None,   16384       ['conv2_block3_preact_relu[0][0]'\n",
            "                                64)                              ]                                \n",
            "                                                                                                  \n",
            " conv2_block3_1_bn (BatchNormal  (None, None, None,   256        ['conv2_block3_1_conv[0][0]']    \n",
            " ization)                       64)                                                               \n",
            "                                                                                                  \n",
            " conv2_block3_1_relu (Activatio  (None, None, None,   0          ['conv2_block3_1_bn[0][0]']      \n",
            " n)                             64)                                                               \n",
            "                                                                                                  \n",
            " conv2_block3_2_pad (ZeroPaddin  (None, None, None,   0          ['conv2_block3_1_relu[0][0]']    \n",
            " g2D)                           64)                                                               \n",
            "                                                                                                  \n",
            " conv2_block3_2_conv (Conv2D)   (None, None, None,   36864       ['conv2_block3_2_pad[0][0]']     \n",
            "                                64)                                                               \n",
            "                                                                                                  \n",
            " conv2_block3_2_bn (BatchNormal  (None, None, None,   256        ['conv2_block3_2_conv[0][0]']    \n",
            " ization)                       64)                                                               \n",
            "                                                                                                  \n",
            " conv2_block3_2_relu (Activatio  (None, None, None,   0          ['conv2_block3_2_bn[0][0]']      \n",
            " n)                             64)                                                               \n",
            "                                                                                                  \n",
            " max_pooling2d (MaxPooling2D)   (None, None, None,   0           ['conv2_block2_out[0][0]']       \n",
            "                                256)                                                              \n",
            "                                                                                                  \n",
            " conv2_block3_3_conv (Conv2D)   (None, None, None,   16640       ['conv2_block3_2_relu[0][0]']    \n",
            "                                256)                                                              \n",
            "                                                                                                  \n",
            " conv2_block3_out (Add)         (None, None, None,   0           ['max_pooling2d[0][0]',          \n",
            "                                256)                              'conv2_block3_3_conv[0][0]']    \n",
            "                                                                                                  \n",
            " conv3_block1_preact_bn (BatchN  (None, None, None,   1024       ['conv2_block3_out[0][0]']       \n",
            " ormalization)                  256)                                                              \n",
            "                                                                                                  \n",
            " conv3_block1_preact_relu (Acti  (None, None, None,   0          ['conv3_block1_preact_bn[0][0]'] \n",
            " vation)                        256)                                                              \n",
            "                                                                                                  \n",
            " conv3_block1_1_conv (Conv2D)   (None, None, None,   32768       ['conv3_block1_preact_relu[0][0]'\n",
            "                                128)                             ]                                \n",
            "                                                                                                  \n",
            " conv3_block1_1_bn (BatchNormal  (None, None, None,   512        ['conv3_block1_1_conv[0][0]']    \n",
            " ization)                       128)                                                              \n",
            "                                                                                                  \n",
            " conv3_block1_1_relu (Activatio  (None, None, None,   0          ['conv3_block1_1_bn[0][0]']      \n",
            " n)                             128)                                                              \n",
            "                                                                                                  \n",
            " conv3_block1_2_pad (ZeroPaddin  (None, None, None,   0          ['conv3_block1_1_relu[0][0]']    \n",
            " g2D)                           128)                                                              \n",
            "                                                                                                  \n",
            " conv3_block1_2_conv (Conv2D)   (None, None, None,   147456      ['conv3_block1_2_pad[0][0]']     \n",
            "                                128)                                                              \n",
            "                                                                                                  \n",
            " conv3_block1_2_bn (BatchNormal  (None, None, None,   512        ['conv3_block1_2_conv[0][0]']    \n",
            " ization)                       128)                                                              \n",
            "                                                                                                  \n",
            " conv3_block1_2_relu (Activatio  (None, None, None,   0          ['conv3_block1_2_bn[0][0]']      \n",
            " n)                             128)                                                              \n",
            "                                                                                                  \n",
            " conv3_block1_0_conv (Conv2D)   (None, None, None,   131584      ['conv3_block1_preact_relu[0][0]'\n",
            "                                512)                             ]                                \n",
            "                                                                                                  \n",
            " conv3_block1_3_conv (Conv2D)   (None, None, None,   66048       ['conv3_block1_2_relu[0][0]']    \n",
            "                                512)                                                              \n",
            "                                                                                                  \n",
            " conv3_block1_out (Add)         (None, None, None,   0           ['conv3_block1_0_conv[0][0]',    \n",
            "                                512)                              'conv3_block1_3_conv[0][0]']    \n",
            "                                                                                                  \n",
            " conv3_block2_preact_bn (BatchN  (None, None, None,   2048       ['conv3_block1_out[0][0]']       \n",
            " ormalization)                  512)                                                              \n",
            "                                                                                                  \n",
            " conv3_block2_preact_relu (Acti  (None, None, None,   0          ['conv3_block2_preact_bn[0][0]'] \n",
            " vation)                        512)                                                              \n",
            "                                                                                                  \n",
            " conv3_block2_1_conv (Conv2D)   (None, None, None,   65536       ['conv3_block2_preact_relu[0][0]'\n",
            "                                128)                             ]                                \n",
            "                                                                                                  \n",
            " conv3_block2_1_bn (BatchNormal  (None, None, None,   512        ['conv3_block2_1_conv[0][0]']    \n",
            " ization)                       128)                                                              \n",
            "                                                                                                  \n",
            " conv3_block2_1_relu (Activatio  (None, None, None,   0          ['conv3_block2_1_bn[0][0]']      \n",
            " n)                             128)                                                              \n",
            "                                                                                                  \n",
            " conv3_block2_2_pad (ZeroPaddin  (None, None, None,   0          ['conv3_block2_1_relu[0][0]']    \n",
            " g2D)                           128)                                                              \n",
            "                                                                                                  \n",
            " conv3_block2_2_conv (Conv2D)   (None, None, None,   147456      ['conv3_block2_2_pad[0][0]']     \n",
            "                                128)                                                              \n",
            "                                                                                                  \n",
            " conv3_block2_2_bn (BatchNormal  (None, None, None,   512        ['conv3_block2_2_conv[0][0]']    \n",
            " ization)                       128)                                                              \n",
            "                                                                                                  \n",
            " conv3_block2_2_relu (Activatio  (None, None, None,   0          ['conv3_block2_2_bn[0][0]']      \n",
            " n)                             128)                                                              \n",
            "                                                                                                  \n",
            " conv3_block2_3_conv (Conv2D)   (None, None, None,   66048       ['conv3_block2_2_relu[0][0]']    \n",
            "                                512)                                                              \n",
            "                                                                                                  \n",
            " conv3_block2_out (Add)         (None, None, None,   0           ['conv3_block1_out[0][0]',       \n",
            "                                512)                              'conv3_block2_3_conv[0][0]']    \n",
            "                                                                                                  \n",
            " conv3_block3_preact_bn (BatchN  (None, None, None,   2048       ['conv3_block2_out[0][0]']       \n",
            " ormalization)                  512)                                                              \n",
            "                                                                                                  \n",
            " conv3_block3_preact_relu (Acti  (None, None, None,   0          ['conv3_block3_preact_bn[0][0]'] \n",
            " vation)                        512)                                                              \n",
            "                                                                                                  \n",
            " conv3_block3_1_conv (Conv2D)   (None, None, None,   65536       ['conv3_block3_preact_relu[0][0]'\n",
            "                                128)                             ]                                \n",
            "                                                                                                  \n",
            " conv3_block3_1_bn (BatchNormal  (None, None, None,   512        ['conv3_block3_1_conv[0][0]']    \n",
            " ization)                       128)                                                              \n",
            "                                                                                                  \n",
            " conv3_block3_1_relu (Activatio  (None, None, None,   0          ['conv3_block3_1_bn[0][0]']      \n",
            " n)                             128)                                                              \n",
            "                                                                                                  \n",
            " conv3_block3_2_pad (ZeroPaddin  (None, None, None,   0          ['conv3_block3_1_relu[0][0]']    \n",
            " g2D)                           128)                                                              \n",
            "                                                                                                  \n",
            " conv3_block3_2_conv (Conv2D)   (None, None, None,   147456      ['conv3_block3_2_pad[0][0]']     \n",
            "                                128)                                                              \n",
            "                                                                                                  \n",
            " conv3_block3_2_bn (BatchNormal  (None, None, None,   512        ['conv3_block3_2_conv[0][0]']    \n",
            " ization)                       128)                                                              \n",
            "                                                                                                  \n",
            " conv3_block3_2_relu (Activatio  (None, None, None,   0          ['conv3_block3_2_bn[0][0]']      \n",
            " n)                             128)                                                              \n",
            "                                                                                                  \n",
            " conv3_block3_3_conv (Conv2D)   (None, None, None,   66048       ['conv3_block3_2_relu[0][0]']    \n",
            "                                512)                                                              \n",
            "                                                                                                  \n",
            " conv3_block3_out (Add)         (None, None, None,   0           ['conv3_block2_out[0][0]',       \n",
            "                                512)                              'conv3_block3_3_conv[0][0]']    \n",
            "                                                                                                  \n",
            " conv3_block4_preact_bn (BatchN  (None, None, None,   2048       ['conv3_block3_out[0][0]']       \n",
            " ormalization)                  512)                                                              \n",
            "                                                                                                  \n",
            " conv3_block4_preact_relu (Acti  (None, None, None,   0          ['conv3_block4_preact_bn[0][0]'] \n",
            " vation)                        512)                                                              \n",
            "                                                                                                  \n",
            " conv3_block4_1_conv (Conv2D)   (None, None, None,   65536       ['conv3_block4_preact_relu[0][0]'\n",
            "                                128)                             ]                                \n",
            "                                                                                                  \n",
            " conv3_block4_1_bn (BatchNormal  (None, None, None,   512        ['conv3_block4_1_conv[0][0]']    \n",
            " ization)                       128)                                                              \n",
            "                                                                                                  \n",
            " conv3_block4_1_relu (Activatio  (None, None, None,   0          ['conv3_block4_1_bn[0][0]']      \n",
            " n)                             128)                                                              \n",
            "                                                                                                  \n",
            " conv3_block4_2_pad (ZeroPaddin  (None, None, None,   0          ['conv3_block4_1_relu[0][0]']    \n",
            " g2D)                           128)                                                              \n",
            "                                                                                                  \n",
            " conv3_block4_2_conv (Conv2D)   (None, None, None,   147456      ['conv3_block4_2_pad[0][0]']     \n",
            "                                128)                                                              \n",
            "                                                                                                  \n",
            " conv3_block4_2_bn (BatchNormal  (None, None, None,   512        ['conv3_block4_2_conv[0][0]']    \n",
            " ization)                       128)                                                              \n",
            "                                                                                                  \n",
            " conv3_block4_2_relu (Activatio  (None, None, None,   0          ['conv3_block4_2_bn[0][0]']      \n",
            " n)                             128)                                                              \n",
            "                                                                                                  \n",
            " max_pooling2d_1 (MaxPooling2D)  (None, None, None,   0          ['conv3_block3_out[0][0]']       \n",
            "                                512)                                                              \n",
            "                                                                                                  \n",
            " conv3_block4_3_conv (Conv2D)   (None, None, None,   66048       ['conv3_block4_2_relu[0][0]']    \n",
            "                                512)                                                              \n",
            "                                                                                                  \n",
            " conv3_block4_out (Add)         (None, None, None,   0           ['max_pooling2d_1[0][0]',        \n",
            "                                512)                              'conv3_block4_3_conv[0][0]']    \n",
            "                                                                                                  \n",
            " conv4_block1_preact_bn (BatchN  (None, None, None,   2048       ['conv3_block4_out[0][0]']       \n",
            " ormalization)                  512)                                                              \n",
            "                                                                                                  \n",
            " conv4_block1_preact_relu (Acti  (None, None, None,   0          ['conv4_block1_preact_bn[0][0]'] \n",
            " vation)                        512)                                                              \n",
            "                                                                                                  \n",
            " conv4_block1_1_conv (Conv2D)   (None, None, None,   131072      ['conv4_block1_preact_relu[0][0]'\n",
            "                                256)                             ]                                \n",
            "                                                                                                  \n",
            " conv4_block1_1_bn (BatchNormal  (None, None, None,   1024       ['conv4_block1_1_conv[0][0]']    \n",
            " ization)                       256)                                                              \n",
            "                                                                                                  \n",
            " conv4_block1_1_relu (Activatio  (None, None, None,   0          ['conv4_block1_1_bn[0][0]']      \n",
            " n)                             256)                                                              \n",
            "                                                                                                  \n",
            " conv4_block1_2_pad (ZeroPaddin  (None, None, None,   0          ['conv4_block1_1_relu[0][0]']    \n",
            " g2D)                           256)                                                              \n",
            "                                                                                                  \n",
            " conv4_block1_2_conv (Conv2D)   (None, None, None,   589824      ['conv4_block1_2_pad[0][0]']     \n",
            "                                256)                                                              \n",
            "                                                                                                  \n",
            " conv4_block1_2_bn (BatchNormal  (None, None, None,   1024       ['conv4_block1_2_conv[0][0]']    \n",
            " ization)                       256)                                                              \n",
            "                                                                                                  \n",
            " conv4_block1_2_relu (Activatio  (None, None, None,   0          ['conv4_block1_2_bn[0][0]']      \n",
            " n)                             256)                                                              \n",
            "                                                                                                  \n",
            " conv4_block1_0_conv (Conv2D)   (None, None, None,   525312      ['conv4_block1_preact_relu[0][0]'\n",
            "                                1024)                            ]                                \n",
            "                                                                                                  \n",
            " conv4_block1_3_conv (Conv2D)   (None, None, None,   263168      ['conv4_block1_2_relu[0][0]']    \n",
            "                                1024)                                                             \n",
            "                                                                                                  \n",
            " conv4_block1_out (Add)         (None, None, None,   0           ['conv4_block1_0_conv[0][0]',    \n",
            "                                1024)                             'conv4_block1_3_conv[0][0]']    \n",
            "                                                                                                  \n",
            " conv4_block2_preact_bn (BatchN  (None, None, None,   4096       ['conv4_block1_out[0][0]']       \n",
            " ormalization)                  1024)                                                             \n",
            "                                                                                                  \n",
            " conv4_block2_preact_relu (Acti  (None, None, None,   0          ['conv4_block2_preact_bn[0][0]'] \n",
            " vation)                        1024)                                                             \n",
            "                                                                                                  \n",
            " conv4_block2_1_conv (Conv2D)   (None, None, None,   262144      ['conv4_block2_preact_relu[0][0]'\n",
            "                                256)                             ]                                \n",
            "                                                                                                  \n",
            " conv4_block2_1_bn (BatchNormal  (None, None, None,   1024       ['conv4_block2_1_conv[0][0]']    \n",
            " ization)                       256)                                                              \n",
            "                                                                                                  \n",
            " conv4_block2_1_relu (Activatio  (None, None, None,   0          ['conv4_block2_1_bn[0][0]']      \n",
            " n)                             256)                                                              \n",
            "                                                                                                  \n",
            " conv4_block2_2_pad (ZeroPaddin  (None, None, None,   0          ['conv4_block2_1_relu[0][0]']    \n",
            " g2D)                           256)                                                              \n",
            "                                                                                                  \n",
            " conv4_block2_2_conv (Conv2D)   (None, None, None,   589824      ['conv4_block2_2_pad[0][0]']     \n",
            "                                256)                                                              \n",
            "                                                                                                  \n",
            " conv4_block2_2_bn (BatchNormal  (None, None, None,   1024       ['conv4_block2_2_conv[0][0]']    \n",
            " ization)                       256)                                                              \n",
            "                                                                                                  \n",
            " conv4_block2_2_relu (Activatio  (None, None, None,   0          ['conv4_block2_2_bn[0][0]']      \n",
            " n)                             256)                                                              \n",
            "                                                                                                  \n",
            " conv4_block2_3_conv (Conv2D)   (None, None, None,   263168      ['conv4_block2_2_relu[0][0]']    \n",
            "                                1024)                                                             \n",
            "                                                                                                  \n",
            " conv4_block2_out (Add)         (None, None, None,   0           ['conv4_block1_out[0][0]',       \n",
            "                                1024)                             'conv4_block2_3_conv[0][0]']    \n",
            "                                                                                                  \n",
            " conv4_block3_preact_bn (BatchN  (None, None, None,   4096       ['conv4_block2_out[0][0]']       \n",
            " ormalization)                  1024)                                                             \n",
            "                                                                                                  \n",
            " conv4_block3_preact_relu (Acti  (None, None, None,   0          ['conv4_block3_preact_bn[0][0]'] \n",
            " vation)                        1024)                                                             \n",
            "                                                                                                  \n",
            " conv4_block3_1_conv (Conv2D)   (None, None, None,   262144      ['conv4_block3_preact_relu[0][0]'\n",
            "                                256)                             ]                                \n",
            "                                                                                                  \n",
            " conv4_block3_1_bn (BatchNormal  (None, None, None,   1024       ['conv4_block3_1_conv[0][0]']    \n",
            " ization)                       256)                                                              \n",
            "                                                                                                  \n",
            " conv4_block3_1_relu (Activatio  (None, None, None,   0          ['conv4_block3_1_bn[0][0]']      \n",
            " n)                             256)                                                              \n",
            "                                                                                                  \n",
            " conv4_block3_2_pad (ZeroPaddin  (None, None, None,   0          ['conv4_block3_1_relu[0][0]']    \n",
            " g2D)                           256)                                                              \n",
            "                                                                                                  \n",
            " conv4_block3_2_conv (Conv2D)   (None, None, None,   589824      ['conv4_block3_2_pad[0][0]']     \n",
            "                                256)                                                              \n",
            "                                                                                                  \n",
            " conv4_block3_2_bn (BatchNormal  (None, None, None,   1024       ['conv4_block3_2_conv[0][0]']    \n",
            " ization)                       256)                                                              \n",
            "                                                                                                  \n",
            " conv4_block3_2_relu (Activatio  (None, None, None,   0          ['conv4_block3_2_bn[0][0]']      \n",
            " n)                             256)                                                              \n",
            "                                                                                                  \n",
            " conv4_block3_3_conv (Conv2D)   (None, None, None,   263168      ['conv4_block3_2_relu[0][0]']    \n",
            "                                1024)                                                             \n",
            "                                                                                                  \n",
            " conv4_block3_out (Add)         (None, None, None,   0           ['conv4_block2_out[0][0]',       \n",
            "                                1024)                             'conv4_block3_3_conv[0][0]']    \n",
            "                                                                                                  \n",
            " conv4_block4_preact_bn (BatchN  (None, None, None,   4096       ['conv4_block3_out[0][0]']       \n",
            " ormalization)                  1024)                                                             \n",
            "                                                                                                  \n",
            " conv4_block4_preact_relu (Acti  (None, None, None,   0          ['conv4_block4_preact_bn[0][0]'] \n",
            " vation)                        1024)                                                             \n",
            "                                                                                                  \n",
            " conv4_block4_1_conv (Conv2D)   (None, None, None,   262144      ['conv4_block4_preact_relu[0][0]'\n",
            "                                256)                             ]                                \n",
            "                                                                                                  \n",
            " conv4_block4_1_bn (BatchNormal  (None, None, None,   1024       ['conv4_block4_1_conv[0][0]']    \n",
            " ization)                       256)                                                              \n",
            "                                                                                                  \n",
            " conv4_block4_1_relu (Activatio  (None, None, None,   0          ['conv4_block4_1_bn[0][0]']      \n",
            " n)                             256)                                                              \n",
            "                                                                                                  \n",
            " conv4_block4_2_pad (ZeroPaddin  (None, None, None,   0          ['conv4_block4_1_relu[0][0]']    \n",
            " g2D)                           256)                                                              \n",
            "                                                                                                  \n",
            " conv4_block4_2_conv (Conv2D)   (None, None, None,   589824      ['conv4_block4_2_pad[0][0]']     \n",
            "                                256)                                                              \n",
            "                                                                                                  \n",
            " conv4_block4_2_bn (BatchNormal  (None, None, None,   1024       ['conv4_block4_2_conv[0][0]']    \n",
            " ization)                       256)                                                              \n",
            "                                                                                                  \n",
            " conv4_block4_2_relu (Activatio  (None, None, None,   0          ['conv4_block4_2_bn[0][0]']      \n",
            " n)                             256)                                                              \n",
            "                                                                                                  \n",
            " conv4_block4_3_conv (Conv2D)   (None, None, None,   263168      ['conv4_block4_2_relu[0][0]']    \n",
            "                                1024)                                                             \n",
            "                                                                                                  \n",
            " conv4_block4_out (Add)         (None, None, None,   0           ['conv4_block3_out[0][0]',       \n",
            "                                1024)                             'conv4_block4_3_conv[0][0]']    \n",
            "                                                                                                  \n",
            " conv4_block5_preact_bn (BatchN  (None, None, None,   4096       ['conv4_block4_out[0][0]']       \n",
            " ormalization)                  1024)                                                             \n",
            "                                                                                                  \n",
            " conv4_block5_preact_relu (Acti  (None, None, None,   0          ['conv4_block5_preact_bn[0][0]'] \n",
            " vation)                        1024)                                                             \n",
            "                                                                                                  \n",
            " conv4_block5_1_conv (Conv2D)   (None, None, None,   262144      ['conv4_block5_preact_relu[0][0]'\n",
            "                                256)                             ]                                \n",
            "                                                                                                  \n",
            " conv4_block5_1_bn (BatchNormal  (None, None, None,   1024       ['conv4_block5_1_conv[0][0]']    \n",
            " ization)                       256)                                                              \n",
            "                                                                                                  \n",
            " conv4_block5_1_relu (Activatio  (None, None, None,   0          ['conv4_block5_1_bn[0][0]']      \n",
            " n)                             256)                                                              \n",
            "                                                                                                  \n",
            " conv4_block5_2_pad (ZeroPaddin  (None, None, None,   0          ['conv4_block5_1_relu[0][0]']    \n",
            " g2D)                           256)                                                              \n",
            "                                                                                                  \n",
            " conv4_block5_2_conv (Conv2D)   (None, None, None,   589824      ['conv4_block5_2_pad[0][0]']     \n",
            "                                256)                                                              \n",
            "                                                                                                  \n",
            " conv4_block5_2_bn (BatchNormal  (None, None, None,   1024       ['conv4_block5_2_conv[0][0]']    \n",
            " ization)                       256)                                                              \n",
            "                                                                                                  \n",
            " conv4_block5_2_relu (Activatio  (None, None, None,   0          ['conv4_block5_2_bn[0][0]']      \n",
            " n)                             256)                                                              \n",
            "                                                                                                  \n",
            " conv4_block5_3_conv (Conv2D)   (None, None, None,   263168      ['conv4_block5_2_relu[0][0]']    \n",
            "                                1024)                                                             \n",
            "                                                                                                  \n",
            " conv4_block5_out (Add)         (None, None, None,   0           ['conv4_block4_out[0][0]',       \n",
            "                                1024)                             'conv4_block5_3_conv[0][0]']    \n",
            "                                                                                                  \n",
            " conv4_block6_preact_bn (BatchN  (None, None, None,   4096       ['conv4_block5_out[0][0]']       \n",
            " ormalization)                  1024)                                                             \n",
            "                                                                                                  \n",
            " conv4_block6_preact_relu (Acti  (None, None, None,   0          ['conv4_block6_preact_bn[0][0]'] \n",
            " vation)                        1024)                                                             \n",
            "                                                                                                  \n",
            " conv4_block6_1_conv (Conv2D)   (None, None, None,   262144      ['conv4_block6_preact_relu[0][0]'\n",
            "                                256)                             ]                                \n",
            "                                                                                                  \n",
            " conv4_block6_1_bn (BatchNormal  (None, None, None,   1024       ['conv4_block6_1_conv[0][0]']    \n",
            " ization)                       256)                                                              \n",
            "                                                                                                  \n",
            " conv4_block6_1_relu (Activatio  (None, None, None,   0          ['conv4_block6_1_bn[0][0]']      \n",
            " n)                             256)                                                              \n",
            "                                                                                                  \n",
            " conv4_block6_2_pad (ZeroPaddin  (None, None, None,   0          ['conv4_block6_1_relu[0][0]']    \n",
            " g2D)                           256)                                                              \n",
            "                                                                                                  \n",
            " conv4_block6_2_conv (Conv2D)   (None, None, None,   589824      ['conv4_block6_2_pad[0][0]']     \n",
            "                                256)                                                              \n",
            "                                                                                                  \n",
            " conv4_block6_2_bn (BatchNormal  (None, None, None,   1024       ['conv4_block6_2_conv[0][0]']    \n",
            " ization)                       256)                                                              \n",
            "                                                                                                  \n",
            " conv4_block6_2_relu (Activatio  (None, None, None,   0          ['conv4_block6_2_bn[0][0]']      \n",
            " n)                             256)                                                              \n",
            "                                                                                                  \n",
            " max_pooling2d_2 (MaxPooling2D)  (None, None, None,   0          ['conv4_block5_out[0][0]']       \n",
            "                                1024)                                                             \n",
            "                                                                                                  \n",
            " conv4_block6_3_conv (Conv2D)   (None, None, None,   263168      ['conv4_block6_2_relu[0][0]']    \n",
            "                                1024)                                                             \n",
            "                                                                                                  \n",
            " conv4_block6_out (Add)         (None, None, None,   0           ['max_pooling2d_2[0][0]',        \n",
            "                                1024)                             'conv4_block6_3_conv[0][0]']    \n",
            "                                                                                                  \n",
            " conv5_block1_preact_bn (BatchN  (None, None, None,   4096       ['conv4_block6_out[0][0]']       \n",
            " ormalization)                  1024)                                                             \n",
            "                                                                                                  \n",
            " conv5_block1_preact_relu (Acti  (None, None, None,   0          ['conv5_block1_preact_bn[0][0]'] \n",
            " vation)                        1024)                                                             \n",
            "                                                                                                  \n",
            " conv5_block1_1_conv (Conv2D)   (None, None, None,   524288      ['conv5_block1_preact_relu[0][0]'\n",
            "                                512)                             ]                                \n",
            "                                                                                                  \n",
            " conv5_block1_1_bn (BatchNormal  (None, None, None,   2048       ['conv5_block1_1_conv[0][0]']    \n",
            " ization)                       512)                                                              \n",
            "                                                                                                  \n",
            " conv5_block1_1_relu (Activatio  (None, None, None,   0          ['conv5_block1_1_bn[0][0]']      \n",
            " n)                             512)                                                              \n",
            "                                                                                                  \n",
            " conv5_block1_2_pad (ZeroPaddin  (None, None, None,   0          ['conv5_block1_1_relu[0][0]']    \n",
            " g2D)                           512)                                                              \n",
            "                                                                                                  \n",
            " conv5_block1_2_conv (Conv2D)   (None, None, None,   2359296     ['conv5_block1_2_pad[0][0]']     \n",
            "                                512)                                                              \n",
            "                                                                                                  \n",
            " conv5_block1_2_bn (BatchNormal  (None, None, None,   2048       ['conv5_block1_2_conv[0][0]']    \n",
            " ization)                       512)                                                              \n",
            "                                                                                                  \n",
            " conv5_block1_2_relu (Activatio  (None, None, None,   0          ['conv5_block1_2_bn[0][0]']      \n",
            " n)                             512)                                                              \n",
            "                                                                                                  \n",
            " conv5_block1_0_conv (Conv2D)   (None, None, None,   2099200     ['conv5_block1_preact_relu[0][0]'\n",
            "                                2048)                            ]                                \n",
            "                                                                                                  \n",
            " conv5_block1_3_conv (Conv2D)   (None, None, None,   1050624     ['conv5_block1_2_relu[0][0]']    \n",
            "                                2048)                                                             \n",
            "                                                                                                  \n",
            " conv5_block1_out (Add)         (None, None, None,   0           ['conv5_block1_0_conv[0][0]',    \n",
            "                                2048)                             'conv5_block1_3_conv[0][0]']    \n",
            "                                                                                                  \n",
            " conv5_block2_preact_bn (BatchN  (None, None, None,   8192       ['conv5_block1_out[0][0]']       \n",
            " ormalization)                  2048)                                                             \n",
            "                                                                                                  \n",
            " conv5_block2_preact_relu (Acti  (None, None, None,   0          ['conv5_block2_preact_bn[0][0]'] \n",
            " vation)                        2048)                                                             \n",
            "                                                                                                  \n",
            " conv5_block2_1_conv (Conv2D)   (None, None, None,   1048576     ['conv5_block2_preact_relu[0][0]'\n",
            "                                512)                             ]                                \n",
            "                                                                                                  \n",
            " conv5_block2_1_bn (BatchNormal  (None, None, None,   2048       ['conv5_block2_1_conv[0][0]']    \n",
            " ization)                       512)                                                              \n",
            "                                                                                                  \n",
            " conv5_block2_1_relu (Activatio  (None, None, None,   0          ['conv5_block2_1_bn[0][0]']      \n",
            " n)                             512)                                                              \n",
            "                                                                                                  \n",
            " conv5_block2_2_pad (ZeroPaddin  (None, None, None,   0          ['conv5_block2_1_relu[0][0]']    \n",
            " g2D)                           512)                                                              \n",
            "                                                                                                  \n",
            " conv5_block2_2_conv (Conv2D)   (None, None, None,   2359296     ['conv5_block2_2_pad[0][0]']     \n",
            "                                512)                                                              \n",
            "                                                                                                  \n",
            " conv5_block2_2_bn (BatchNormal  (None, None, None,   2048       ['conv5_block2_2_conv[0][0]']    \n",
            " ization)                       512)                                                              \n",
            "                                                                                                  \n",
            " conv5_block2_2_relu (Activatio  (None, None, None,   0          ['conv5_block2_2_bn[0][0]']      \n",
            " n)                             512)                                                              \n",
            "                                                                                                  \n",
            " conv5_block2_3_conv (Conv2D)   (None, None, None,   1050624     ['conv5_block2_2_relu[0][0]']    \n",
            "                                2048)                                                             \n",
            "                                                                                                  \n",
            " conv5_block2_out (Add)         (None, None, None,   0           ['conv5_block1_out[0][0]',       \n",
            "                                2048)                             'conv5_block2_3_conv[0][0]']    \n",
            "                                                                                                  \n",
            " conv5_block3_preact_bn (BatchN  (None, None, None,   8192       ['conv5_block2_out[0][0]']       \n",
            " ormalization)                  2048)                                                             \n",
            "                                                                                                  \n",
            " conv5_block3_preact_relu (Acti  (None, None, None,   0          ['conv5_block3_preact_bn[0][0]'] \n",
            " vation)                        2048)                                                             \n",
            "                                                                                                  \n",
            " conv5_block3_1_conv (Conv2D)   (None, None, None,   1048576     ['conv5_block3_preact_relu[0][0]'\n",
            "                                512)                             ]                                \n",
            "                                                                                                  \n",
            " conv5_block3_1_bn (BatchNormal  (None, None, None,   2048       ['conv5_block3_1_conv[0][0]']    \n",
            " ization)                       512)                                                              \n",
            "                                                                                                  \n",
            " conv5_block3_1_relu (Activatio  (None, None, None,   0          ['conv5_block3_1_bn[0][0]']      \n",
            " n)                             512)                                                              \n",
            "                                                                                                  \n",
            " conv5_block3_2_pad (ZeroPaddin  (None, None, None,   0          ['conv5_block3_1_relu[0][0]']    \n",
            " g2D)                           512)                                                              \n",
            "                                                                                                  \n",
            " conv5_block3_2_conv (Conv2D)   (None, None, None,   2359296     ['conv5_block3_2_pad[0][0]']     \n",
            "                                512)                                                              \n",
            "                                                                                                  \n",
            " conv5_block3_2_bn (BatchNormal  (None, None, None,   2048       ['conv5_block3_2_conv[0][0]']    \n",
            " ization)                       512)                                                              \n",
            "                                                                                                  \n",
            " conv5_block3_2_relu (Activatio  (None, None, None,   0          ['conv5_block3_2_bn[0][0]']      \n",
            " n)                             512)                                                              \n",
            "                                                                                                  \n",
            " conv5_block3_3_conv (Conv2D)   (None, None, None,   1050624     ['conv5_block3_2_relu[0][0]']    \n",
            "                                2048)                                                             \n",
            "                                                                                                  \n",
            " conv5_block3_out (Add)         (None, None, None,   0           ['conv5_block2_out[0][0]',       \n",
            "                                2048)                             'conv5_block3_3_conv[0][0]']    \n",
            "                                                                                                  \n",
            " post_bn (BatchNormalization)   (None, None, None,   8192        ['conv5_block3_out[0][0]']       \n",
            "                                2048)                                                             \n",
            "                                                                                                  \n",
            " post_relu (Activation)         (None, None, None,   0           ['post_bn[0][0]']                \n",
            "                                2048)                                                             \n",
            "                                                                                                  \n",
            "==================================================================================================\n",
            "Total params: 23,564,800\n",
            "Trainable params: 23,519,360\n",
            "Non-trainable params: 45,440\n",
            "__________________________________________________________________________________________________\n"
          ]
        }
      ],
      "source": [
        "model2 = tf.keras.applications.ResNet50V2(weights='imagenet', include_top=False)\n",
        "model2.summary()"
      ]
    },
    {
      "cell_type": "code",
      "execution_count": 27,
      "metadata": {
        "colab": {
          "base_uri": "https://localhost:8080/"
        },
        "id": "2ueWzxEMYeWb",
        "outputId": "da9d4509-89c8-4a7a-d9d7-bfc6f9f10f31"
      },
      "outputs": [
        {
          "output_type": "execute_result",
          "data": {
            "text/plain": [
              "53"
            ]
          },
          "metadata": {},
          "execution_count": 27
        }
      ],
      "source": [
        "# count conv2d layers in model2\n",
        "conv2d_indices = []\n",
        "for i, layer in enumerate(model2.layers):\n",
        "    if layer.name.endswith(\"conv\"):\n",
        "        conv2d_indices.append(i)\n",
        "\n",
        "len(conv2d_indices)"
      ]
    },
    {
      "cell_type": "code",
      "source": [
        "53 * 0.25"
      ],
      "metadata": {
        "id": "qnTdctWMfbZY",
        "outputId": "6aa56a08-8513-4b2f-daa8-9b9685f642fc",
        "colab": {
          "base_uri": "https://localhost:8080/"
        }
      },
      "execution_count": 28,
      "outputs": [
        {
          "output_type": "execute_result",
          "data": {
            "text/plain": [
              "13.25"
            ]
          },
          "metadata": {},
          "execution_count": 28
        }
      ]
    },
    {
      "cell_type": "code",
      "execution_count": 29,
      "metadata": {
        "colab": {
          "base_uri": "https://localhost:8080/"
        },
        "id": "eMbAsx49YY_U",
        "outputId": "0320f864-a7c1-4da8-c036-28213877e590"
      },
      "outputs": [
        {
          "output_type": "execute_result",
          "data": {
            "text/plain": [
              "('conv4_block1_1_conv', 88)"
            ]
          },
          "metadata": {},
          "execution_count": 29
        }
      ],
      "source": [
        " # each block has approximately 3 conv2d layers\n",
        "idx  = -3*10 +1\n",
        "model2.layers[conv2d_indices[idx]].name, conv2d_indices[idx]"
      ]
    },
    {
      "cell_type": "code",
      "execution_count": 29,
      "metadata": {
        "id": "hyJY8CfiYhDh"
      },
      "outputs": [],
      "source": []
    },
    {
      "cell_type": "code",
      "source": [],
      "metadata": {
        "id": "AKaQes1OSr7v"
      },
      "execution_count": 29,
      "outputs": []
    },
    {
      "cell_type": "code",
      "execution_count": 30,
      "metadata": {
        "id": "UvY5NgT_hLro"
      },
      "outputs": [],
      "source": [
        "def save_weights(model, weights_path):\n",
        "  for layer in model.layers:\n",
        "    layer.trainable=False\n",
        "  ''' for layer in base_model.layers:\n",
        "    layer.trainable=False '''\n",
        "  \n",
        "  model.save(weights_path)"
      ]
    },
    {
      "cell_type": "code",
      "execution_count": 31,
      "metadata": {
        "id": "2VFVSxvFQrKu"
      },
      "outputs": [],
      "source": [
        "\n",
        "\n",
        "def make_model(base_model, unfreeze_start:int, weights_path=None):\n",
        "  \n",
        "  \n",
        "    \n",
        "    \n",
        "\n",
        "  base_model.trainable = False\n",
        "\n",
        "  inputs = tf.keras.Input(shape=(IMG_SIZE, IMG_SIZE, 3))\n",
        "  x = base_model(inputs, training=True) # training=True only enabled for unfrozen layers (?)\n",
        "  x = tf.keras.layers.GlobalAveragePooling2D()(x)\n",
        "  ''' x = tf.keras.layers.Dense(256, activation='relu')(x) '''\n",
        "  '''   x = tf.keras.layers.Dense(128, activation='relu')(x)\n",
        "  x = tf.keras.layers.Dense(64, activation='relu')(x) '''\n",
        "  outputs = tf.keras.layers.Dense(1, activation='relu')(x) # use relu because prices are always positive\n",
        "  model = tf.keras.Model(inputs, outputs)\n",
        "\n",
        " \n",
        "  if weights_path is not None:\n",
        "    unfr = int(weights_path.split('unfr')[-1].split('_')[0])\n",
        "    assert unfreeze_start == unfr\n",
        "\n",
        "    model.load_weights(weights_path)\n",
        "\n",
        "  # freeze base model\n",
        "  for layer in base_model.layers[unfreeze_start:]: # last, conv5 section\n",
        "    layer.trainable = True \n",
        "\n",
        "  \n",
        "  return model\n",
        "  \n",
        "# create keras resnet 50 v2 model\n",
        "base_model = tf.keras.applications.ResNet50V2(include_top=False, weights='imagenet')\n",
        "unfreeze_start = 163\n",
        "\n"
      ]
    },
    {
      "cell_type": "code",
      "execution_count": 89,
      "metadata": {
        "id": "yLQ7Po4_hfLO"
      },
      "outputs": [],
      "source": [
        "\n",
        "#model = make_model(base_model, unfreeze_start, '/content/drive/MyDrive/Data/BikePricePredict/weights_unfr163_bs32_lr0.0001_ep200.h5')\n",
        "model = make_model(base_model, unfreeze_start)"
      ]
    },
    {
      "cell_type": "code",
      "source": [],
      "metadata": {
        "id": "0cuTQ5TxGvel"
      },
      "execution_count": 32,
      "outputs": []
    },
    {
      "cell_type": "code",
      "source": [
        "model = make_model(base_model, unfreeze_start, DRIVE_FOLDER+'weights_unfr163_bs32_lr0.001_28k_1k_1k_256MAE_ep10.h5') \n"
      ],
      "metadata": {
        "id": "x6nIQNvUWQrJ"
      },
      "execution_count": 33,
      "outputs": []
    },
    {
      "cell_type": "code",
      "execution_count": 39,
      "metadata": {
        "id": "EHSV7y98jm8N"
      },
      "outputs": [],
      "source": [
        "# save_weights(model, '/content/drive/MyDrive/Data/BikePricePredict/test.h5')"
      ]
    },
    {
      "cell_type": "code",
      "execution_count": 35,
      "metadata": {
        "id": "iTUBE4O8hvpU"
      },
      "outputs": [],
      "source": [
        "# model = make_model(base_model, '/content/drive/MyDrive/Data/BikePricePredict/test.h5')"
      ]
    },
    {
      "cell_type": "code",
      "source": [
        "import matplotlib.pyplot as plt\n",
        "x,y = next(train_dataset.take(3000).batch(3000).as_numpy_iterator())"
      ],
      "metadata": {
        "id": "-s0KUnnuZ6ou"
      },
      "execution_count": 80,
      "outputs": []
    },
    {
      "cell_type": "code",
      "source": [
        "plt.hist(y)\n",
        "plt.title('bike prices')"
      ],
      "metadata": {
        "id": "C7g2NwtsaJij",
        "outputId": "28c36bec-bb8b-4d50-816f-ec5445fe70cc",
        "colab": {
          "base_uri": "https://localhost:8080/",
          "height": 469
        }
      },
      "execution_count": 83,
      "outputs": [
        {
          "output_type": "execute_result",
          "data": {
            "text/plain": [
              "Text(0.5, 1.0, 'bike prices')"
            ]
          },
          "metadata": {},
          "execution_count": 83
        },
        {
          "output_type": "display_data",
          "data": {
            "text/plain": [
              "<Figure size 640x480 with 1 Axes>"
            ],
            "image/png": "[encoded data removed]"
          },
          "metadata": {}
        }
      ]
    },
    {
      "cell_type": "code",
      "execution_count": 90,
      "metadata": {
        "id": "JPwM_VD7pEzw"
      },
      "outputs": [],
      "source": [
        "import pandas as pd\n",
        "def fit(model, dataset, dev_dataset, batch_size , epochs, save_after_epochs, start_epoch_num, lr, unfreeze_start,  custom_tag='', dir=DRIVE_FOLDER):\n",
        "  model.compile(optimizer=tf.keras.optimizers.Adam(learning_rate=lr, ), # beta1, beta2, weight_decay\n",
        "                loss=tf.keras.losses.MeanSquaredError(),\n",
        "                metrics=['mse', 'mae']\n",
        "              )\n",
        "  for ep in range(0, epochs, save_after_epochs):\n",
        "    print(f'fit {ep+start_epoch_num}')\n",
        "    histories = None\n",
        "    with tf.device('/GPU:0'):\n",
        "      for _ in range(save_after_epochs):\n",
        "        history = model.fit(dataset.batch(batch_size), epochs=1)\n",
        "        loss, mse, mae = model.evaluate(dev_dataset.batch(batch_size))\n",
        "        print(f'dev mse: {mse}, mae: {mae}')\n",
        "        if histories is None:\n",
        "          histories = history.history\n",
        "          histories['dev_mse'] = [mse]\n",
        "          histories['dev_mae'] = [mae]\n",
        "        else:\n",
        "          for k, v in history.history.items():\n",
        "            histories[k] += v\n",
        "          histories['dev_mse'].append(mse)\n",
        "          histories['dev_mae'].append(mae)\n",
        "\n",
        "    # Convert the history to a Pandas DataFrame\n",
        "    history_df = pd.DataFrame(histories)\n",
        "    print(history_df)\n",
        "    # Save the history to a CSV file\n",
        "    history_df.to_csv(dir+f'history_unfr{str(unfreeze_start)}_bs{str(batch_size)}_lr{str(lr)}_{custom_tag}_ep{str(ep+start_epoch_num)}.csv', index=False)\n",
        "    save_weights(model, dir+f'weights_unfr{str(unfreeze_start)}_bs{str(batch_size)}_lr{str(lr)}_{custom_tag}_ep{str(ep+start_epoch_num)}.h5')\n",
        "    "
      ]
    },
    {
      "cell_type": "code",
      "execution_count": null,
      "metadata": {
        "colab": {
          "base_uri": "https://localhost:8080/"
        },
        "id": "p5_YdTAApLGk",
        "outputId": "3187a1ab-5bd3-4bbc-8a69-d10a2bbdc0fe"
      },
      "outputs": [
        {
          "output_type": "stream",
          "name": "stdout",
          "text": [
            "fit 0\n",
            "895/895 [==============================] - 321s 355ms/step - loss: 6809389.5000 - mse: 6809389.5000 - mae: 1739.6759\n",
            "32/32 [==============================] - 6s 136ms/step - loss: 5717784.5000 - mse: 5717784.5000 - mae: 1499.1914\n",
            "dev mse: 5717784.5, mae: 1499.19140625\n",
            "895/895 [==============================] - 318s 355ms/step - loss: 5646667.0000 - mse: 5646667.0000 - mae: 1474.3027\n",
            "32/32 [==============================] - 4s 106ms/step - loss: 4830868.5000 - mse: 4830868.5000 - mae: 1338.8341\n",
            "dev mse: 4830868.5, mae: 1338.8341064453125\n",
            "895/895 [==============================] - 321s 358ms/step - loss: 4856835.5000 - mse: 4856835.5000 - mae: 1382.1215\n",
            "32/32 [==============================] - 5s 145ms/step - loss: 4255198.5000 - mse: 4255198.5000 - mae: 1306.9447\n",
            "dev mse: 4255198.5, mae: 1306.9447021484375\n",
            "895/895 [==============================] - 325s 363ms/step - loss: 4338172.5000 - mse: 4338172.5000 - mae: 1373.7941\n",
            "32/32 [==============================] - 4s 108ms/step - loss: 3910408.7500 - mse: 3910408.7500 - mae: 1323.1544\n",
            "dev mse: 3910408.75, mae: 1323.1544189453125\n",
            "895/895 [==============================] - 318s 355ms/step - loss: 4030317.0000 - mse: 4030317.0000 - mae: 1397.4432\n",
            "32/32 [==============================] - 5s 129ms/step - loss: 3725294.2500 - mse: 3725294.2500 - mae: 1352.0930\n",
            "dev mse: 3725294.25, mae: 1352.093017578125\n",
            "        loss        mse          mae     dev_mse      dev_mae\n",
            "0  6809389.5  6809389.5  1739.675903  5717784.50  1499.191406\n",
            "1  5646667.0  5646667.0  1474.302734  4830868.50  1338.834106\n",
            "2  4856835.5  4856835.5  1382.121460  4255198.50  1306.944702\n",
            "3  4338172.5  4338172.5  1373.794067  3910408.75  1323.154419\n",
            "4  4030317.0  4030317.0  1397.443237  3725294.25  1352.093018\n",
            "fit 5\n",
            "895/895 [==============================] - 318s 355ms/step - loss: 3858658.7500 - mse: 3858658.7500 - mae: 1424.5707\n",
            "32/32 [==============================] - 4s 109ms/step - loss: 3631038.0000 - mse: 3631038.0000 - mae: 1380.1353\n",
            "dev mse: 3631038.0, mae: 1380.13525390625\n",
            "895/895 [==============================] - 315s 352ms/step - loss: 3763775.2500 - mse: 3763775.2500 - mae: 1444.2319\n",
            "32/32 [==============================] - 5s 147ms/step - loss: 3575488.2500 - mse: 3575488.2500 - mae: 1396.5146\n",
            "dev mse: 3575488.25, mae: 1396.5146484375\n",
            "895/895 [==============================] - 315s 352ms/step - loss: 3694103.2500 - mse: 3694103.2500 - mae: 1452.5032\n",
            "32/32 [==============================] - 4s 107ms/step - loss: 3530665.7500 - mse: 3530665.7500 - mae: 1401.9624\n",
            "dev mse: 3530665.75, mae: 1401.96240234375\n",
            "895/895 [==============================] - 316s 353ms/step - loss: 3640948.5000 - mse: 3640948.5000 - mae: 1452.8352\n",
            "32/32 [==============================] - 4s 106ms/step - loss: 3487627.7500 - mse: 3487627.7500 - mae: 1400.0153\n",
            "dev mse: 3487627.75, mae: 1400.0152587890625\n",
            "895/895 [==============================] - 315s 352ms/step - loss: 3586373.0000 - mse: 3586373.0000 - mae: 1447.7032\n",
            "32/32 [==============================] - 4s 124ms/step - loss: 3444739.5000 - mse: 3444739.5000 - mae: 1394.2712\n",
            "dev mse: 3444739.5, mae: 1394.271240234375\n",
            "         loss         mse          mae     dev_mse      dev_mae\n",
            "0  3858658.75  3858658.75  1424.570679  3631038.00  1380.135254\n",
            "1  3763775.25  3763775.25  1444.231934  3575488.25  1396.514648\n",
            "2  3694103.25  3694103.25  1452.503174  3530665.75  1401.962402\n",
            "3  3640948.50  3640948.50  1452.835205  3487627.75  1400.015259\n",
            "4  3586373.00  3586373.00  1447.703247  3444739.50  1394.271240\n",
            "fit 10\n",
            "895/895 [==============================] - 313s 350ms/step - loss: 3545223.5000 - mse: 3545223.5000 - mae: 1441.0164\n",
            "32/32 [==============================] - 5s 135ms/step - loss: 3402155.2500 - mse: 3402155.2500 - mae: 1386.0074\n",
            "dev mse: 3402155.25, mae: 1386.0074462890625\n",
            "895/895 [==============================] - 312s 348ms/step - loss: 3490066.2500 - mse: 3490066.2500 - mae: 1429.2551\n",
            "32/32 [==============================] - 5s 133ms/step - loss: 3360911.5000 - mse: 3360911.5000 - mae: 1377.1117\n",
            "dev mse: 3360911.5, mae: 1377.1116943359375\n",
            "895/895 [==============================] - 310s 346ms/step - loss: 3446453.5000 - mse: 3446453.5000 - mae: 1419.8954\n",
            "32/32 [==============================] - 5s 130ms/step - loss: 3320763.7500 - mse: 3320763.7500 - mae: 1367.6761\n",
            "dev mse: 3320763.75, mae: 1367.6761474609375\n",
            "895/895 [==============================] - 311s 347ms/step - loss: 3407616.2500 - mse: 3407616.2500 - mae: 1410.5403\n",
            "32/32 [==============================] - 5s 135ms/step - loss: 3281887.5000 - mse: 3281887.5000 - mae: 1357.8380\n",
            "dev mse: 3281887.5, mae: 1357.8380126953125\n",
            "895/895 [==============================] - 311s 348ms/step - loss: 3358610.5000 - mse: 3358610.5000 - mae: 1398.0024\n",
            "32/32 [==============================] - 4s 125ms/step - loss: 3244599.7500 - mse: 3244599.7500 - mae: 1348.4482\n",
            "dev mse: 3244599.75, mae: 1348.4482421875\n",
            "         loss         mse          mae     dev_mse      dev_mae\n",
            "0  3545223.50  3545223.50  1441.016357  3402155.25  1386.007446\n",
            "1  3490066.25  3490066.25  1429.255127  3360911.50  1377.111694\n",
            "2  3446453.50  3446453.50  1419.895386  3320763.75  1367.676147\n",
            "3  3407616.25  3407616.25  1410.540283  3281887.50  1357.838013\n",
            "4  3358610.50  3358610.50  1398.002441  3244599.75  1348.448242\n",
            "fit 15\n",
            "895/895 [==============================] - 311s 348ms/step - loss: 3320645.7500 - mse: 3320645.7500 - mae: 1388.5485\n",
            "32/32 [==============================] - 4s 104ms/step - loss: 3208803.2500 - mse: 3208803.2500 - mae: 1338.9050\n",
            "dev mse: 3208803.25, mae: 1338.905029296875\n",
            "895/895 [==============================] - 314s 351ms/step - loss: 3279089.7500 - mse: 3279089.7500 - mae: 1378.0983\n",
            "32/32 [==============================] - 4s 104ms/step - loss: 3174491.5000 - mse: 3174491.5000 - mae: 1329.7040\n",
            "dev mse: 3174491.5, mae: 1329.7039794921875\n",
            "895/895 [==============================] - 312s 349ms/step - loss: 3239641.0000 - mse: 3239641.0000 - mae: 1368.8455\n",
            "32/32 [==============================] - 4s 105ms/step - loss: 3141717.0000 - mse: 3141717.0000 - mae: 1320.8186\n",
            "dev mse: 3141717.0, mae: 1320.818603515625\n",
            "895/895 [==============================] - 330s 369ms/step - loss: 3206053.5000 - mse: 3206053.5000 - mae: 1359.6296\n",
            "32/32 [==============================] - 4s 125ms/step - loss: 3110176.7500 - mse: 3110176.7500 - mae: 1312.0415\n",
            "dev mse: 3110176.75, mae: 1312.04150390625\n",
            "721/895 [=======================>......] - ETA: 1:02 - loss: 3121229.0000 - mse: 3121229.0000 - mae: 1347.0339"
          ]
        }
      ],
      "source": [
        "fit(model, dataset=train_dataset, dev_dataset=dev_dataset, batch_size=32, epochs=100000, save_after_epochs=5, start_epoch_num=15, lr=0.001, unfreeze_start = unfreeze_start, custom_tag='28k_1k_1k_256MAE')"
      ]
    },
    {
      "cell_type": "code",
      "source": [
        "np.sqrt(5695112)"
      ],
      "metadata": {
        "id": "kiKLNLRxbC5F",
        "outputId": "62d8a608-fe4d-4bd5-88e4-621a7be49aa6",
        "colab": {
          "base_uri": "https://localhost:8080/"
        }
      },
      "execution_count": 85,
      "outputs": [
        {
          "output_type": "execute_result",
          "data": {
            "text/plain": [
              "2386.44337875425"
            ]
          },
          "metadata": {},
          "execution_count": 85
        }
      ]
    },
    {
      "cell_type": "code",
      "source": [
        "x,y = next(test_dataset.take(10).batch(10).as_numpy_iterator())\n",
        "model.predict(x), y"
      ],
      "metadata": {
        "id": "pvLrV1BeSn7G",
        "outputId": "d1c752c4-03c7-433e-c304-9b129ca21540",
        "colab": {
          "base_uri": "https://localhost:8080/"
        }
      },
      "execution_count": 46,
      "outputs": [
        {
          "output_type": "stream",
          "name": "stdout",
          "text": [
            "1/1 [==============================] - 0s 44ms/step\n"
          ]
        },
        {
          "output_type": "execute_result",
          "data": {
            "text/plain": [
              "(array([[302.31943],\n",
              "        [173.86662],\n",
              "        [259.52695],\n",
              "        [181.75423],\n",
              "        [243.57994],\n",
              "        [251.12173],\n",
              "        [192.1371 ],\n",
              "        [212.77808],\n",
              "        [218.52867],\n",
              "        [241.25148]], dtype=float32),\n",
              " array([1095.  ,  479.  , 1844.5 ,  489.  ,  499.95,  319.9 , 1969.  ,\n",
              "        1169.99, 1116.5 ,  854.1 ], dtype=float32))"
            ]
          },
          "metadata": {},
          "execution_count": 46
        }
      ]
    },
    {
      "cell_type": "code",
      "source": [
        "import os\n",
        "import numpy as np\n",
        "import matplotlib.pyplot as plt\n",
        "import pandas as pd\n",
        "\n",
        "def plot_loss(unfrozen_layers, lr:str, batch_size=None, minus_epochstart=0, custom_tag=None):\n",
        "  y = []\n",
        "  x = []\n",
        "  for file in os.listdir(DRIVE_FOLDER):\n",
        "    if 'unfr'+str(unfrozen_layers) in file and 'lr'+str(lr) in file and 'history' in file:\n",
        "      if batch_size is not None:\n",
        "        if 'bs'+str(batch_size) not in file:\n",
        "          continue\n",
        "      if custom_tag is not None:\n",
        "        if custom_tag not in file:\n",
        "          continue\n",
        "\n",
        "      epochstart = file.split('ep')[-1].replace('.csv','')\n",
        "      losses = pd.read_csv(DRIVE_FOLDER+file)['loss'].tolist() \n",
        "      xi = list(np.arange(len(losses)) +int(epochstart) - minus_epochstart)\n",
        "      y += losses\n",
        "      x += xi\n",
        "  plt.title(f'RESNET v2: Bike Price Regression: 5000 vs 7100 training data')\n",
        "  \n",
        "  label = f'lr:{lr}, bs:{batch_size}, unfr.lay.{unfrozen_layers},  {custom_tag if custom_tag is not None else \"\"}'\n",
        "  plt.scatter(x, y, s = np.ones(len(y)), label=label)\n",
        "  plt.legend()\n",
        "\n",
        "\n",
        "  \n",
        "\n",
        "\n",
        "\n"
      ],
      "metadata": {
        "id": "F-TiV5SuEC9E"
      },
      "execution_count": null,
      "outputs": []
    },
    {
      "cell_type": "code",
      "source": [
        "(\n",
        "plot_loss(163, '0.001', batch_size=32),\n",
        "plot_loss(88, '0.001', batch_size=32), \n",
        "plot_loss(163, '0.0001', batch_size=32),\n",
        "plot_loss(163, '0.001', batch_size=128),  \n",
        "plot_loss(163, '0.003', minus_epochstart=100, batch_size=128), \n",
        "\n",
        "\n",
        "\n",
        "plot_loss(163, '0.001', batch_size=32, custom_tag='moredata')\n",
        ")\n",
        "plt.savefig(DRIVE_FOLDER+'effect_of_more_data5400vs7140.png')"
      ],
      "metadata": {
        "id": "RgsE2V83Vnpv"
      },
      "execution_count": null,
      "outputs": []
    },
    {
      "cell_type": "code",
      "source": [
        "# best lr 0.001, best bs 32 (128, 32)\n",
        "# 88 vs 163 (first pos of unfreeze) does not make a big difference"
      ],
      "metadata": {
        "id": "dsegoXk3T_oV"
      },
      "execution_count": null,
      "outputs": []
    },
    {
      "cell_type": "code",
      "execution_count": null,
      "metadata": {
        "id": "VuNLgYXYKmPT"
      },
      "outputs": [],
      "source": [
        "\n",
        "\n",
        "\n",
        "# train model, specify batch size\n",
        "batch_size = 128\n",
        "epochs = 50\n",
        "if colab:\n",
        "  with tf.device('/GPU:0'):\n",
        "      history = model.fit(dataset.batch(batch_size), epochs=epochs)\n",
        "else:\n",
        "  history = model.fit(dataset.batch(batch_size), epochs=epochs)\n",
        "\n",
        "# plot history\n",
        "import matplotlib.pyplot as plt\n",
        "plt.plot(history.history['loss'])"
      ]
    },
    {
      "cell_type": "code",
      "execution_count": null,
      "metadata": {
        "id": "y_v2aeJLKmPU"
      },
      "outputs": [],
      "source": [
        "# visualize part of the image which contributed most to the prediction\n",
        "def visualize_heatmap(model, image):\n",
        "    # get prediction\n",
        "    prediction = model.predict(image[np.newaxis, ...])[0]\n",
        "    # get gradient\n",
        "    with tf.GradientTape() as tape:\n",
        "        # cast image to float32\n",
        "        inputs = tf.cast(image[np.newaxis, ...], tf.float32)\n",
        "        # watch the input pixels\n",
        "        tape.watch(inputs)\n",
        "        # get the predictions\n",
        "        predictions = model(inputs)\n",
        "      \n",
        "    print(predictions.shape)\n",
        "    # get the gradient of the loss with respect to the inputs\n",
        "    gradients = tape.gradient(predictions, inputs)\n",
        "    # get the mean gradient across the channels\n",
        "    gradient = tf.reduce_mean(gradients, axis=(0, 3))\n",
        "    # get the mean prediction across the channels\n",
        "    prediction = predictions#tf.reduce_mean(predictions, axis=3)[0]\n",
        "    # scale the prediction\n",
        "    prediction /= tf.reduce_max(prediction)\n",
        "    # scale the gradient\n",
        "    gradient /= tf.reduce_max(gradient)\n",
        "    # upsample the prediction and the gradient\n",
        "    prediction = tf.image.resize(prediction, [256, 256])\n",
        "    gradient = tf.image.resize(gradient, [256, 256])\n",
        "    # convert to numpy\n",
        "    prediction = prediction.numpy()\n",
        "    gradient = gradient.numpy()\n",
        "    # plot the prediction and the gradient\n",
        "    plt.figure(figsize=(10, 10))\n",
        "    plt.subplot(1, 2, 1)\n",
        "    plt.imshow(image)\n",
        "    plt.imshow(prediction, cmap='jet', alpha=0.5)\n",
        "    plt.axis('off')\n",
        "    plt.subplot(1, 2, 2)\n",
        "    plt.imshow(image)\n",
        "    plt.imshow(gradient, cmap='jet', alpha=0.5)\n",
        "    plt.axis('off')\n",
        "    plt.show()\n",
        "\n",
        "visualize_heatmap(model, x)"
      ]
    }
  ],
  "metadata": {
    "accelerator": "GPU",
    "colab": {
      "gpuType": "T4",
      "provenance": []
    },
    "gpuClass": "standard",
    "kernelspec": {
      "display_name": "base",
      "language": "python",
      "name": "python3"
    },
    "language_info": {
      "codemirror_mode": {
        "name": "ipython",
        "version": 3
      },
      "file_extension": ".py",
      "mimetype": "text/x-python",
      "name": "python",
      "nbconvert_exporter": "python",
      "pygments_lexer": "ipython3",
      "version": "3.10.8"
    },
    "orig_nbformat": 4
  },
  "nbformat": 4,
  "nbformat_minor": 0
}