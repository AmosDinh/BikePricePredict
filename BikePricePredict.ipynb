{
  "cells": [
    {
      "cell_type": "code",
      "execution_count": 1,
      "metadata": {
        "colab": {
          "base_uri": "https://localhost:8080/"
        },
        "id": "SMVlWo4iKyck",
        "outputId": "eaf3481a-0a95-4ecf-93bf-7551d96f5603"
      },
      "outputs": [
        {
          "output_type": "stream",
          "name": "stdout",
          "text": [
            "Running in Google Colab\n",
            "Mounted at /content/drive\n"
          ]
        }
      ],
      "source": [
        "import os\n",
        "\n",
        "colab = 'COLAB_GPU' in os.environ\n",
        "if colab:\n",
        "    print(\"Running in Google Colab\")\n",
        "    from google.colab import drive\n",
        "    drive.mount('/content/drive', force_remount=True)\n",
        "    DRIVE_FOLDER = '/content/drive/MyDrive/Data/BikePricePredict/'"
      ]
    },
    {
      "cell_type": "code",
      "source": [
        "#!unzip /content/drive/MyDrive/Data/BikePricePredict/bicycles_all_keep_nodupes3_resized.zip -d /content/data/"
      ],
      "metadata": {
        "id": "q-DYpD9rFea8"
      },
      "execution_count": 10,
      "outputs": []
    },
    {
      "cell_type": "code",
      "execution_count": 11,
      "metadata": {
        "id": "5A6B728SKmPL"
      },
      "outputs": [],
      "source": [
        "import numpy as np\n",
        "import os\n",
        "import PIL\n",
        "import PIL.Image\n",
        "import tensorflow as tf"
      ]
    },
    {
      "cell_type": "code",
      "source": [],
      "metadata": {
        "id": "2XW02xIzFpsv"
      },
      "execution_count": 11,
      "outputs": []
    },
    {
      "cell_type": "code",
      "execution_count": 12,
      "metadata": {
        "id": "pQWhhqpuKmPP"
      },
      "outputs": [],
      "source": [
        "def get_dataset_path_and_labels(dataset_path):\n",
        "    labels = []\n",
        "    files = []\n",
        "    for file in os.listdir(dataset_path):\n",
        "        if 'Steuern' in file:\n",
        "          continue\n",
        "        label = file.split('_')[-1].replace('.jpg','').replace('ÿ','').replace('ÿ','').replace('ab','').strip()\n",
        "        labels.append(float(label))\n",
        "        files.append(os.path.join(dataset_path, file))\n",
        "    return files, labels"
      ]
    },
    {
      "cell_type": "code",
      "execution_count": 13,
      "metadata": {
        "id": "ALSKuaS-KmPQ"
      },
      "outputs": [],
      "source": [
        "\n",
        "def load_and_preprocess_image(path, label):\n",
        "    image = tf.io.read_file(path)\n",
        "    image = tf.image.decode_jpeg(image, channels=3)\n",
        "\n",
        "    ''' # preprocess\n",
        "    image = tf.image.resize(image, [256, 256])\n",
        "    image /= 255.0 # normalize '''\n",
        "\n",
        "\n",
        "    '''  # Flip the image horizontally\n",
        "    flipped_image = tf.image.flip_left_right(image) '''\n",
        "\n",
        "   \n",
        "    \n",
        "    # Add the augmented images to the dataset\n",
        "    ''' images = tf.stack([image, flipped_image])\n",
        "    labels = tf.stack([label, label, label]) '''\n",
        "\n",
        "    return image, label\n",
        "\n",
        "\n",
        "\n"
      ]
    },
    {
      "cell_type": "code",
      "execution_count": 14,
      "metadata": {
        "id": "_U7YqCj9KmPQ"
      },
      "outputs": [],
      "source": [
        "from tensorflow.keras import layers\n",
        "\n",
        "def get_dataset(dataset_path):\n",
        "    files, labels = get_dataset_path_and_labels(dataset_path)\n",
        "    ds = tf.data.Dataset.from_tensor_slices((files, labels))\n",
        "    ds = ds.map(load_and_preprocess_image)\n",
        "    return ds\n",
        "\n",
        "\n",
        "import os\n",
        "\n",
        "if colab:\n",
        "    #dir = DRIVE_FOLDER+'bicycles_resized_1024_20k'\n",
        "    dir = '/content/data/bicycles_all_keep_nodupes3_resized/'\n",
        "  \n",
        "else:\n",
        "    print(\"Running locally\")\n",
        "\n",
        "\n",
        "IMG_SIZE = 256\n",
        "data_preprocessing = tf.keras.Sequential([\n",
        "  layers.Resizing(IMG_SIZE, IMG_SIZE),\n",
        "  layers.Rescaling(1./255),\n",
        "  layers.RandomFlip(\"horizontal\"),\n",
        "  layers.RandomRotation(0.01),\n",
        "  \n",
        "])\n",
        "\n",
        "\n",
        "dataset = get_dataset(dir)\n",
        "\n",
        "\n",
        "dataset = dataset.map(lambda x, y : (data_preprocessing(x, training=True), y) )"
      ]
    },
    {
      "cell_type": "code",
      "execution_count": 15,
      "metadata": {
        "colab": {
          "base_uri": "https://localhost:8080/"
        },
        "id": "lv14jb2rRNit",
        "outputId": "0c414c72-b9b2-4de6-b568-696aa82973d5"
      },
      "outputs": [
        {
          "output_type": "execute_result",
          "data": {
            "text/plain": [
              "30635"
            ]
          },
          "metadata": {},
          "execution_count": 15
        }
      ],
      "source": [
        "len(dataset)"
      ]
    },
    {
      "cell_type": "code",
      "execution_count": 16,
      "metadata": {
        "id": "u-JkeK3XKmPQ"
      },
      "outputs": [],
      "source": [
        "x, y = next(dataset.take(1).as_numpy_iterator())"
      ]
    },
    {
      "cell_type": "code",
      "execution_count": 17,
      "metadata": {
        "colab": {
          "base_uri": "https://localhost:8080/"
        },
        "id": "oULz_bNLKmPR",
        "outputId": "9f603c41-8106-4235-b59c-3a08136b4f99"
      },
      "outputs": [
        {
          "output_type": "execute_result",
          "data": {
            "text/plain": [
              "((256, 256, 3), ())"
            ]
          },
          "metadata": {},
          "execution_count": 17
        }
      ],
      "source": [
        "x.shape, y.shape"
      ]
    },
    {
      "cell_type": "code",
      "execution_count": 18,
      "metadata": {
        "colab": {
          "base_uri": "https://localhost:8080/",
          "height": 273
        },
        "id": "GFp46rOjKmPS",
        "outputId": "4ddf418b-1eca-4ab7-8265-9caab3dccd46"
      },
      "outputs": [
        {
          "output_type": "execute_result",
          "data": {
            "text/plain": [
              "<PIL.Image.Image image mode=RGB size=256x256 at 0x7F1150148220>"
            ],
            "image/png": "[encoded data removed]"
          },
          "metadata": {},
          "execution_count": 18
        }
      ],
      "source": [
        "import PIL\n",
        "# view x as image with PIL\n",
        "PIL.Image.fromarray((x * 255).astype(np.uint8))"
      ]
    },
    {
      "cell_type": "code",
      "execution_count": 19,
      "metadata": {
        "colab": {
          "base_uri": "https://localhost:8080/"
        },
        "id": "b0oNV7iwYcaV",
        "outputId": "b526e8f8-5a28-4bf8-963c-c1742bb7f05c"
      },
      "outputs": [
        {
          "output_type": "stream",
          "name": "stdout",
          "text": [
            "Downloading data from https://storage.googleapis.com/tensorflow/keras-applications/resnet/resnet50v2_weights_tf_dim_ordering_tf_kernels_notop.h5\n",
            "94668760/94668760 [==============================] - 0s 0us/step\n",
            "Model: \"resnet50v2\"\n",
            "__________________________________________________________________________________________________\n",
            " Layer (type)                   Output Shape         Param #     Connected to                     \n",
            "==================================================================================================\n",
            " input_1 (InputLayer)           [(None, None, None,  0           []                               \n",
            "                                 3)]                                                              \n",
            "                                                                                                  \n",
            " conv1_pad (ZeroPadding2D)      (None, None, None,   0           ['input_1[0][0]']                \n",
            "                                3)                                                                \n",
            "                                                                                                  \n",
            " conv1_conv (Conv2D)            (None, None, None,   9472        ['conv1_pad[0][0]']              \n",
            "                                64)                                                               \n",
            "                                                                                                  \n",
            " pool1_pad (ZeroPadding2D)      (None, None, None,   0           ['conv1_conv[0][0]']             \n",
            "                                64)                                                               \n",
            "                                                                                                  \n",
            " pool1_pool (MaxPooling2D)      (None, None, None,   0           ['pool1_pad[0][0]']              \n",
            "                                64)                                                               \n",
            "                                                                                                  \n",
            " conv2_block1_preact_bn (BatchN  (None, None, None,   256        ['pool1_pool[0][0]']             \n",
            " ormalization)                  64)                                                               \n",
            "                                                                                                  \n",
            " conv2_block1_preact_relu (Acti  (None, None, None,   0          ['conv2_block1_preact_bn[0][0]'] \n",
            " vation)                        64)                                                               \n",
            "                                                                                                  \n",
            " conv2_block1_1_conv (Conv2D)   (None, None, None,   4096        ['conv2_block1_preact_relu[0][0]'\n",
            "                                64)                              ]                                \n",
            "                                                                                                  \n",
            " conv2_block1_1_bn (BatchNormal  (None, None, None,   256        ['conv2_block1_1_conv[0][0]']    \n",
            " ization)                       64)                                                               \n",
            "                                                                                                  \n",
            " conv2_block1_1_relu (Activatio  (None, None, None,   0          ['conv2_block1_1_bn[0][0]']      \n",
            " n)                             64)                                                               \n",
            "                                                                                                  \n",
            " conv2_block1_2_pad (ZeroPaddin  (None, None, None,   0          ['conv2_block1_1_relu[0][0]']    \n",
            " g2D)                           64)                                                               \n",
            "                                                                                                  \n",
            " conv2_block1_2_conv (Conv2D)   (None, None, None,   36864       ['conv2_block1_2_pad[0][0]']     \n",
            "                                64)                                                               \n",
            "                                                                                                  \n",
            " conv2_block1_2_bn (BatchNormal  (None, None, None,   256        ['conv2_block1_2_conv[0][0]']    \n",
            " ization)                       64)                                                               \n",
            "                                                                                                  \n",
            " conv2_block1_2_relu (Activatio  (None, None, None,   0          ['conv2_block1_2_bn[0][0]']      \n",
            " n)                             64)                                                               \n",
            "                                                                                                  \n",
            " conv2_block1_0_conv (Conv2D)   (None, None, None,   16640       ['conv2_block1_preact_relu[0][0]'\n",
            "                                256)                             ]                                \n",
            "                                                                                                  \n",
            " conv2_block1_3_conv (Conv2D)   (None, None, None,   16640       ['conv2_block1_2_relu[0][0]']    \n",
            "                                256)                                                              \n",
            "                                                                                                  \n",
            " conv2_block1_out (Add)         (None, None, None,   0           ['conv2_block1_0_conv[0][0]',    \n",
            "                                256)                              'conv2_block1_3_conv[0][0]']    \n",
            "                                                                                                  \n",
            " conv2_block2_preact_bn (BatchN  (None, None, None,   1024       ['conv2_block1_out[0][0]']       \n",
            " ormalization)                  256)                                                              \n",
            "                                                                                                  \n",
            " conv2_block2_preact_relu (Acti  (None, None, None,   0          ['conv2_block2_preact_bn[0][0]'] \n",
            " vation)                        256)                                                              \n",
            "                                                                                                  \n",
            " conv2_block2_1_conv (Conv2D)   (None, None, None,   16384       ['conv2_block2_preact_relu[0][0]'\n",
            "                                64)                              ]                                \n",
            "                                                                                                  \n",
            " conv2_block2_1_bn (BatchNormal  (None, None, None,   256        ['conv2_block2_1_conv[0][0]']    \n",
            " ization)                       64)                                                               \n",
            "                                                                                                  \n",
            " conv2_block2_1_relu (Activatio  (None, None, None,   0          ['conv2_block2_1_bn[0][0]']      \n",
            " n)                             64)                                                               \n",
            "                                                                                                  \n",
            " conv2_block2_2_pad (ZeroPaddin  (None, None, None,   0          ['conv2_block2_1_relu[0][0]']    \n",
            " g2D)                           64)                                                               \n",
            "                                                                                                  \n",
            " conv2_block2_2_conv (Conv2D)   (None, None, None,   36864       ['conv2_block2_2_pad[0][0]']     \n",
            "                                64)                                                               \n",
            "                                                                                                  \n",
            " conv2_block2_2_bn (BatchNormal  (None, None, None,   256        ['conv2_block2_2_conv[0][0]']    \n",
            " ization)                       64)                                                               \n",
            "                                                                                                  \n",
            " conv2_block2_2_relu (Activatio  (None, None, None,   0          ['conv2_block2_2_bn[0][0]']      \n",
            " n)                             64)                                                               \n",
            "                                                                                                  \n",
            " conv2_block2_3_conv (Conv2D)   (None, None, None,   16640       ['conv2_block2_2_relu[0][0]']    \n",
            "                                256)                                                              \n",
            "                                                                                                  \n",
            " conv2_block2_out (Add)         (None, None, None,   0           ['conv2_block1_out[0][0]',       \n",
            "                                256)                              'conv2_block2_3_conv[0][0]']    \n",
            "                                                                                                  \n",
            " conv2_block3_preact_bn (BatchN  (None, None, None,   1024       ['conv2_block2_out[0][0]']       \n",
            " ormalization)                  256)                                                              \n",
            "                                                                                                  \n",
            " conv2_block3_preact_relu (Acti  (None, None, None,   0          ['conv2_block3_preact_bn[0][0]'] \n",
            " vation)                        256)                                                              \n",
            "                                                                                                  \n",
            " conv2_block3_1_conv (Conv2D)   (None, None, None,   16384       ['conv2_block3_preact_relu[0][0]'\n",
            "                                64)                              ]                                \n",
            "                                                                                                  \n",
            " conv2_block3_1_bn (BatchNormal  (None, None, None,   256        ['conv2_block3_1_conv[0][0]']    \n",
            " ization)                       64)                                                               \n",
            "                                                                                                  \n",
            " conv2_block3_1_relu (Activatio  (None, None, None,   0          ['conv2_block3_1_bn[0][0]']      \n",
            " n)                             64)                                                               \n",
            "                                                                                                  \n",
            " conv2_block3_2_pad (ZeroPaddin  (None, None, None,   0          ['conv2_block3_1_relu[0][0]']    \n",
            " g2D)                           64)                                                               \n",
            "                                                                                                  \n",
            " conv2_block3_2_conv (Conv2D)   (None, None, None,   36864       ['conv2_block3_2_pad[0][0]']     \n",
            "                                64)                                                               \n",
            "                                                                                                  \n",
            " conv2_block3_2_bn (BatchNormal  (None, None, None,   256        ['conv2_block3_2_conv[0][0]']    \n",
            " ization)                       64)                                                               \n",
            "                                                                                                  \n",
            " conv2_block3_2_relu (Activatio  (None, None, None,   0          ['conv2_block3_2_bn[0][0]']      \n",
            " n)                             64)                                                               \n",
            "                                                                                                  \n",
            " max_pooling2d (MaxPooling2D)   (None, None, None,   0           ['conv2_block2_out[0][0]']       \n",
            "                                256)                                                              \n",
            "                                                                                                  \n",
            " conv2_block3_3_conv (Conv2D)   (None, None, None,   16640       ['conv2_block3_2_relu[0][0]']    \n",
            "                                256)                                                              \n",
            "                                                                                                  \n",
            " conv2_block3_out (Add)         (None, None, None,   0           ['max_pooling2d[0][0]',          \n",
            "                                256)                              'conv2_block3_3_conv[0][0]']    \n",
            "                                                                                                  \n",
            " conv3_block1_preact_bn (BatchN  (None, None, None,   1024       ['conv2_block3_out[0][0]']       \n",
            " ormalization)                  256)                                                              \n",
            "                                                                                                  \n",
            " conv3_block1_preact_relu (Acti  (None, None, None,   0          ['conv3_block1_preact_bn[0][0]'] \n",
            " vation)                        256)                                                              \n",
            "                                                                                                  \n",
            " conv3_block1_1_conv (Conv2D)   (None, None, None,   32768       ['conv3_block1_preact_relu[0][0]'\n",
            "                                128)                             ]                                \n",
            "                                                                                                  \n",
            " conv3_block1_1_bn (BatchNormal  (None, None, None,   512        ['conv3_block1_1_conv[0][0]']    \n",
            " ization)                       128)                                                              \n",
            "                                                                                                  \n",
            " conv3_block1_1_relu (Activatio  (None, None, None,   0          ['conv3_block1_1_bn[0][0]']      \n",
            " n)                             128)                                                              \n",
            "                                                                                                  \n",
            " conv3_block1_2_pad (ZeroPaddin  (None, None, None,   0          ['conv3_block1_1_relu[0][0]']    \n",
            " g2D)                           128)                                                              \n",
            "                                                                                                  \n",
            " conv3_block1_2_conv (Conv2D)   (None, None, None,   147456      ['conv3_block1_2_pad[0][0]']     \n",
            "                                128)                                                              \n",
            "                                                                                                  \n",
            " conv3_block1_2_bn (BatchNormal  (None, None, None,   512        ['conv3_block1_2_conv[0][0]']    \n",
            " ization)                       128)                                                              \n",
            "                                                                                                  \n",
            " conv3_block1_2_relu (Activatio  (None, None, None,   0          ['conv3_block1_2_bn[0][0]']      \n",
            " n)                             128)                                                              \n",
            "                                                                                                  \n",
            " conv3_block1_0_conv (Conv2D)   (None, None, None,   131584      ['conv3_block1_preact_relu[0][0]'\n",
            "                                512)                             ]                                \n",
            "                                                                                                  \n",
            " conv3_block1_3_conv (Conv2D)   (None, None, None,   66048       ['conv3_block1_2_relu[0][0]']    \n",
            "                                512)                                                              \n",
            "                                                                                                  \n",
            " conv3_block1_out (Add)         (None, None, None,   0           ['conv3_block1_0_conv[0][0]',    \n",
            "                                512)                              'conv3_block1_3_conv[0][0]']    \n",
            "                                                                                                  \n",
            " conv3_block2_preact_bn (BatchN  (None, None, None,   2048       ['conv3_block1_out[0][0]']       \n",
            " ormalization)                  512)                                                              \n",
            "                                                                                                  \n",
            " conv3_block2_preact_relu (Acti  (None, None, None,   0          ['conv3_block2_preact_bn[0][0]'] \n",
            " vation)                        512)                                                              \n",
            "                                                                                                  \n",
            " conv3_block2_1_conv (Conv2D)   (None, None, None,   65536       ['conv3_block2_preact_relu[0][0]'\n",
            "                                128)                             ]                                \n",
            "                                                                                                  \n",
            " conv3_block2_1_bn (BatchNormal  (None, None, None,   512        ['conv3_block2_1_conv[0][0]']    \n",
            " ization)                       128)                                                              \n",
            "                                                                                                  \n",
            " conv3_block2_1_relu (Activatio  (None, None, None,   0          ['conv3_block2_1_bn[0][0]']      \n",
            " n)                             128)                                                              \n",
            "                                                                                                  \n",
            " conv3_block2_2_pad (ZeroPaddin  (None, None, None,   0          ['conv3_block2_1_relu[0][0]']    \n",
            " g2D)                           128)                                                              \n",
            "                                                                                                  \n",
            " conv3_block2_2_conv (Conv2D)   (None, None, None,   147456      ['conv3_block2_2_pad[0][0]']     \n",
            "                                128)                                                              \n",
            "                                                                                                  \n",
            " conv3_block2_2_bn (BatchNormal  (None, None, None,   512        ['conv3_block2_2_conv[0][0]']    \n",
            " ization)                       128)                                                              \n",
            "                                                                                                  \n",
            " conv3_block2_2_relu (Activatio  (None, None, None,   0          ['conv3_block2_2_bn[0][0]']      \n",
            " n)                             128)                                                              \n",
            "                                                                                                  \n",
            " conv3_block2_3_conv (Conv2D)   (None, None, None,   66048       ['conv3_block2_2_relu[0][0]']    \n",
            "                                512)                                                              \n",
            "                                                                                                  \n",
            " conv3_block2_out (Add)         (None, None, None,   0           ['conv3_block1_out[0][0]',       \n",
            "                                512)                              'conv3_block2_3_conv[0][0]']    \n",
            "                                                                                                  \n",
            " conv3_block3_preact_bn (BatchN  (None, None, None,   2048       ['conv3_block2_out[0][0]']       \n",
            " ormalization)                  512)                                                              \n",
            "                                                                                                  \n",
            " conv3_block3_preact_relu (Acti  (None, None, None,   0          ['conv3_block3_preact_bn[0][0]'] \n",
            " vation)                        512)                                                              \n",
            "                                                                                                  \n",
            " conv3_block3_1_conv (Conv2D)   (None, None, None,   65536       ['conv3_block3_preact_relu[0][0]'\n",
            "                                128)                             ]                                \n",
            "                                                                                                  \n",
            " conv3_block3_1_bn (BatchNormal  (None, None, None,   512        ['conv3_block3_1_conv[0][0]']    \n",
            " ization)                       128)                                                              \n",
            "                                                                                                  \n",
            " conv3_block3_1_relu (Activatio  (None, None, None,   0          ['conv3_block3_1_bn[0][0]']      \n",
            " n)                             128)                                                              \n",
            "                                                                                                  \n",
            " conv3_block3_2_pad (ZeroPaddin  (None, None, None,   0          ['conv3_block3_1_relu[0][0]']    \n",
            " g2D)                           128)                                                              \n",
            "                                                                                                  \n",
            " conv3_block3_2_conv (Conv2D)   (None, None, None,   147456      ['conv3_block3_2_pad[0][0]']     \n",
            "                                128)                                                              \n",
            "                                                                                                  \n",
            " conv3_block3_2_bn (BatchNormal  (None, None, None,   512        ['conv3_block3_2_conv[0][0]']    \n",
            " ization)                       128)                                                              \n",
            "                                                                                                  \n",
            " conv3_block3_2_relu (Activatio  (None, None, None,   0          ['conv3_block3_2_bn[0][0]']      \n",
            " n)                             128)                                                              \n",
            "                                                                                                  \n",
            " conv3_block3_3_conv (Conv2D)   (None, None, None,   66048       ['conv3_block3_2_relu[0][0]']    \n",
            "                                512)                                                              \n",
            "                                                                                                  \n",
            " conv3_block3_out (Add)         (None, None, None,   0           ['conv3_block2_out[0][0]',       \n",
            "                                512)                              'conv3_block3_3_conv[0][0]']    \n",
            "                                                                                                  \n",
            " conv3_block4_preact_bn (BatchN  (None, None, None,   2048       ['conv3_block3_out[0][0]']       \n",
            " ormalization)                  512)                                                              \n",
            "                                                                                                  \n",
            " conv3_block4_preact_relu (Acti  (None, None, None,   0          ['conv3_block4_preact_bn[0][0]'] \n",
            " vation)                        512)                                                              \n",
            "                                                                                                  \n",
            " conv3_block4_1_conv (Conv2D)   (None, None, None,   65536       ['conv3_block4_preact_relu[0][0]'\n",
            "                                128)                             ]                                \n",
            "                                                                                                  \n",
            " conv3_block4_1_bn (BatchNormal  (None, None, None,   512        ['conv3_block4_1_conv[0][0]']    \n",
            " ization)                       128)                                                              \n",
            "                                                                                                  \n",
            " conv3_block4_1_relu (Activatio  (None, None, None,   0          ['conv3_block4_1_bn[0][0]']      \n",
            " n)                             128)                                                              \n",
            "                                                                                                  \n",
            " conv3_block4_2_pad (ZeroPaddin  (None, None, None,   0          ['conv3_block4_1_relu[0][0]']    \n",
            " g2D)                           128)                                                              \n",
            "                                                                                                  \n",
            " conv3_block4_2_conv (Conv2D)   (None, None, None,   147456      ['conv3_block4_2_pad[0][0]']     \n",
            "                                128)                                                              \n",
            "                                                                                                  \n",
            " conv3_block4_2_bn (BatchNormal  (None, None, None,   512        ['conv3_block4_2_conv[0][0]']    \n",
            " ization)                       128)                                                              \n",
            "                                                                                                  \n",
            " conv3_block4_2_relu (Activatio  (None, None, None,   0          ['conv3_block4_2_bn[0][0]']      \n",
            " n)                             128)                                                              \n",
            "                                                                                                  \n",
            " max_pooling2d_1 (MaxPooling2D)  (None, None, None,   0          ['conv3_block3_out[0][0]']       \n",
            "                                512)                                                              \n",
            "                                                                                                  \n",
            " conv3_block4_3_conv (Conv2D)   (None, None, None,   66048       ['conv3_block4_2_relu[0][0]']    \n",
            "                                512)                                                              \n",
            "                                                                                                  \n",
            " conv3_block4_out (Add)         (None, None, None,   0           ['max_pooling2d_1[0][0]',        \n",
            "                                512)                              'conv3_block4_3_conv[0][0]']    \n",
            "                                                                                                  \n",
            " conv4_block1_preact_bn (BatchN  (None, None, None,   2048       ['conv3_block4_out[0][0]']       \n",
            " ormalization)                  512)                                                              \n",
            "                                                                                                  \n",
            " conv4_block1_preact_relu (Acti  (None, None, None,   0          ['conv4_block1_preact_bn[0][0]'] \n",
            " vation)                        512)                                                              \n",
            "                                                                                                  \n",
            " conv4_block1_1_conv (Conv2D)   (None, None, None,   131072      ['conv4_block1_preact_relu[0][0]'\n",
            "                                256)                             ]                                \n",
            "                                                                                                  \n",
            " conv4_block1_1_bn (BatchNormal  (None, None, None,   1024       ['conv4_block1_1_conv[0][0]']    \n",
            " ization)                       256)                                                              \n",
            "                                                                                                  \n",
            " conv4_block1_1_relu (Activatio  (None, None, None,   0          ['conv4_block1_1_bn[0][0]']      \n",
            " n)                             256)                                                              \n",
            "                                                                                                  \n",
            " conv4_block1_2_pad (ZeroPaddin  (None, None, None,   0          ['conv4_block1_1_relu[0][0]']    \n",
            " g2D)                           256)                                                              \n",
            "                                                                                                  \n",
            " conv4_block1_2_conv (Conv2D)   (None, None, None,   589824      ['conv4_block1_2_pad[0][0]']     \n",
            "                                256)                                                              \n",
            "                                                                                                  \n",
            " conv4_block1_2_bn (BatchNormal  (None, None, None,   1024       ['conv4_block1_2_conv[0][0]']    \n",
            " ization)                       256)                                                              \n",
            "                                                                                                  \n",
            " conv4_block1_2_relu (Activatio  (None, None, None,   0          ['conv4_block1_2_bn[0][0]']      \n",
            " n)                             256)                                                              \n",
            "                                                                                                  \n",
            " conv4_block1_0_conv (Conv2D)   (None, None, None,   525312      ['conv4_block1_preact_relu[0][0]'\n",
            "                                1024)                            ]                                \n",
            "                                                                                                  \n",
            " conv4_block1_3_conv (Conv2D)   (None, None, None,   263168      ['conv4_block1_2_relu[0][0]']    \n",
            "                                1024)                                                             \n",
            "                                                                                                  \n",
            " conv4_block1_out (Add)         (None, None, None,   0           ['conv4_block1_0_conv[0][0]',    \n",
            "                                1024)                             'conv4_block1_3_conv[0][0]']    \n",
            "                                                                                                  \n",
            " conv4_block2_preact_bn (BatchN  (None, None, None,   4096       ['conv4_block1_out[0][0]']       \n",
            " ormalization)                  1024)                                                             \n",
            "                                                                                                  \n",
            " conv4_block2_preact_relu (Acti  (None, None, None,   0          ['conv4_block2_preact_bn[0][0]'] \n",
            " vation)                        1024)                                                             \n",
            "                                                                                                  \n",
            " conv4_block2_1_conv (Conv2D)   (None, None, None,   262144      ['conv4_block2_preact_relu[0][0]'\n",
            "                                256)                             ]                                \n",
            "                                                                                                  \n",
            " conv4_block2_1_bn (BatchNormal  (None, None, None,   1024       ['conv4_block2_1_conv[0][0]']    \n",
            " ization)                       256)                                                              \n",
            "                                                                                                  \n",
            " conv4_block2_1_relu (Activatio  (None, None, None,   0          ['conv4_block2_1_bn[0][0]']      \n",
            " n)                             256)                                                              \n",
            "                                                                                                  \n",
            " conv4_block2_2_pad (ZeroPaddin  (None, None, None,   0          ['conv4_block2_1_relu[0][0]']    \n",
            " g2D)                           256)                                                              \n",
            "                                                                                                  \n",
            " conv4_block2_2_conv (Conv2D)   (None, None, None,   589824      ['conv4_block2_2_pad[0][0]']     \n",
            "                                256)                                                              \n",
            "                                                                                                  \n",
            " conv4_block2_2_bn (BatchNormal  (None, None, None,   1024       ['conv4_block2_2_conv[0][0]']    \n",
            " ization)                       256)                                                              \n",
            "                                                                                                  \n",
            " conv4_block2_2_relu (Activatio  (None, None, None,   0          ['conv4_block2_2_bn[0][0]']      \n",
            " n)                             256)                                                              \n",
            "                                                                                                  \n",
            " conv4_block2_3_conv (Conv2D)   (None, None, None,   263168      ['conv4_block2_2_relu[0][0]']    \n",
            "                                1024)                                                             \n",
            "                                                                                                  \n",
            " conv4_block2_out (Add)         (None, None, None,   0           ['conv4_block1_out[0][0]',       \n",
            "                                1024)                             'conv4_block2_3_conv[0][0]']    \n",
            "                                                                                                  \n",
            " conv4_block3_preact_bn (BatchN  (None, None, None,   4096       ['conv4_block2_out[0][0]']       \n",
            " ormalization)                  1024)                                                             \n",
            "                                                                                                  \n",
            " conv4_block3_preact_relu (Acti  (None, None, None,   0          ['conv4_block3_preact_bn[0][0]'] \n",
            " vation)                        1024)                                                             \n",
            "                                                                                                  \n",
            " conv4_block3_1_conv (Conv2D)   (None, None, None,   262144      ['conv4_block3_preact_relu[0][0]'\n",
            "                                256)                             ]                                \n",
            "                                                                                                  \n",
            " conv4_block3_1_bn (BatchNormal  (None, None, None,   1024       ['conv4_block3_1_conv[0][0]']    \n",
            " ization)                       256)                                                              \n",
            "                                                                                                  \n",
            " conv4_block3_1_relu (Activatio  (None, None, None,   0          ['conv4_block3_1_bn[0][0]']      \n",
            " n)                             256)                                                              \n",
            "                                                                                                  \n",
            " conv4_block3_2_pad (ZeroPaddin  (None, None, None,   0          ['conv4_block3_1_relu[0][0]']    \n",
            " g2D)                           256)                                                              \n",
            "                                                                                                  \n",
            " conv4_block3_2_conv (Conv2D)   (None, None, None,   589824      ['conv4_block3_2_pad[0][0]']     \n",
            "                                256)                                                              \n",
            "                                                                                                  \n",
            " conv4_block3_2_bn (BatchNormal  (None, None, None,   1024       ['conv4_block3_2_conv[0][0]']    \n",
            " ization)                       256)                                                              \n",
            "                                                                                                  \n",
            " conv4_block3_2_relu (Activatio  (None, None, None,   0          ['conv4_block3_2_bn[0][0]']      \n",
            " n)                             256)                                                              \n",
            "                                                                                                  \n",
            " conv4_block3_3_conv (Conv2D)   (None, None, None,   263168      ['conv4_block3_2_relu[0][0]']    \n",
            "                                1024)                                                             \n",
            "                                                                                                  \n",
            " conv4_block3_out (Add)         (None, None, None,   0           ['conv4_block2_out[0][0]',       \n",
            "                                1024)                             'conv4_block3_3_conv[0][0]']    \n",
            "                                                                                                  \n",
            " conv4_block4_preact_bn (BatchN  (None, None, None,   4096       ['conv4_block3_out[0][0]']       \n",
            " ormalization)                  1024)                                                             \n",
            "                                                                                                  \n",
            " conv4_block4_preact_relu (Acti  (None, None, None,   0          ['conv4_block4_preact_bn[0][0]'] \n",
            " vation)                        1024)                                                             \n",
            "                                                                                                  \n",
            " conv4_block4_1_conv (Conv2D)   (None, None, None,   262144      ['conv4_block4_preact_relu[0][0]'\n",
            "                                256)                             ]                                \n",
            "                                                                                                  \n",
            " conv4_block4_1_bn (BatchNormal  (None, None, None,   1024       ['conv4_block4_1_conv[0][0]']    \n",
            " ization)                       256)                                                              \n",
            "                                                                                                  \n",
            " conv4_block4_1_relu (Activatio  (None, None, None,   0          ['conv4_block4_1_bn[0][0]']      \n",
            " n)                             256)                                                              \n",
            "                                                                                                  \n",
            " conv4_block4_2_pad (ZeroPaddin  (None, None, None,   0          ['conv4_block4_1_relu[0][0]']    \n",
            " g2D)                           256)                                                              \n",
            "                                                                                                  \n",
            " conv4_block4_2_conv (Conv2D)   (None, None, None,   589824      ['conv4_block4_2_pad[0][0]']     \n",
            "                                256)                                                              \n",
            "                                                                                                  \n",
            " conv4_block4_2_bn (BatchNormal  (None, None, None,   1024       ['conv4_block4_2_conv[0][0]']    \n",
            " ization)                       256)                                                              \n",
            "                                                                                                  \n",
            " conv4_block4_2_relu (Activatio  (None, None, None,   0          ['conv4_block4_2_bn[0][0]']      \n",
            " n)                             256)                                                              \n",
            "                                                                                                  \n",
            " conv4_block4_3_conv (Conv2D)   (None, None, None,   263168      ['conv4_block4_2_relu[0][0]']    \n",
            "                                1024)                                                             \n",
            "                                                                                                  \n",
            " conv4_block4_out (Add)         (None, None, None,   0           ['conv4_block3_out[0][0]',       \n",
            "                                1024)                             'conv4_block4_3_conv[0][0]']    \n",
            "                                                                                                  \n",
            " conv4_block5_preact_bn (BatchN  (None, None, None,   4096       ['conv4_block4_out[0][0]']       \n",
            " ormalization)                  1024)                                                             \n",
            "                                                                                                  \n",
            " conv4_block5_preact_relu (Acti  (None, None, None,   0          ['conv4_block5_preact_bn[0][0]'] \n",
            " vation)                        1024)                                                             \n",
            "                                                                                                  \n",
            " conv4_block5_1_conv (Conv2D)   (None, None, None,   262144      ['conv4_block5_preact_relu[0][0]'\n",
            "                                256)                             ]                                \n",
            "                                                                                                  \n",
            " conv4_block5_1_bn (BatchNormal  (None, None, None,   1024       ['conv4_block5_1_conv[0][0]']    \n",
            " ization)                       256)                                                              \n",
            "                                                                                                  \n",
            " conv4_block5_1_relu (Activatio  (None, None, None,   0          ['conv4_block5_1_bn[0][0]']      \n",
            " n)                             256)                                                              \n",
            "                                                                                                  \n",
            " conv4_block5_2_pad (ZeroPaddin  (None, None, None,   0          ['conv4_block5_1_relu[0][0]']    \n",
            " g2D)                           256)                                                              \n",
            "                                                                                                  \n",
            " conv4_block5_2_conv (Conv2D)   (None, None, None,   589824      ['conv4_block5_2_pad[0][0]']     \n",
            "                                256)                                                              \n",
            "                                                                                                  \n",
            " conv4_block5_2_bn (BatchNormal  (None, None, None,   1024       ['conv4_block5_2_conv[0][0]']    \n",
            " ization)                       256)                                                              \n",
            "                                                                                                  \n",
            " conv4_block5_2_relu (Activatio  (None, None, None,   0          ['conv4_block5_2_bn[0][0]']      \n",
            " n)                             256)                                                              \n",
            "                                                                                                  \n",
            " conv4_block5_3_conv (Conv2D)   (None, None, None,   263168      ['conv4_block5_2_relu[0][0]']    \n",
            "                                1024)                                                             \n",
            "                                                                                                  \n",
            " conv4_block5_out (Add)         (None, None, None,   0           ['conv4_block4_out[0][0]',       \n",
            "                                1024)                             'conv4_block5_3_conv[0][0]']    \n",
            "                                                                                                  \n",
            " conv4_block6_preact_bn (BatchN  (None, None, None,   4096       ['conv4_block5_out[0][0]']       \n",
            " ormalization)                  1024)                                                             \n",
            "                                                                                                  \n",
            " conv4_block6_preact_relu (Acti  (None, None, None,   0          ['conv4_block6_preact_bn[0][0]'] \n",
            " vation)                        1024)                                                             \n",
            "                                                                                                  \n",
            " conv4_block6_1_conv (Conv2D)   (None, None, None,   262144      ['conv4_block6_preact_relu[0][0]'\n",
            "                                256)                             ]                                \n",
            "                                                                                                  \n",
            " conv4_block6_1_bn (BatchNormal  (None, None, None,   1024       ['conv4_block6_1_conv[0][0]']    \n",
            " ization)                       256)                                                              \n",
            "                                                                                                  \n",
            " conv4_block6_1_relu (Activatio  (None, None, None,   0          ['conv4_block6_1_bn[0][0]']      \n",
            " n)                             256)                                                              \n",
            "                                                                                                  \n",
            " conv4_block6_2_pad (ZeroPaddin  (None, None, None,   0          ['conv4_block6_1_relu[0][0]']    \n",
            " g2D)                           256)                                                              \n",
            "                                                                                                  \n",
            " conv4_block6_2_conv (Conv2D)   (None, None, None,   589824      ['conv4_block6_2_pad[0][0]']     \n",
            "                                256)                                                              \n",
            "                                                                                                  \n",
            " conv4_block6_2_bn (BatchNormal  (None, None, None,   1024       ['conv4_block6_2_conv[0][0]']    \n",
            " ization)                       256)                                                              \n",
            "                                                                                                  \n",
            " conv4_block6_2_relu (Activatio  (None, None, None,   0          ['conv4_block6_2_bn[0][0]']      \n",
            " n)                             256)                                                              \n",
            "                                                                                                  \n",
            " max_pooling2d_2 (MaxPooling2D)  (None, None, None,   0          ['conv4_block5_out[0][0]']       \n",
            "                                1024)                                                             \n",
            "                                                                                                  \n",
            " conv4_block6_3_conv (Conv2D)   (None, None, None,   263168      ['conv4_block6_2_relu[0][0]']    \n",
            "                                1024)                                                             \n",
            "                                                                                                  \n",
            " conv4_block6_out (Add)         (None, None, None,   0           ['max_pooling2d_2[0][0]',        \n",
            "                                1024)                             'conv4_block6_3_conv[0][0]']    \n",
            "                                                                                                  \n",
            " conv5_block1_preact_bn (BatchN  (None, None, None,   4096       ['conv4_block6_out[0][0]']       \n",
            " ormalization)                  1024)                                                             \n",
            "                                                                                                  \n",
            " conv5_block1_preact_relu (Acti  (None, None, None,   0          ['conv5_block1_preact_bn[0][0]'] \n",
            " vation)                        1024)                                                             \n",
            "                                                                                                  \n",
            " conv5_block1_1_conv (Conv2D)   (None, None, None,   524288      ['conv5_block1_preact_relu[0][0]'\n",
            "                                512)                             ]                                \n",
            "                                                                                                  \n",
            " conv5_block1_1_bn (BatchNormal  (None, None, None,   2048       ['conv5_block1_1_conv[0][0]']    \n",
            " ization)                       512)                                                              \n",
            "                                                                                                  \n",
            " conv5_block1_1_relu (Activatio  (None, None, None,   0          ['conv5_block1_1_bn[0][0]']      \n",
            " n)                             512)                                                              \n",
            "                                                                                                  \n",
            " conv5_block1_2_pad (ZeroPaddin  (None, None, None,   0          ['conv5_block1_1_relu[0][0]']    \n",
            " g2D)                           512)                                                              \n",
            "                                                                                                  \n",
            " conv5_block1_2_conv (Conv2D)   (None, None, None,   2359296     ['conv5_block1_2_pad[0][0]']     \n",
            "                                512)                                                              \n",
            "                                                                                                  \n",
            " conv5_block1_2_bn (BatchNormal  (None, None, None,   2048       ['conv5_block1_2_conv[0][0]']    \n",
            " ization)                       512)                                                              \n",
            "                                                                                                  \n",
            " conv5_block1_2_relu (Activatio  (None, None, None,   0          ['conv5_block1_2_bn[0][0]']      \n",
            " n)                             512)                                                              \n",
            "                                                                                                  \n",
            " conv5_block1_0_conv (Conv2D)   (None, None, None,   2099200     ['conv5_block1_preact_relu[0][0]'\n",
            "                                2048)                            ]                                \n",
            "                                                                                                  \n",
            " conv5_block1_3_conv (Conv2D)   (None, None, None,   1050624     ['conv5_block1_2_relu[0][0]']    \n",
            "                                2048)                                                             \n",
            "                                                                                                  \n",
            " conv5_block1_out (Add)         (None, None, None,   0           ['conv5_block1_0_conv[0][0]',    \n",
            "                                2048)                             'conv5_block1_3_conv[0][0]']    \n",
            "                                                                                                  \n",
            " conv5_block2_preact_bn (BatchN  (None, None, None,   8192       ['conv5_block1_out[0][0]']       \n",
            " ormalization)                  2048)                                                             \n",
            "                                                                                                  \n",
            " conv5_block2_preact_relu (Acti  (None, None, None,   0          ['conv5_block2_preact_bn[0][0]'] \n",
            " vation)                        2048)                                                             \n",
            "                                                                                                  \n",
            " conv5_block2_1_conv (Conv2D)   (None, None, None,   1048576     ['conv5_block2_preact_relu[0][0]'\n",
            "                                512)                             ]                                \n",
            "                                                                                                  \n",
            " conv5_block2_1_bn (BatchNormal  (None, None, None,   2048       ['conv5_block2_1_conv[0][0]']    \n",
            " ization)                       512)                                                              \n",
            "                                                                                                  \n",
            " conv5_block2_1_relu (Activatio  (None, None, None,   0          ['conv5_block2_1_bn[0][0]']      \n",
            " n)                             512)                                                              \n",
            "                                                                                                  \n",
            " conv5_block2_2_pad (ZeroPaddin  (None, None, None,   0          ['conv5_block2_1_relu[0][0]']    \n",
            " g2D)                           512)                                                              \n",
            "                                                                                                  \n",
            " conv5_block2_2_conv (Conv2D)   (None, None, None,   2359296     ['conv5_block2_2_pad[0][0]']     \n",
            "                                512)                                                              \n",
            "                                                                                                  \n",
            " conv5_block2_2_bn (BatchNormal  (None, None, None,   2048       ['conv5_block2_2_conv[0][0]']    \n",
            " ization)                       512)                                                              \n",
            "                                                                                                  \n",
            " conv5_block2_2_relu (Activatio  (None, None, None,   0          ['conv5_block2_2_bn[0][0]']      \n",
            " n)                             512)                                                              \n",
            "                                                                                                  \n",
            " conv5_block2_3_conv (Conv2D)   (None, None, None,   1050624     ['conv5_block2_2_relu[0][0]']    \n",
            "                                2048)                                                             \n",
            "                                                                                                  \n",
            " conv5_block2_out (Add)         (None, None, None,   0           ['conv5_block1_out[0][0]',       \n",
            "                                2048)                             'conv5_block2_3_conv[0][0]']    \n",
            "                                                                                                  \n",
            " conv5_block3_preact_bn (BatchN  (None, None, None,   8192       ['conv5_block2_out[0][0]']       \n",
            " ormalization)                  2048)                                                             \n",
            "                                                                                                  \n",
            " conv5_block3_preact_relu (Acti  (None, None, None,   0          ['conv5_block3_preact_bn[0][0]'] \n",
            " vation)                        2048)                                                             \n",
            "                                                                                                  \n",
            " conv5_block3_1_conv (Conv2D)   (None, None, None,   1048576     ['conv5_block3_preact_relu[0][0]'\n",
            "                                512)                             ]                                \n",
            "                                                                                                  \n",
            " conv5_block3_1_bn (BatchNormal  (None, None, None,   2048       ['conv5_block3_1_conv[0][0]']    \n",
            " ization)                       512)                                                              \n",
            "                                                                                                  \n",
            " conv5_block3_1_relu (Activatio  (None, None, None,   0          ['conv5_block3_1_bn[0][0]']      \n",
            " n)                             512)                                                              \n",
            "                                                                                                  \n",
            " conv5_block3_2_pad (ZeroPaddin  (None, None, None,   0          ['conv5_block3_1_relu[0][0]']    \n",
            " g2D)                           512)                                                              \n",
            "                                                                                                  \n",
            " conv5_block3_2_conv (Conv2D)   (None, None, None,   2359296     ['conv5_block3_2_pad[0][0]']     \n",
            "                                512)                                                              \n",
            "                                                                                                  \n",
            " conv5_block3_2_bn (BatchNormal  (None, None, None,   2048       ['conv5_block3_2_conv[0][0]']    \n",
            " ization)                       512)                                                              \n",
            "                                                                                                  \n",
            " conv5_block3_2_relu (Activatio  (None, None, None,   0          ['conv5_block3_2_bn[0][0]']      \n",
            " n)                             512)                                                              \n",
            "                                                                                                  \n",
            " conv5_block3_3_conv (Conv2D)   (None, None, None,   1050624     ['conv5_block3_2_relu[0][0]']    \n",
            "                                2048)                                                             \n",
            "                                                                                                  \n",
            " conv5_block3_out (Add)         (None, None, None,   0           ['conv5_block2_out[0][0]',       \n",
            "                                2048)                             'conv5_block3_3_conv[0][0]']    \n",
            "                                                                                                  \n",
            " post_bn (BatchNormalization)   (None, None, None,   8192        ['conv5_block3_out[0][0]']       \n",
            "                                2048)                                                             \n",
            "                                                                                                  \n",
            " post_relu (Activation)         (None, None, None,   0           ['post_bn[0][0]']                \n",
            "                                2048)                                                             \n",
            "                                                                                                  \n",
            "==================================================================================================\n",
            "Total params: 23,564,800\n",
            "Trainable params: 23,519,360\n",
            "Non-trainable params: 45,440\n",
            "__________________________________________________________________________________________________\n"
          ]
        }
      ],
      "source": [
        "model2 = tf.keras.applications.ResNet50V2(weights='imagenet', include_top=False)\n",
        "model2.summary()"
      ]
    },
    {
      "cell_type": "code",
      "execution_count": 20,
      "metadata": {
        "colab": {
          "base_uri": "https://localhost:8080/"
        },
        "id": "2ueWzxEMYeWb",
        "outputId": "e66a9469-e635-4042-d02c-7699fc725712"
      },
      "outputs": [
        {
          "output_type": "execute_result",
          "data": {
            "text/plain": [
              "53"
            ]
          },
          "metadata": {},
          "execution_count": 20
        }
      ],
      "source": [
        "# count conv2d layers in model2\n",
        "conv2d_indices = []\n",
        "for i, layer in enumerate(model2.layers):\n",
        "    if layer.name.endswith(\"conv\"):\n",
        "        conv2d_indices.append(i)\n",
        "\n",
        "len(conv2d_indices)"
      ]
    },
    {
      "cell_type": "code",
      "source": [
        "53 * 0.25"
      ],
      "metadata": {
        "id": "qnTdctWMfbZY",
        "outputId": "a53424de-500f-4a4b-d090-d17d96f09a47",
        "colab": {
          "base_uri": "https://localhost:8080/"
        }
      },
      "execution_count": 21,
      "outputs": [
        {
          "output_type": "execute_result",
          "data": {
            "text/plain": [
              "13.25"
            ]
          },
          "metadata": {},
          "execution_count": 21
        }
      ]
    },
    {
      "cell_type": "code",
      "execution_count": 22,
      "metadata": {
        "colab": {
          "base_uri": "https://localhost:8080/"
        },
        "id": "eMbAsx49YY_U",
        "outputId": "b581e0e0-939b-450b-df15-454b3587d07a"
      },
      "outputs": [
        {
          "output_type": "execute_result",
          "data": {
            "text/plain": [
              "('conv4_block1_1_conv', 88)"
            ]
          },
          "metadata": {},
          "execution_count": 22
        }
      ],
      "source": [
        " # each block has approximately 3 conv2d layers\n",
        "idx  = -3*10 +1\n",
        "model2.layers[conv2d_indices[idx]].name, conv2d_indices[idx]"
      ]
    },
    {
      "cell_type": "code",
      "execution_count": 22,
      "metadata": {
        "id": "hyJY8CfiYhDh"
      },
      "outputs": [],
      "source": []
    },
    {
      "cell_type": "code",
      "source": [],
      "metadata": {
        "id": "AKaQes1OSr7v"
      },
      "execution_count": 22,
      "outputs": []
    },
    {
      "cell_type": "code",
      "execution_count": 23,
      "metadata": {
        "id": "UvY5NgT_hLro"
      },
      "outputs": [],
      "source": [
        "def save_weights(model, weights_path):\n",
        "  for layer in model.layers:\n",
        "    layer.trainable=False\n",
        "  ''' for layer in base_model.layers:\n",
        "    layer.trainable=False '''\n",
        "  \n",
        "  model.save(weights_path)"
      ]
    },
    {
      "cell_type": "code",
      "execution_count": 41,
      "metadata": {
        "id": "2VFVSxvFQrKu"
      },
      "outputs": [],
      "source": [
        "from tensorflow.keras.initializers import GlorotUniform\n",
        "\n",
        "def make_model(base_model, unfreeze_start:int, weights_path=None):\n",
        "  \n",
        "  \n",
        "    \n",
        "    \n",
        "\n",
        "  base_model.trainable = False\n",
        "\n",
        "  inputs = tf.keras.Input(shape=(IMG_SIZE, IMG_SIZE, 3))\n",
        "  x = base_model(inputs, training=True) # training=True only enabled for unfrozen layers (?)\n",
        "  x = tf.keras.layers.GlobalAveragePooling2D()(x)\n",
        "  ''' x = tf.keras.layers.Dense(256, activation='relu')(x) '''\n",
        "  '''   x = tf.keras.layers.Dense(128, activation='relu')(x)\n",
        "  x = tf.keras.layers.Dense(64, activation='relu')(x) '''\n",
        "  outputs = tf.keras.layers.Dense(1, activation='relu')(x) # use relu because prices are always positive\n",
        "  model = tf.keras.Model(inputs, outputs)\n",
        "\n",
        " \n",
        "  if weights_path is not None:\n",
        "    unfr = int(weights_path.split('unfr')[-1].split('_')[0])\n",
        "    assert unfreeze_start == unfr\n",
        "\n",
        "    model.load_weights(weights_path)\n",
        "\n",
        "  # freeze base model\n",
        "  for layer in base_model.layers[unfreeze_start:]: # last, conv5 section\n",
        "    layer.trainable = True \n",
        "\n",
        "\n",
        "  # Reinitialize all weights using GlorotUniform\n",
        "  initializer = GlorotUniform(seed=1)\n",
        "  for layer in model.layers:\n",
        "      if isinstance(layer, tf.keras.layers.Conv2D) or isinstance(layer, tf.keras.layers.Dense):\n",
        "          layer.kernel_initializer = initializer\n",
        "          layer.bias_initializer = initializer\n",
        "          layer.build(layer.input_shape)\n",
        "\n",
        "\n",
        "  \n",
        "  return model\n",
        "  \n",
        "# create keras resnet 50 v2 model\n",
        "base_model = tf.keras.applications.ResNet50V2(include_top=False, weights='imagenet')\n",
        "unfreeze_start = 166\n",
        "\n"
      ]
    },
    {
      "cell_type": "code",
      "execution_count": 42,
      "metadata": {
        "id": "yLQ7Po4_hfLO"
      },
      "outputs": [],
      "source": [
        "\n",
        "#model = make_model(base_model, unfreeze_start, '/content/drive/MyDrive/Data/BikePricePredict/weights_unfr163_bs32_lr0.0001_ep200.h5')\n",
        "model = make_model(base_model, unfreeze_start)"
      ]
    },
    {
      "cell_type": "code",
      "source": [],
      "metadata": {
        "id": "0cuTQ5TxGvel"
      },
      "execution_count": 25,
      "outputs": []
    },
    {
      "cell_type": "code",
      "source": [
        "#model = make_model(base_model, unfreeze_start, DRIVE_FOLDER+'weights_unfr163_bs32_lr0.001_20k256_ep25.h5') \n"
      ],
      "metadata": {
        "id": "x6nIQNvUWQrJ",
        "outputId": "321cb43c-d8cc-43aa-af69-2d304841dae5",
        "colab": {
          "base_uri": "https://localhost:8080/",
          "height": 433
        }
      },
      "execution_count": 26,
      "outputs": [
        {
          "output_type": "error",
          "ename": "KeyboardInterrupt",
          "evalue": "ignored",
          "traceback": [
            "\u001b[0;31m---------------------------------------------------------------------------\u001b[0m",
            "\u001b[0;31mKeyboardInterrupt\u001b[0m                         Traceback (most recent call last)",
            "\u001b[0;32m<ipython-input-26-99a47de125b7>\u001b[0m in \u001b[0;36m<cell line: 1>\u001b[0;34m()\u001b[0m\n\u001b[0;32m----> 1\u001b[0;31m \u001b[0mmodel\u001b[0m \u001b[0;34m=\u001b[0m \u001b[0mmake_model\u001b[0m\u001b[0;34m(\u001b[0m\u001b[0mbase_model\u001b[0m\u001b[0;34m,\u001b[0m \u001b[0munfreeze_start\u001b[0m\u001b[0;34m,\u001b[0m \u001b[0mDRIVE_FOLDER\u001b[0m\u001b[0;34m+\u001b[0m\u001b[0;34m'weights_unfr163_bs32_lr0.001_20k256_ep25.h5'\u001b[0m\u001b[0;34m)\u001b[0m\u001b[0;34m\u001b[0m\u001b[0;34m\u001b[0m\u001b[0m\n\u001b[0m",
            "\u001b[0;32m<ipython-input-24-23ac0c2c20b2>\u001b[0m in \u001b[0;36mmake_model\u001b[0;34m(base_model, unfreeze_start, weights_path)\u001b[0m\n\u001b[1;32m     21\u001b[0m     \u001b[0;32massert\u001b[0m \u001b[0munfreeze_start\u001b[0m \u001b[0;34m==\u001b[0m \u001b[0munfr\u001b[0m\u001b[0;34m\u001b[0m\u001b[0;34m\u001b[0m\u001b[0m\n\u001b[1;32m     22\u001b[0m \u001b[0;34m\u001b[0m\u001b[0m\n\u001b[0;32m---> 23\u001b[0;31m     \u001b[0mmodel\u001b[0m\u001b[0;34m.\u001b[0m\u001b[0mload_weights\u001b[0m\u001b[0;34m(\u001b[0m\u001b[0mweights_path\u001b[0m\u001b[0;34m)\u001b[0m\u001b[0;34m\u001b[0m\u001b[0;34m\u001b[0m\u001b[0m\n\u001b[0m\u001b[1;32m     24\u001b[0m \u001b[0;34m\u001b[0m\u001b[0m\n\u001b[1;32m     25\u001b[0m   \u001b[0;31m# freeze base model\u001b[0m\u001b[0;34m\u001b[0m\u001b[0;34m\u001b[0m\u001b[0m\n",
            "\u001b[0;32m/usr/local/lib/python3.10/dist-packages/keras/utils/traceback_utils.py\u001b[0m in \u001b[0;36merror_handler\u001b[0;34m(*args, **kwargs)\u001b[0m\n\u001b[1;32m     63\u001b[0m         \u001b[0mfiltered_tb\u001b[0m \u001b[0;34m=\u001b[0m \u001b[0;32mNone\u001b[0m\u001b[0;34m\u001b[0m\u001b[0;34m\u001b[0m\u001b[0m\n\u001b[1;32m     64\u001b[0m         \u001b[0;32mtry\u001b[0m\u001b[0;34m:\u001b[0m\u001b[0;34m\u001b[0m\u001b[0;34m\u001b[0m\u001b[0m\n\u001b[0;32m---> 65\u001b[0;31m             \u001b[0;32mreturn\u001b[0m \u001b[0mfn\u001b[0m\u001b[0;34m(\u001b[0m\u001b[0;34m*\u001b[0m\u001b[0margs\u001b[0m\u001b[0;34m,\u001b[0m \u001b[0;34m**\u001b[0m\u001b[0mkwargs\u001b[0m\u001b[0;34m)\u001b[0m\u001b[0;34m\u001b[0m\u001b[0;34m\u001b[0m\u001b[0m\n\u001b[0m\u001b[1;32m     66\u001b[0m         \u001b[0;32mexcept\u001b[0m \u001b[0mException\u001b[0m \u001b[0;32mas\u001b[0m \u001b[0me\u001b[0m\u001b[0;34m:\u001b[0m\u001b[0;34m\u001b[0m\u001b[0;34m\u001b[0m\u001b[0m\n\u001b[1;32m     67\u001b[0m             \u001b[0mfiltered_tb\u001b[0m \u001b[0;34m=\u001b[0m \u001b[0m_process_traceback_frames\u001b[0m\u001b[0;34m(\u001b[0m\u001b[0me\u001b[0m\u001b[0;34m.\u001b[0m\u001b[0m__traceback__\u001b[0m\u001b[0;34m)\u001b[0m\u001b[0;34m\u001b[0m\u001b[0;34m\u001b[0m\u001b[0m\n",
            "\u001b[0;32m/usr/local/lib/python3.10/dist-packages/keras/engine/training.py\u001b[0m in \u001b[0;36mload_weights\u001b[0;34m(self, filepath, skip_mismatch, by_name, options)\u001b[0m\n\u001b[1;32m   2956\u001b[0m                 \u001b[0moptions\u001b[0m \u001b[0;32mfor\u001b[0m \u001b[0mloading\u001b[0m \u001b[0mweights\u001b[0m \u001b[0;34m(\u001b[0m\u001b[0monly\u001b[0m \u001b[0mvalid\u001b[0m \u001b[0;32mfor\u001b[0m \u001b[0ma\u001b[0m \u001b[0mSavedModel\u001b[0m \u001b[0mfile\u001b[0m\u001b[0;34m)\u001b[0m\u001b[0;34m.\u001b[0m\u001b[0;34m\u001b[0m\u001b[0;34m\u001b[0m\u001b[0m\n\u001b[1;32m   2957\u001b[0m         \"\"\"\n\u001b[0;32m-> 2958\u001b[0;31m         return saving_api.load_weights(\n\u001b[0m\u001b[1;32m   2959\u001b[0m             \u001b[0mself\u001b[0m\u001b[0;34m,\u001b[0m\u001b[0;34m\u001b[0m\u001b[0;34m\u001b[0m\u001b[0m\n\u001b[1;32m   2960\u001b[0m             \u001b[0mfilepath\u001b[0m\u001b[0;34m=\u001b[0m\u001b[0mfilepath\u001b[0m\u001b[0;34m,\u001b[0m\u001b[0;34m\u001b[0m\u001b[0;34m\u001b[0m\u001b[0m\n",
            "\u001b[0;32m/usr/local/lib/python3.10/dist-packages/keras/saving/saving_api.py\u001b[0m in \u001b[0;36mload_weights\u001b[0;34m(model, filepath, skip_mismatch, **kwargs)\u001b[0m\n\u001b[1;32m    243\u001b[0m         )\n\u001b[1;32m    244\u001b[0m     \u001b[0;32melse\u001b[0m\u001b[0;34m:\u001b[0m\u001b[0;34m\u001b[0m\u001b[0;34m\u001b[0m\u001b[0m\n\u001b[0;32m--> 245\u001b[0;31m         return legacy_sm_saving_lib.load_weights(\n\u001b[0m\u001b[1;32m    246\u001b[0m             \u001b[0mmodel\u001b[0m\u001b[0;34m,\u001b[0m \u001b[0mfilepath\u001b[0m\u001b[0;34m,\u001b[0m \u001b[0mskip_mismatch\u001b[0m\u001b[0;34m=\u001b[0m\u001b[0mskip_mismatch\u001b[0m\u001b[0;34m,\u001b[0m \u001b[0;34m**\u001b[0m\u001b[0mkwargs\u001b[0m\u001b[0;34m\u001b[0m\u001b[0;34m\u001b[0m\u001b[0m\n\u001b[1;32m    247\u001b[0m         )\n",
            "\u001b[0;32m/usr/local/lib/python3.10/dist-packages/keras/saving/legacy/save.py\u001b[0m in \u001b[0;36mload_weights\u001b[0;34m(model, filepath, by_name, skip_mismatch, options)\u001b[0m\n\u001b[1;32m    488\u001b[0m                 )\n\u001b[1;32m    489\u001b[0m             \u001b[0;32melse\u001b[0m\u001b[0;34m:\u001b[0m\u001b[0;34m\u001b[0m\u001b[0;34m\u001b[0m\u001b[0m\n\u001b[0;32m--> 490\u001b[0;31m                 \u001b[0mhdf5_format\u001b[0m\u001b[0;34m.\u001b[0m\u001b[0mload_weights_from_hdf5_group\u001b[0m\u001b[0;34m(\u001b[0m\u001b[0mf\u001b[0m\u001b[0;34m,\u001b[0m \u001b[0mmodel\u001b[0m\u001b[0;34m)\u001b[0m\u001b[0;34m\u001b[0m\u001b[0;34m\u001b[0m\u001b[0m\n\u001b[0m\u001b[1;32m    491\u001b[0m \u001b[0;34m\u001b[0m\u001b[0m\n\u001b[1;32m    492\u001b[0m     \u001b[0;31m# Perform any layer defined finalization of the layer state.\u001b[0m\u001b[0;34m\u001b[0m\u001b[0;34m\u001b[0m\u001b[0m\n",
            "\u001b[0;32m/usr/local/lib/python3.10/dist-packages/keras/saving/legacy/hdf5_format.py\u001b[0m in \u001b[0;36mload_weights_from_hdf5_group\u001b[0;34m(f, model)\u001b[0m\n\u001b[1;32m    800\u001b[0m     \u001b[0mfiltered_layer_names\u001b[0m \u001b[0;34m=\u001b[0m \u001b[0;34m[\u001b[0m\u001b[0;34m]\u001b[0m\u001b[0;34m\u001b[0m\u001b[0;34m\u001b[0m\u001b[0m\n\u001b[1;32m    801\u001b[0m     \u001b[0;32mfor\u001b[0m \u001b[0mname\u001b[0m \u001b[0;32min\u001b[0m \u001b[0mlayer_names\u001b[0m\u001b[0;34m:\u001b[0m\u001b[0;34m\u001b[0m\u001b[0;34m\u001b[0m\u001b[0m\n\u001b[0;32m--> 802\u001b[0;31m         \u001b[0mg\u001b[0m \u001b[0;34m=\u001b[0m \u001b[0mf\u001b[0m\u001b[0;34m[\u001b[0m\u001b[0mname\u001b[0m\u001b[0;34m]\u001b[0m\u001b[0;34m\u001b[0m\u001b[0;34m\u001b[0m\u001b[0m\n\u001b[0m\u001b[1;32m    803\u001b[0m         \u001b[0mweight_names\u001b[0m \u001b[0;34m=\u001b[0m \u001b[0mload_attributes_from_hdf5_group\u001b[0m\u001b[0;34m(\u001b[0m\u001b[0mg\u001b[0m\u001b[0;34m,\u001b[0m \u001b[0;34m\"weight_names\"\u001b[0m\u001b[0;34m)\u001b[0m\u001b[0;34m\u001b[0m\u001b[0;34m\u001b[0m\u001b[0m\n\u001b[1;32m    804\u001b[0m         \u001b[0;32mif\u001b[0m \u001b[0mweight_names\u001b[0m\u001b[0;34m:\u001b[0m\u001b[0;34m\u001b[0m\u001b[0;34m\u001b[0m\u001b[0m\n",
            "\u001b[0;32mh5py/_objects.pyx\u001b[0m in \u001b[0;36mh5py._objects.with_phil.wrapper\u001b[0;34m()\u001b[0m\n",
            "\u001b[0;32mh5py/_objects.pyx\u001b[0m in \u001b[0;36mh5py._objects.with_phil.wrapper\u001b[0;34m()\u001b[0m\n",
            "\u001b[0;32m/usr/local/lib/python3.10/dist-packages/h5py/_hl/group.py\u001b[0m in \u001b[0;36m__getitem__\u001b[0;34m(self, name)\u001b[0m\n\u001b[1;32m    355\u001b[0m                 \u001b[0;32mraise\u001b[0m \u001b[0mValueError\u001b[0m\u001b[0;34m(\u001b[0m\u001b[0;34m\"Invalid HDF5 object reference\"\u001b[0m\u001b[0;34m)\u001b[0m\u001b[0;34m\u001b[0m\u001b[0;34m\u001b[0m\u001b[0m\n\u001b[1;32m    356\u001b[0m         \u001b[0;32melif\u001b[0m \u001b[0misinstance\u001b[0m\u001b[0;34m(\u001b[0m\u001b[0mname\u001b[0m\u001b[0;34m,\u001b[0m \u001b[0;34m(\u001b[0m\u001b[0mbytes\u001b[0m\u001b[0;34m,\u001b[0m \u001b[0mstr\u001b[0m\u001b[0;34m)\u001b[0m\u001b[0;34m)\u001b[0m\u001b[0;34m:\u001b[0m\u001b[0;34m\u001b[0m\u001b[0;34m\u001b[0m\u001b[0m\n\u001b[0;32m--> 357\u001b[0;31m             \u001b[0moid\u001b[0m \u001b[0;34m=\u001b[0m \u001b[0mh5o\u001b[0m\u001b[0;34m.\u001b[0m\u001b[0mopen\u001b[0m\u001b[0;34m(\u001b[0m\u001b[0mself\u001b[0m\u001b[0;34m.\u001b[0m\u001b[0mid\u001b[0m\u001b[0;34m,\u001b[0m \u001b[0mself\u001b[0m\u001b[0;34m.\u001b[0m\u001b[0m_e\u001b[0m\u001b[0;34m(\u001b[0m\u001b[0mname\u001b[0m\u001b[0;34m)\u001b[0m\u001b[0;34m,\u001b[0m \u001b[0mlapl\u001b[0m\u001b[0;34m=\u001b[0m\u001b[0mself\u001b[0m\u001b[0;34m.\u001b[0m\u001b[0m_lapl\u001b[0m\u001b[0;34m)\u001b[0m\u001b[0;34m\u001b[0m\u001b[0;34m\u001b[0m\u001b[0m\n\u001b[0m\u001b[1;32m    358\u001b[0m         \u001b[0;32melse\u001b[0m\u001b[0;34m:\u001b[0m\u001b[0;34m\u001b[0m\u001b[0;34m\u001b[0m\u001b[0m\n\u001b[1;32m    359\u001b[0m             raise TypeError(\"Accessing a group is done with bytes or str, \"\n",
            "\u001b[0;32mh5py/_objects.pyx\u001b[0m in \u001b[0;36mh5py._objects.with_phil.wrapper\u001b[0;34m()\u001b[0m\n",
            "\u001b[0;32mh5py/_objects.pyx\u001b[0m in \u001b[0;36mh5py._objects.with_phil.wrapper\u001b[0;34m()\u001b[0m\n",
            "\u001b[0;32mh5py/h5o.pyx\u001b[0m in \u001b[0;36mh5py.h5o.open\u001b[0;34m()\u001b[0m\n",
            "\u001b[0;32mh5py/h5i.pyx\u001b[0m in \u001b[0;36mh5py.h5i.wrap_identifier\u001b[0;34m()\u001b[0m\n",
            "\u001b[0;32m/usr/lib/python3.10/importlib/_bootstrap.py\u001b[0m in \u001b[0;36mparent\u001b[0;34m(self)\u001b[0m\n",
            "\u001b[0;31mKeyboardInterrupt\u001b[0m: "
          ]
        }
      ]
    },
    {
      "cell_type": "code",
      "execution_count": null,
      "metadata": {
        "id": "EHSV7y98jm8N"
      },
      "outputs": [],
      "source": [
        "# save_weights(model, '/content/drive/MyDrive/Data/BikePricePredict/test.h5')"
      ]
    },
    {
      "cell_type": "code",
      "execution_count": null,
      "metadata": {
        "id": "iTUBE4O8hvpU"
      },
      "outputs": [],
      "source": [
        "# model = make_model(base_model, '/content/drive/MyDrive/Data/BikePricePredict/test.h5')"
      ]
    },
    {
      "cell_type": "code",
      "execution_count": null,
      "metadata": {
        "id": "4dZHqoOYpAKQ"
      },
      "outputs": [],
      "source": [
        "model.compile(optimizer=tf.keras.optimizers.Adam(learning_rate=0.0001, ), # beta1, beta2, weight_decay\n",
        "                loss=tf.keras.losses.MeanSquaredError(),\n",
        "                metrics=['mse']\n",
        "              )"
      ]
    },
    {
      "cell_type": "code",
      "execution_count": 28,
      "metadata": {
        "id": "JPwM_VD7pEzw"
      },
      "outputs": [],
      "source": [
        "import pandas as pd\n",
        "def fit(model, batch_size , epochs, save_after_epochs, start_epoch_num, lr, unfreeze_start,  custom_tag='', dir=DRIVE_FOLDER):\n",
        "  model.compile(optimizer=tf.keras.optimizers.Adam(learning_rate=lr, ), # beta1, beta2, weight_decay\n",
        "                loss=tf.keras.losses.MeanSquaredError(),\n",
        "                metrics=['mse']\n",
        "              )\n",
        "  for ep in range(0, epochs, save_after_epochs):\n",
        "    print(f'fit {ep+start_epoch_num}')\n",
        "    with tf.device('/GPU:0'):\n",
        "\n",
        "        history = model.fit(dataset.batch(batch_size), epochs=save_after_epochs)\n",
        "\n",
        "\n",
        "    # Convert the history to a Pandas DataFrame\n",
        "    history_df = pd.DataFrame(history.history)\n",
        "\n",
        "    # Save the history to a CSV file\n",
        "    history_df.to_csv(dir+f'history_unfr{str(unfreeze_start)}_bs{str(batch_size)}_lr{str(lr)}_{custom_tag}_ep{str(ep+start_epoch_num)}.csv', index=False)\n",
        "    save_weights(model, dir+f'weights_unfr{str(unfreeze_start)}_bs{str(batch_size)}_lr{str(lr)}_{custom_tag}_ep{str(ep+start_epoch_num)}.h5')\n",
        "    "
      ]
    },
    {
      "cell_type": "code",
      "execution_count": null,
      "metadata": {
        "colab": {
          "base_uri": "https://localhost:8080/"
        },
        "id": "p5_YdTAApLGk",
        "outputId": "d3cdf663-f061-4b28-9ed3-4445d8ae75fd"
      },
      "outputs": [
        {
          "output_type": "stream",
          "name": "stdout",
          "text": [
            "fit 0\n",
            "Epoch 1/10\n",
            "958/958 [==============================] - 358s 369ms/step - loss: 6752008.5000 - mse: 6752008.5000\n",
            "Epoch 2/10\n",
            "958/958 [==============================] - 349s 364ms/step - loss: 5519563.0000 - mse: 5519563.0000\n",
            "Epoch 3/10\n",
            "958/958 [==============================] - 349s 364ms/step - loss: 4725853.5000 - mse: 4725853.5000\n",
            "Epoch 4/10\n",
            "958/958 [==============================] - 349s 365ms/step - loss: 4251818.0000 - mse: 4251818.0000\n",
            "Epoch 5/10\n",
            "958/958 [==============================] - 348s 363ms/step - loss: 3989927.2500 - mse: 3989927.2500\n",
            "Epoch 6/10\n",
            "958/958 [==============================] - 346s 361ms/step - loss: 3867204.7500 - mse: 3867204.7500\n",
            "Epoch 7/10\n",
            "958/958 [==============================] - 344s 359ms/step - loss: 3783550.5000 - mse: 3783550.5000\n",
            "Epoch 8/10\n",
            "958/958 [==============================] - 347s 362ms/step - loss: 3730982.5000 - mse: 3730982.5000\n",
            "Epoch 9/10\n",
            "958/958 [==============================] - 346s 362ms/step - loss: 3692649.2500 - mse: 3692649.2500\n",
            "Epoch 10/10\n",
            "958/958 [==============================] - 345s 360ms/step - loss: 3641469.7500 - mse: 3641469.7500\n",
            "fit 10\n",
            "Epoch 1/10\n",
            "958/958 [==============================] - 346s 361ms/step - loss: 3602017.2500 - mse: 3602017.2500\n",
            "Epoch 2/10\n",
            "958/958 [==============================] - 343s 358ms/step - loss: 3560254.0000 - mse: 3560254.0000\n",
            "Epoch 3/10\n",
            "958/958 [==============================] - 346s 361ms/step - loss: 3519655.2500 - mse: 3519655.2500\n",
            "Epoch 4/10\n",
            "958/958 [==============================] - 350s 365ms/step - loss: 3481891.2500 - mse: 3481891.2500\n",
            "Epoch 5/10\n",
            "958/958 [==============================] - 365s 380ms/step - loss: 3446173.2500 - mse: 3446173.2500\n",
            "Epoch 6/10\n",
            "958/958 [==============================] - 356s 372ms/step - loss: 3413918.0000 - mse: 3413918.0000\n",
            "Epoch 7/10\n",
            "740/958 [======================>.......] - ETA: 1:18 - loss: 3407737.0000 - mse: 3407737.0000"
          ]
        }
      ],
      "source": [
        "fit(model, batch_size=32, epochs=100000, save_after_epochs=10, start_epoch_num=0, lr=0.001, unfreeze_start = unfreeze_start, custom_tag='30k256Glorot')"
      ]
    },
    {
      "cell_type": "code",
      "source": [],
      "metadata": {
        "id": "k8VMoJ_1lxLe"
      },
      "execution_count": null,
      "outputs": []
    },
    {
      "cell_type": "code",
      "source": [
        "ww"
      ],
      "metadata": {
        "id": "ftyL_-h2lv8v"
      },
      "execution_count": null,
      "outputs": []
    },
    {
      "cell_type": "code",
      "source": [
        "import os\n",
        "import numpy as np\n",
        "import matplotlib.pyplot as plt\n",
        "import pandas as pd\n",
        "\n",
        "def plot_loss(unfrozen_layers, lr:str, batch_size=None, minus_epochstart=0, custom_tag=None):\n",
        "  y = []\n",
        "  x = []\n",
        "  for file in os.listdir(DRIVE_FOLDER):\n",
        "    if 'unfr'+str(unfrozen_layers) in file and 'lr'+str(lr) in file and 'history' in file:\n",
        "      if batch_size is not None:\n",
        "        if 'bs'+str(batch_size) not in file:\n",
        "          continue\n",
        "      if custom_tag is not None:\n",
        "        if custom_tag not in file:\n",
        "          continue\n",
        "\n",
        "      epochstart = file.split('ep')[-1].replace('.csv','')\n",
        "      losses = pd.read_csv(DRIVE_FOLDER+file)['loss'].tolist() \n",
        "      xi = list(np.arange(len(losses)) +int(epochstart) - minus_epochstart)\n",
        "      y += losses\n",
        "      x += xi\n",
        "  plt.title(f'RESNET v2: Bike Price Regression: 5000 vs 7100 training data')\n",
        "  \n",
        "  label = f'lr:{lr}, bs:{batch_size}, unfr.lay.{unfrozen_layers},  {custom_tag if custom_tag is not None else \"\"}'\n",
        "  plt.scatter(x, y, s = np.ones(len(y)), label=label)\n",
        "  plt.legend()\n",
        "\n",
        "\n",
        "  \n",
        "\n",
        "\n",
        "\n"
      ],
      "metadata": {
        "id": "F-TiV5SuEC9E"
      },
      "execution_count": 3,
      "outputs": []
    },
    {
      "cell_type": "code",
      "source": [
        "(\n",
        "\n",
        "\n",
        "plot_loss(163, '0.001', batch_size=32, custom_tag='moredata'),\n",
        "plot_loss(163, '0.001', batch_size=32, custom_tag='20k256'),\n",
        "plot_loss(163, '0.001', batch_size=32, custom_tag='30k256'),\n",
        "plot_loss(0, '0.001', batch_size=32, custom_tag='30k256Glorot')\n",
        ")\n",
        "\n",
        "plt.savefig(DRIVE_FOLDER+'effect_of_more_data20kvs30k.png')"
      ],
      "metadata": {
        "id": "RgsE2V83Vnpv",
        "outputId": "d493f522-f707-456e-f31d-4a3983b99586",
        "colab": {
          "base_uri": "https://localhost:8080/",
          "height": 467
        }
      },
      "execution_count": 5,
      "outputs": [
        {
          "output_type": "display_data",
          "data": {
            "text/plain": [
              "<Figure size 640x480 with 1 Axes>"
            ],
            "image/png": "[encoded data removed]"
          },
          "metadata": {}
        }
      ]
    },
    {
      "cell_type": "code",
      "source": [
        "next(dataset.take(1).as_numpy)"
      ],
      "metadata": {
        "id": "65jx-zLf4UYp"
      },
      "execution_count": null,
      "outputs": []
    },
    {
      "cell_type": "code",
      "source": [
        "# best lr 0.001, best bs 32 (128, 32)\n",
        "# 88 vs 163 (first pos of unfreeze) does not make a big difference"
      ],
      "metadata": {
        "id": "dsegoXk3T_oV"
      },
      "execution_count": null,
      "outputs": []
    },
    {
      "cell_type": "code",
      "execution_count": null,
      "metadata": {
        "id": "VuNLgYXYKmPT"
      },
      "outputs": [],
      "source": [
        "\n",
        "\n",
        "\n",
        "# train model, specify batch size\n",
        "batch_size = 128\n",
        "epochs = 50\n",
        "if colab:\n",
        "  with tf.device('/GPU:0'):\n",
        "      history = model.fit(dataset.batch(batch_size), epochs=epochs)\n",
        "else:\n",
        "  history = model.fit(dataset.batch(batch_size), epochs=epochs)\n",
        "\n",
        "# plot history\n",
        "import matplotlib.pyplot as plt\n",
        "plt.plot(history.history['loss'])"
      ]
    },
    {
      "cell_type": "code",
      "execution_count": null,
      "metadata": {
        "id": "y_v2aeJLKmPU"
      },
      "outputs": [],
      "source": [
        "# visualize part of the image which contributed most to the prediction\n",
        "def visualize_heatmap(model, image):\n",
        "    # get prediction\n",
        "    prediction = model.predict(image[np.newaxis, ...])[0]\n",
        "    # get gradient\n",
        "    with tf.GradientTape() as tape:\n",
        "        # cast image to float32\n",
        "        inputs = tf.cast(image[np.newaxis, ...], tf.float32)\n",
        "        # watch the input pixels\n",
        "        tape.watch(inputs)\n",
        "        # get the predictions\n",
        "        predictions = model(inputs)\n",
        "      \n",
        "    print(predictions.shape)\n",
        "    # get the gradient of the loss with respect to the inputs\n",
        "    gradients = tape.gradient(predictions, inputs)\n",
        "    # get the mean gradient across the channels\n",
        "    gradient = tf.reduce_mean(gradients, axis=(0, 3))\n",
        "    # get the mean prediction across the channels\n",
        "    prediction = predictions#tf.reduce_mean(predictions, axis=3)[0]\n",
        "    # scale the prediction\n",
        "    prediction /= tf.reduce_max(prediction)\n",
        "    # scale the gradient\n",
        "    gradient /= tf.reduce_max(gradient)\n",
        "    # upsample the prediction and the gradient\n",
        "    prediction = tf.image.resize(prediction, [256, 256])\n",
        "    gradient = tf.image.resize(gradient, [256, 256])\n",
        "    # convert to numpy\n",
        "    prediction = prediction.numpy()\n",
        "    gradient = gradient.numpy()\n",
        "    # plot the prediction and the gradient\n",
        "    plt.figure(figsize=(10, 10))\n",
        "    plt.subplot(1, 2, 1)\n",
        "    plt.imshow(image)\n",
        "    plt.imshow(prediction, cmap='jet', alpha=0.5)\n",
        "    plt.axis('off')\n",
        "    plt.subplot(1, 2, 2)\n",
        "    plt.imshow(image)\n",
        "    plt.imshow(gradient, cmap='jet', alpha=0.5)\n",
        "    plt.axis('off')\n",
        "    plt.show()\n",
        "\n",
        "visualize_heatmap(model, x)"
      ]
    }
  ],
  "metadata": {
    "accelerator": "GPU",
    "colab": {
      "gpuType": "T4",
      "provenance": []
    },
    "gpuClass": "standard",
    "kernelspec": {
      "display_name": "base",
      "language": "python",
      "name": "python3"
    },
    "language_info": {
      "codemirror_mode": {
        "name": "ipython",
        "version": 3
      },
      "file_extension": ".py",
      "mimetype": "text/x-python",
      "name": "python",
      "nbconvert_exporter": "python",
      "pygments_lexer": "ipython3",
      "version": "3.10.8"
    },
    "orig_nbformat": 4
  },
  "nbformat": 4,
  "nbformat_minor": 0
}